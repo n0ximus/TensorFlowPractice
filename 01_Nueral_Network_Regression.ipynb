{
  "nbformat": 4,
  "nbformat_minor": 0,
  "metadata": {
    "colab": {
      "name": "01_Nueral_Network_Regression.ipynb",
      "provenance": [],
      "collapsed_sections": [],
      "authorship_tag": "ABX9TyOvnhyUKFggVx4RFIC95050",
      "include_colab_link": true
    },
    "kernelspec": {
      "name": "python3",
      "display_name": "Python 3"
    },
    "language_info": {
      "name": "python"
    }
  },
  "cells": [
    {
      "cell_type": "markdown",
      "metadata": {
        "id": "view-in-github",
        "colab_type": "text"
      },
      "source": [
        "<a href=\"https://colab.research.google.com/github/n0ximus/TensorFlowPractice/blob/main/01_Nueral_Network_Regression.ipynb\" target=\"_parent\"><img src=\"https://colab.research.google.com/assets/colab-badge.svg\" alt=\"Open In Colab\"/></a>"
      ]
    },
    {
      "cell_type": "markdown",
      "source": [
        "## what is a regression problem\n",
        "## regression I/O\n",
        "input - numerical encoding\n",
        "output- predicted output\n",
        "\n",
        "I/O shapes \n",
        "example)\n",
        "inputshape = [3] -> ML algo -> outputshape=[1]\n",
        "\n",
        "Architecuture of Regression Model\n",
        "- input layer shape = same shape as a # of features \n",
        "- hidden layer(s) = problem specific, minimum = 1, maximum = unlimited\n",
        "neurons per hidden layer = problem specific (generally between 10 and 100)\n",
        "output layer shape = same shape as desired prediction shape \n",
        "hidden activation = usually rectified linear unit \n",
        "output activation = none, logistic/tanh\n",
        "loss function = MSE (mean square error) and MAE (mean absolute error)/Huber (combination of MAE/MSE) if outliers\n",
        "optimizer = SGD (stochastic gradient descent), Adam"
      ],
      "metadata": {
        "id": "KQg1hQEA1Hrl"
      }
    },
    {
      "cell_type": "markdown",
      "source": [
        "# intro to regresion with neural networks in TF\n",
        "regression - predicting a numerical variable based on some other combination of variables"
      ],
      "metadata": {
        "id": "kh5z80iCkCL4"
      }
    },
    {
      "cell_type": "code",
      "source": [
        "import tensorflow as tf \n",
        "# creating data to view and fit \n",
        "import numpy as np\n",
        "import matplotlib.pyplot as plt\n",
        "\n",
        "# create features \n",
        "X = np.array([-7.0, -4.0, -1.0, 2.0, 5.0, 8.0, 11.0, 14.0])\n",
        "\n",
        "# create labels\n",
        "y = np.array([3.0, 6.0, 9.0, 12.0, 15.0, 18.0, 21.0, 24.0])\n",
        "\n",
        "# visualize it\n",
        "plt.scatter(X, y);"
      ],
      "metadata": {
        "colab": {
          "base_uri": "https://localhost:8080/",
          "height": 269
        },
        "id": "DzJU5cvOkyxe",
        "outputId": "7a1d83aa-7324-4ec8-eb4f-5762f0c90a7a"
      },
      "execution_count": null,
      "outputs": [
        {
          "output_type": "display_data",
          "data": {
            "text/plain": [
              "<Figure size 432x288 with 1 Axes>"
            ],
            "image/png": "[encoded data removed]"
          },
          "metadata": {
            "needs_background": "light"
          }
        }
      ]
    },
    {
      "cell_type": "code",
      "source": [
        "# input and output shapes \n",
        "# create demo tensor for housing price prediction problem\n",
        "house_info = tf.constant([\"bedroom\", \"bathroom\", \"garage\"])\n",
        "house_price = tf.constant(([939700]))\n",
        "house_info, house_price"
      ],
      "metadata": {
        "colab": {
          "base_uri": "https://localhost:8080/"
        },
        "id": "kcEz6t-6mEXg",
        "outputId": "9a504ffa-8341-452c-abb7-e1278d9c8767"
      },
      "execution_count": null,
      "outputs": [
        {
          "output_type": "execute_result",
          "data": {
            "text/plain": [
              "(<tf.Tensor: shape=(3,), dtype=string, numpy=array([b'bedroom', b'bathroom', b'garage'], dtype=object)>,\n",
              " <tf.Tensor: shape=(1,), dtype=int32, numpy=array([939700], dtype=int32)>)"
            ]
          },
          "metadata": {},
          "execution_count": 2
        }
      ]
    },
    {
      "cell_type": "code",
      "source": [
        "input_shape = X[0].shape\n",
        "output_shape = y[0].shape\n",
        "input_shape, output_shape"
      ],
      "metadata": {
        "colab": {
          "base_uri": "https://localhost:8080/"
        },
        "id": "Yr-COJiUmwtD",
        "outputId": "3a47080c-896a-4532-dbb6-d0730bf89f36"
      },
      "execution_count": null,
      "outputs": [
        {
          "output_type": "execute_result",
          "data": {
            "text/plain": [
              "((), ())"
            ]
          },
          "metadata": {},
          "execution_count": 3
        }
      ]
    },
    {
      "cell_type": "code",
      "source": [
        "X[0].ndim"
      ],
      "metadata": {
        "colab": {
          "base_uri": "https://localhost:8080/"
        },
        "id": "d2NT5KB2nCNJ",
        "outputId": "971f92a5-c753-49d9-b6cd-dc6765edf728"
      },
      "execution_count": null,
      "outputs": [
        {
          "output_type": "execute_result",
          "data": {
            "text/plain": [
              "0"
            ]
          },
          "metadata": {},
          "execution_count": 4
        }
      ]
    },
    {
      "cell_type": "code",
      "source": [
        "# turn numpy arrays into tensors\n",
        "X = tf.cast(tf.constant(X),dtype=tf.float32)\n",
        "y = tf.cast(tf.constant(y),dtype=tf.float32)\n",
        "\n",
        "X, y"
      ],
      "metadata": {
        "colab": {
          "base_uri": "https://localhost:8080/"
        },
        "id": "LFLo0in7nOBb",
        "outputId": "120b1c58-e5f2-4fd9-cc12-87b3516ed901"
      },
      "execution_count": null,
      "outputs": [
        {
          "output_type": "execute_result",
          "data": {
            "text/plain": [
              "(<tf.Tensor: shape=(8,), dtype=float32, numpy=array([-7., -4., -1.,  2.,  5.,  8., 11., 14.], dtype=float32)>,\n",
              " <tf.Tensor: shape=(8,), dtype=float32, numpy=array([ 3.,  6.,  9., 12., 15., 18., 21., 24.], dtype=float32)>)"
            ]
          },
          "metadata": {},
          "execution_count": 5
        }
      ]
    },
    {
      "cell_type": "code",
      "source": [
        "input_shape = X[0].shape\n",
        "output_shape = y[0].shape\n",
        "input_shape, output_shape"
      ],
      "metadata": {
        "colab": {
          "base_uri": "https://localhost:8080/"
        },
        "id": "xzgQzFLZnWui",
        "outputId": "9d0458bb-9b1e-485e-bee1-d6ddf6b83500"
      },
      "execution_count": null,
      "outputs": [
        {
          "output_type": "execute_result",
          "data": {
            "text/plain": [
              "(TensorShape([]), TensorShape([]))"
            ]
          },
          "metadata": {},
          "execution_count": 6
        }
      ]
    },
    {
      "cell_type": "markdown",
      "source": [
        "## steps in modelling with TF\n",
        "1. creating a model - define I/O layers and hidden layers of a deep learning model\n",
        "2. compile a model - define the loss function (function that tells our model how wrong it is) and the optimizer (tells our model how to improve the patterns it is learning) and evaluation metrics (what we can use to interpret the performance of our model) \n",
        "3. Fitting the model - letting the model try to find patterns between X & y (features anf labels)"
      ],
      "metadata": {
        "id": "TEvxncyxnhtp"
      }
    },
    {
      "cell_type": "code",
      "source": [
        "plt.scatter(X,y)"
      ],
      "metadata": {
        "colab": {
          "base_uri": "https://localhost:8080/",
          "height": 286
        },
        "id": "QslJoQits8mt",
        "outputId": "c50deaac-294f-4e7a-b2a3-09a0e501c633"
      },
      "execution_count": null,
      "outputs": [
        {
          "output_type": "execute_result",
          "data": {
            "text/plain": [
              "<matplotlib.collections.PathCollection at 0x7fef3c4f1310>"
            ]
          },
          "metadata": {},
          "execution_count": 7
        },
        {
          "output_type": "display_data",
          "data": {
            "text/plain": [
              "<Figure size 432x288 with 1 Axes>"
            ],
            "image/png": "[encoded data removed]"
          },
          "metadata": {
            "needs_background": "light"
          }
        }
      ]
    },
    {
      "cell_type": "code",
      "source": [
        "# optinally, first layer can recieve input shape arg\n",
        "model = tf.keras.Sequential()\n",
        "model.add(tf.keras.layers.Dense(8, input_shape=(16,)))\n",
        "\n",
        "# automatic shape inference\n",
        "model.add(tf.keras.layers.Dense(4))\n",
        "model = tf.keras.Sequential()\n",
        "\n",
        "model.add(tf.keras.layers.Dense(8, input_shape=1))\n",
        "\n",
        "... \n",
        "model = tf.keras.Sequential()\n",
        "model.add(tf.keras.layers.Dense(1))\n"
      ],
      "metadata": {
        "colab": {
          "base_uri": "https://localhost:8080/",
          "height": 397
        },
        "id": "r5w97OaRp9nG",
        "outputId": "0830027c-1f30-401e-d08a-7894ae8075d9"
      },
      "execution_count": null,
      "outputs": [
        {
          "output_type": "error",
          "ename": "TypeError",
          "evalue": "ignored",
          "traceback": [
            "\u001b[0;31m---------------------------------------------------------------------------\u001b[0m",
            "\u001b[0;31mTypeError\u001b[0m                                 Traceback (most recent call last)",
            "\u001b[0;32m<ipython-input-8-ecd0954de434>\u001b[0m in \u001b[0;36m<module>\u001b[0;34m()\u001b[0m\n\u001b[1;32m      7\u001b[0m \u001b[0mmodel\u001b[0m \u001b[0;34m=\u001b[0m \u001b[0mtf\u001b[0m\u001b[0;34m.\u001b[0m\u001b[0mkeras\u001b[0m\u001b[0;34m.\u001b[0m\u001b[0mSequential\u001b[0m\u001b[0;34m(\u001b[0m\u001b[0;34m)\u001b[0m\u001b[0;34m\u001b[0m\u001b[0;34m\u001b[0m\u001b[0m\n\u001b[1;32m      8\u001b[0m \u001b[0;34m\u001b[0m\u001b[0m\n\u001b[0;32m----> 9\u001b[0;31m \u001b[0mmodel\u001b[0m\u001b[0;34m.\u001b[0m\u001b[0madd\u001b[0m\u001b[0;34m(\u001b[0m\u001b[0mtf\u001b[0m\u001b[0;34m.\u001b[0m\u001b[0mkeras\u001b[0m\u001b[0;34m.\u001b[0m\u001b[0mlayers\u001b[0m\u001b[0;34m.\u001b[0m\u001b[0mDense\u001b[0m\u001b[0;34m(\u001b[0m\u001b[0;36m8\u001b[0m\u001b[0;34m,\u001b[0m \u001b[0minput_shape\u001b[0m\u001b[0;34m=\u001b[0m\u001b[0;36m1\u001b[0m\u001b[0;34m)\u001b[0m\u001b[0;34m)\u001b[0m\u001b[0;34m\u001b[0m\u001b[0;34m\u001b[0m\u001b[0m\n\u001b[0m\u001b[1;32m     10\u001b[0m \u001b[0;34m\u001b[0m\u001b[0m\n\u001b[1;32m     11\u001b[0m \u001b[0;34m...\u001b[0m\u001b[0;34m\u001b[0m\u001b[0;34m\u001b[0m\u001b[0m\n",
            "\u001b[0;32m/usr/local/lib/python3.7/dist-packages/keras/layers/core/dense.py\u001b[0m in \u001b[0;36m__init__\u001b[0;34m(self, units, activation, use_bias, kernel_initializer, bias_initializer, kernel_regularizer, bias_regularizer, activity_regularizer, kernel_constraint, bias_constraint, **kwargs)\u001b[0m\n\u001b[1;32m    110\u001b[0m                **kwargs):\n\u001b[1;32m    111\u001b[0m     super(Dense, self).__init__(\n\u001b[0;32m--> 112\u001b[0;31m         activity_regularizer=activity_regularizer, **kwargs)\n\u001b[0m\u001b[1;32m    113\u001b[0m \u001b[0;34m\u001b[0m\u001b[0m\n\u001b[1;32m    114\u001b[0m     \u001b[0mself\u001b[0m\u001b[0;34m.\u001b[0m\u001b[0munits\u001b[0m \u001b[0;34m=\u001b[0m \u001b[0mint\u001b[0m\u001b[0;34m(\u001b[0m\u001b[0munits\u001b[0m\u001b[0;34m)\u001b[0m \u001b[0;32mif\u001b[0m \u001b[0;32mnot\u001b[0m \u001b[0misinstance\u001b[0m\u001b[0;34m(\u001b[0m\u001b[0munits\u001b[0m\u001b[0;34m,\u001b[0m \u001b[0mint\u001b[0m\u001b[0;34m)\u001b[0m \u001b[0;32melse\u001b[0m \u001b[0munits\u001b[0m\u001b[0;34m\u001b[0m\u001b[0;34m\u001b[0m\u001b[0m\n",
            "\u001b[0;32m/usr/local/lib/python3.7/dist-packages/tensorflow/python/training/tracking/base.py\u001b[0m in \u001b[0;36m_method_wrapper\u001b[0;34m(self, *args, **kwargs)\u001b[0m\n\u001b[1;32m    627\u001b[0m     \u001b[0mself\u001b[0m\u001b[0;34m.\u001b[0m\u001b[0m_self_setattr_tracking\u001b[0m \u001b[0;34m=\u001b[0m \u001b[0;32mFalse\u001b[0m  \u001b[0;31m# pylint: disable=protected-access\u001b[0m\u001b[0;34m\u001b[0m\u001b[0;34m\u001b[0m\u001b[0m\n\u001b[1;32m    628\u001b[0m     \u001b[0;32mtry\u001b[0m\u001b[0;34m:\u001b[0m\u001b[0;34m\u001b[0m\u001b[0;34m\u001b[0m\u001b[0m\n\u001b[0;32m--> 629\u001b[0;31m       \u001b[0mresult\u001b[0m \u001b[0;34m=\u001b[0m \u001b[0mmethod\u001b[0m\u001b[0;34m(\u001b[0m\u001b[0mself\u001b[0m\u001b[0;34m,\u001b[0m \u001b[0;34m*\u001b[0m\u001b[0margs\u001b[0m\u001b[0;34m,\u001b[0m \u001b[0;34m**\u001b[0m\u001b[0mkwargs\u001b[0m\u001b[0;34m)\u001b[0m\u001b[0;34m\u001b[0m\u001b[0;34m\u001b[0m\u001b[0m\n\u001b[0m\u001b[1;32m    630\u001b[0m     \u001b[0;32mfinally\u001b[0m\u001b[0;34m:\u001b[0m\u001b[0;34m\u001b[0m\u001b[0;34m\u001b[0m\u001b[0m\n\u001b[1;32m    631\u001b[0m       \u001b[0mself\u001b[0m\u001b[0;34m.\u001b[0m\u001b[0m_self_setattr_tracking\u001b[0m \u001b[0;34m=\u001b[0m \u001b[0mprevious_value\u001b[0m  \u001b[0;31m# pylint: disable=protected-access\u001b[0m\u001b[0;34m\u001b[0m\u001b[0;34m\u001b[0m\u001b[0m\n",
            "\u001b[0;32m/usr/local/lib/python3.7/dist-packages/keras/engine/base_layer.py\u001b[0m in \u001b[0;36m__init__\u001b[0;34m(self, trainable, name, dtype, dynamic, **kwargs)\u001b[0m\n\u001b[1;32m    441\u001b[0m         \u001b[0;32melse\u001b[0m\u001b[0;34m:\u001b[0m\u001b[0;34m\u001b[0m\u001b[0;34m\u001b[0m\u001b[0m\n\u001b[1;32m    442\u001b[0m           \u001b[0mbatch_size\u001b[0m \u001b[0;34m=\u001b[0m \u001b[0;32mNone\u001b[0m\u001b[0;34m\u001b[0m\u001b[0;34m\u001b[0m\u001b[0m\n\u001b[0;32m--> 443\u001b[0;31m         \u001b[0mbatch_input_shape\u001b[0m \u001b[0;34m=\u001b[0m \u001b[0;34m(\u001b[0m\u001b[0mbatch_size\u001b[0m\u001b[0;34m,\u001b[0m\u001b[0;34m)\u001b[0m \u001b[0;34m+\u001b[0m \u001b[0mtuple\u001b[0m\u001b[0;34m(\u001b[0m\u001b[0mkwargs\u001b[0m\u001b[0;34m[\u001b[0m\u001b[0;34m'input_shape'\u001b[0m\u001b[0;34m]\u001b[0m\u001b[0;34m)\u001b[0m\u001b[0;34m\u001b[0m\u001b[0;34m\u001b[0m\u001b[0m\n\u001b[0m\u001b[1;32m    444\u001b[0m       \u001b[0mself\u001b[0m\u001b[0;34m.\u001b[0m\u001b[0m_batch_input_shape\u001b[0m \u001b[0;34m=\u001b[0m \u001b[0mbatch_input_shape\u001b[0m\u001b[0;34m\u001b[0m\u001b[0;34m\u001b[0m\u001b[0m\n\u001b[1;32m    445\u001b[0m \u001b[0;34m\u001b[0m\u001b[0m\n",
            "\u001b[0;31mTypeError\u001b[0m: 'int' object is not iterable"
          ]
        }
      ]
    },
    {
      "cell_type": "code",
      "source": [
        "# set a random seed \n",
        "tf.random.set_seed(42)\n",
        "\n",
        "# 1. Create a model using a sequential API\n",
        "model = tf.keras.Sequential([\n",
        "  tf.keras.layers.Input(shape=(1,)),\n",
        "  tf.keras.layers.Dense(1)                \n",
        "])\n",
        "\n",
        "# 2. Compile the model\n",
        "# mae - mean abs error\n",
        "# sgd - stochasitc gradient descent\n",
        "\n",
        "model.compile(loss = tf.keras.losses.mae,\n",
        "              optimizer = tf.keras.optimizers.SGD(),\n",
        "              metrics=[\"mae\"])\n",
        "\n",
        "#3. Fit model\n",
        "model.fit(X, y ,epochs=5)"
      ],
      "metadata": {
        "colab": {
          "base_uri": "https://localhost:8080/"
        },
        "id": "9T4IVb5KoO1x",
        "outputId": "9d7f1616-8d17-4bab-8776-0555d967181e"
      },
      "execution_count": null,
      "outputs": [
        {
          "output_type": "stream",
          "name": "stdout",
          "text": [
            "Epoch 1/5\n",
            "1/1 [==============================] - 1s 552ms/step - loss: 11.5048 - mae: 11.5048\n",
            "Epoch 2/5\n",
            "1/1 [==============================] - 0s 7ms/step - loss: 11.3723 - mae: 11.3723\n",
            "Epoch 3/5\n",
            "1/1 [==============================] - 0s 7ms/step - loss: 11.2398 - mae: 11.2398\n",
            "Epoch 4/5\n",
            "1/1 [==============================] - 0s 7ms/step - loss: 11.1073 - mae: 11.1073\n",
            "Epoch 5/5\n",
            "1/1 [==============================] - 0s 7ms/step - loss: 10.9748 - mae: 10.9748\n"
          ]
        },
        {
          "output_type": "execute_result",
          "data": {
            "text/plain": [
              "<keras.callbacks.History at 0x7fef3810f410>"
            ]
          },
          "metadata": {},
          "execution_count": 9
        }
      ]
    },
    {
      "cell_type": "code",
      "source": [
        "# making prediction with model \n",
        "ypred = model.predict([17.0])\n",
        "ypred "
      ],
      "metadata": {
        "colab": {
          "base_uri": "https://localhost:8080/"
        },
        "id": "ze7310QwvFJL",
        "outputId": "79352cbb-6508-4159-d50f-f656eeb8265f"
      },
      "execution_count": null,
      "outputs": [
        {
          "output_type": "execute_result",
          "data": {
            "text/plain": [
              "array([[12.716021]], dtype=float32)"
            ]
          },
          "metadata": {},
          "execution_count": 10
        }
      ]
    },
    {
      "cell_type": "markdown",
      "source": [
        "![Capture.PNG](data:image/png;base64,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)"
      ],
      "metadata": {
        "id": "wPEuORLHv6Dj"
      }
    },
    {
      "cell_type": "markdown",
      "source": [
        "## improving our model\n",
        "1. creating a model - we may had more layers, increase the number of hidden units (all called neurons) within each of the hidden layers, change the activation functions of each layer\n",
        "2. compiling a model - change the optimization functions or perhaps the learning rate of the optimization function\n",
        "3. fitting a model - fit a model for more epochs (leaving it to train longer) or more data (give the model more examples to learn from)\n",
        "\n",
        "NOTE: Doing too much could OVERFIT the data, resulting in worse results. So we need a good balance of improvement."
      ],
      "metadata": {
        "id": "KXh-cDWAvZur"
      }
    },
    {
      "cell_type": "code",
      "source": [
        "# set a random seed \n",
        "tf.random.set_seed(42)\n",
        "\n",
        "# 1. Create a model using a sequential API\n",
        "model = tf.keras.Sequential([\n",
        "  tf.keras.layers.Input(shape=(1,)),\n",
        "  tf.keras.layers.Dense(50, activation=\"relu\"),\n",
        "    tf.keras.layers.Dense(1)             \n",
        "            \n",
        "])\n",
        "\n",
        "# 2. Compile the model\n",
        "# mae - mean abs error\n",
        "# sgd - stochasitc gradient descent\n",
        "\n",
        "model.compile(loss = tf.keras.losses.mae,\n",
        "              optimizer = tf.keras.optimizers.Adam(lr=0.01),\n",
        "              metrics=[\"mae\"])\n",
        "\n",
        "#3. Fit model\n",
        "model.fit(X, y ,epochs=100)"
      ],
      "metadata": {
        "colab": {
          "base_uri": "https://localhost:8080/"
        },
        "outputId": "89e73525-2b56-4b9e-c38b-7df52feb1b98",
        "id": "HcxONmk-xxsy"
      },
      "execution_count": null,
      "outputs": [
        {
          "output_type": "stream",
          "name": "stdout",
          "text": [
            "Epoch 1/100\n"
          ]
        },
        {
          "output_type": "stream",
          "name": "stderr",
          "text": [
            "/usr/local/lib/python3.7/dist-packages/keras/optimizer_v2/adam.py:105: UserWarning: The `lr` argument is deprecated, use `learning_rate` instead.\n",
            "  super(Adam, self).__init__(name, **kwargs)\n"
          ]
        },
        {
          "output_type": "stream",
          "name": "stdout",
          "text": [
            "1/1 [==============================] - 0s 401ms/step - loss: 11.9988 - mae: 11.9988\n",
            "Epoch 2/100\n",
            "1/1 [==============================] - 0s 8ms/step - loss: 11.3689 - mae: 11.3689\n",
            "Epoch 3/100\n",
            "1/1 [==============================] - 0s 11ms/step - loss: 10.7369 - mae: 10.7369\n",
            "Epoch 4/100\n",
            "1/1 [==============================] - 0s 9ms/step - loss: 10.1021 - mae: 10.1021\n",
            "Epoch 5/100\n",
            "1/1 [==============================] - 0s 8ms/step - loss: 9.5563 - mae: 9.5563\n",
            "Epoch 6/100\n",
            "1/1 [==============================] - 0s 8ms/step - loss: 9.0396 - mae: 9.0396\n",
            "Epoch 7/100\n",
            "1/1 [==============================] - 0s 7ms/step - loss: 8.5056 - mae: 8.5056\n",
            "Epoch 8/100\n",
            "1/1 [==============================] - 0s 8ms/step - loss: 7.9525 - mae: 7.9525\n",
            "Epoch 9/100\n",
            "1/1 [==============================] - 0s 8ms/step - loss: 7.3796 - mae: 7.3796\n",
            "Epoch 10/100\n",
            "1/1 [==============================] - 0s 7ms/step - loss: 6.7852 - mae: 6.7852\n",
            "Epoch 11/100\n",
            "1/1 [==============================] - 0s 6ms/step - loss: 6.1688 - mae: 6.1688\n",
            "Epoch 12/100\n",
            "1/1 [==============================] - 0s 7ms/step - loss: 5.5343 - mae: 5.5343\n",
            "Epoch 13/100\n",
            "1/1 [==============================] - 0s 7ms/step - loss: 4.8755 - mae: 4.8755\n",
            "Epoch 14/100\n",
            "1/1 [==============================] - 0s 7ms/step - loss: 4.1883 - mae: 4.1883\n",
            "Epoch 15/100\n",
            "1/1 [==============================] - 0s 7ms/step - loss: 3.8403 - mae: 3.8403\n",
            "Epoch 16/100\n",
            "1/1 [==============================] - 0s 8ms/step - loss: 3.7901 - mae: 3.7901\n",
            "Epoch 17/100\n",
            "1/1 [==============================] - 0s 8ms/step - loss: 3.9107 - mae: 3.9107\n",
            "Epoch 18/100\n",
            "1/1 [==============================] - 0s 9ms/step - loss: 4.0124 - mae: 4.0124\n",
            "Epoch 19/100\n",
            "1/1 [==============================] - 0s 6ms/step - loss: 4.2788 - mae: 4.2788\n",
            "Epoch 20/100\n",
            "1/1 [==============================] - 0s 8ms/step - loss: 4.4647 - mae: 4.4647\n",
            "Epoch 21/100\n",
            "1/1 [==============================] - 0s 8ms/step - loss: 4.5727 - mae: 4.5727\n",
            "Epoch 22/100\n",
            "1/1 [==============================] - 0s 9ms/step - loss: 4.6118 - mae: 4.6118\n",
            "Epoch 23/100\n",
            "1/1 [==============================] - 0s 6ms/step - loss: 4.5902 - mae: 4.5902\n",
            "Epoch 24/100\n",
            "1/1 [==============================] - 0s 8ms/step - loss: 4.5164 - mae: 4.5164\n",
            "Epoch 25/100\n",
            "1/1 [==============================] - 0s 7ms/step - loss: 4.3983 - mae: 4.3983\n",
            "Epoch 26/100\n",
            "1/1 [==============================] - 0s 8ms/step - loss: 4.2414 - mae: 4.2414\n",
            "Epoch 27/100\n",
            "1/1 [==============================] - 0s 9ms/step - loss: 4.0527 - mae: 4.0527\n",
            "Epoch 28/100\n",
            "1/1 [==============================] - 0s 6ms/step - loss: 3.8407 - mae: 3.8407\n",
            "Epoch 29/100\n",
            "1/1 [==============================] - 0s 7ms/step - loss: 3.7168 - mae: 3.7168\n",
            "Epoch 30/100\n",
            "1/1 [==============================] - 0s 10ms/step - loss: 3.6219 - mae: 3.6219\n",
            "Epoch 31/100\n",
            "1/1 [==============================] - 0s 6ms/step - loss: 3.5280 - mae: 3.5280\n",
            "Epoch 32/100\n",
            "1/1 [==============================] - 0s 8ms/step - loss: 3.4341 - mae: 3.4341\n",
            "Epoch 33/100\n",
            "1/1 [==============================] - 0s 9ms/step - loss: 3.3870 - mae: 3.3870\n",
            "Epoch 34/100\n",
            "1/1 [==============================] - 0s 6ms/step - loss: 3.4268 - mae: 3.4268\n",
            "Epoch 35/100\n",
            "1/1 [==============================] - 0s 7ms/step - loss: 3.4390 - mae: 3.4390\n",
            "Epoch 36/100\n",
            "1/1 [==============================] - 0s 8ms/step - loss: 3.4541 - mae: 3.4541\n",
            "Epoch 37/100\n",
            "1/1 [==============================] - 0s 12ms/step - loss: 3.4393 - mae: 3.4393\n",
            "Epoch 38/100\n",
            "1/1 [==============================] - 0s 9ms/step - loss: 3.3770 - mae: 3.3770\n",
            "Epoch 39/100\n",
            "1/1 [==============================] - 0s 8ms/step - loss: 3.3329 - mae: 3.3329\n",
            "Epoch 40/100\n",
            "1/1 [==============================] - 0s 15ms/step - loss: 3.2699 - mae: 3.2699\n",
            "Epoch 41/100\n",
            "1/1 [==============================] - 0s 7ms/step - loss: 3.1898 - mae: 3.1898\n",
            "Epoch 42/100\n",
            "1/1 [==============================] - 0s 6ms/step - loss: 3.0921 - mae: 3.0921\n",
            "Epoch 43/100\n",
            "1/1 [==============================] - 0s 7ms/step - loss: 3.0378 - mae: 3.0378\n",
            "Epoch 44/100\n",
            "1/1 [==============================] - 0s 7ms/step - loss: 3.0330 - mae: 3.0330\n",
            "Epoch 45/100\n",
            "1/1 [==============================] - 0s 8ms/step - loss: 3.0152 - mae: 3.0152\n",
            "Epoch 46/100\n",
            "1/1 [==============================] - 0s 9ms/step - loss: 2.9879 - mae: 2.9879\n",
            "Epoch 47/100\n",
            "1/1 [==============================] - 0s 8ms/step - loss: 2.9511 - mae: 2.9511\n",
            "Epoch 48/100\n",
            "1/1 [==============================] - 0s 8ms/step - loss: 2.9029 - mae: 2.9029\n",
            "Epoch 49/100\n",
            "1/1 [==============================] - 0s 9ms/step - loss: 2.8455 - mae: 2.8455\n",
            "Epoch 50/100\n",
            "1/1 [==============================] - 0s 9ms/step - loss: 2.7776 - mae: 2.7776\n",
            "Epoch 51/100\n",
            "1/1 [==============================] - 0s 10ms/step - loss: 2.6995 - mae: 2.6995\n",
            "Epoch 52/100\n",
            "1/1 [==============================] - 0s 7ms/step - loss: 2.6060 - mae: 2.6060\n",
            "Epoch 53/100\n",
            "1/1 [==============================] - 0s 7ms/step - loss: 2.5034 - mae: 2.5034\n",
            "Epoch 54/100\n",
            "1/1 [==============================] - 0s 12ms/step - loss: 2.4031 - mae: 2.4031\n",
            "Epoch 55/100\n",
            "1/1 [==============================] - 0s 11ms/step - loss: 2.3843 - mae: 2.3843\n",
            "Epoch 56/100\n",
            "1/1 [==============================] - 0s 10ms/step - loss: 2.3197 - mae: 2.3197\n",
            "Epoch 57/100\n",
            "1/1 [==============================] - 0s 12ms/step - loss: 2.2097 - mae: 2.2097\n",
            "Epoch 58/100\n",
            "1/1 [==============================] - 0s 11ms/step - loss: 2.0910 - mae: 2.0910\n",
            "Epoch 59/100\n",
            "1/1 [==============================] - 0s 14ms/step - loss: 2.0281 - mae: 2.0281\n",
            "Epoch 60/100\n",
            "1/1 [==============================] - 0s 9ms/step - loss: 1.9513 - mae: 1.9513\n",
            "Epoch 61/100\n",
            "1/1 [==============================] - 0s 9ms/step - loss: 1.8619 - mae: 1.8619\n",
            "Epoch 62/100\n",
            "1/1 [==============================] - 0s 9ms/step - loss: 1.7603 - mae: 1.7603\n",
            "Epoch 63/100\n",
            "1/1 [==============================] - 0s 8ms/step - loss: 1.6467 - mae: 1.6467\n",
            "Epoch 64/100\n",
            "1/1 [==============================] - 0s 11ms/step - loss: 1.5721 - mae: 1.5721\n",
            "Epoch 65/100\n",
            "1/1 [==============================] - 0s 7ms/step - loss: 1.4813 - mae: 1.4813\n",
            "Epoch 66/100\n",
            "1/1 [==============================] - 0s 9ms/step - loss: 1.3533 - mae: 1.3533\n",
            "Epoch 67/100\n",
            "1/1 [==============================] - 0s 8ms/step - loss: 1.2345 - mae: 1.2345\n",
            "Epoch 68/100\n",
            "1/1 [==============================] - 0s 10ms/step - loss: 1.1334 - mae: 1.1334\n",
            "Epoch 69/100\n",
            "1/1 [==============================] - 0s 11ms/step - loss: 1.0129 - mae: 1.0129\n",
            "Epoch 70/100\n",
            "1/1 [==============================] - 0s 8ms/step - loss: 0.8668 - mae: 0.8668\n",
            "Epoch 71/100\n",
            "1/1 [==============================] - 0s 7ms/step - loss: 0.7050 - mae: 0.7050\n",
            "Epoch 72/100\n",
            "1/1 [==============================] - 0s 12ms/step - loss: 0.5517 - mae: 0.5517\n",
            "Epoch 73/100\n",
            "1/1 [==============================] - 0s 7ms/step - loss: 0.4115 - mae: 0.4115\n",
            "Epoch 74/100\n",
            "1/1 [==============================] - 0s 6ms/step - loss: 0.2822 - mae: 0.2822\n",
            "Epoch 75/100\n",
            "1/1 [==============================] - 0s 8ms/step - loss: 0.1967 - mae: 0.1967\n",
            "Epoch 76/100\n",
            "1/1 [==============================] - 0s 7ms/step - loss: 0.3566 - mae: 0.3566\n",
            "Epoch 77/100\n",
            "1/1 [==============================] - 0s 7ms/step - loss: 0.2544 - mae: 0.2544\n",
            "Epoch 78/100\n",
            "1/1 [==============================] - 0s 6ms/step - loss: 0.4139 - mae: 0.4139\n",
            "Epoch 79/100\n",
            "1/1 [==============================] - 0s 7ms/step - loss: 0.4301 - mae: 0.4301\n",
            "Epoch 80/100\n",
            "1/1 [==============================] - 0s 10ms/step - loss: 0.4351 - mae: 0.4351\n",
            "Epoch 81/100\n",
            "1/1 [==============================] - 0s 8ms/step - loss: 0.5519 - mae: 0.5519\n",
            "Epoch 82/100\n",
            "1/1 [==============================] - 0s 7ms/step - loss: 0.4467 - mae: 0.4467\n",
            "Epoch 83/100\n",
            "1/1 [==============================] - 0s 7ms/step - loss: 0.4025 - mae: 0.4025\n",
            "Epoch 84/100\n",
            "1/1 [==============================] - 0s 7ms/step - loss: 0.3555 - mae: 0.3555\n",
            "Epoch 85/100\n",
            "1/1 [==============================] - 0s 8ms/step - loss: 0.3128 - mae: 0.3128\n",
            "Epoch 86/100\n",
            "1/1 [==============================] - 0s 7ms/step - loss: 0.4751 - mae: 0.4751\n",
            "Epoch 87/100\n",
            "1/1 [==============================] - 0s 9ms/step - loss: 0.4167 - mae: 0.4167\n",
            "Epoch 88/100\n",
            "1/1 [==============================] - 0s 7ms/step - loss: 0.2231 - mae: 0.2231\n",
            "Epoch 89/100\n",
            "1/1 [==============================] - 0s 7ms/step - loss: 0.3172 - mae: 0.3172\n",
            "Epoch 90/100\n",
            "1/1 [==============================] - 0s 7ms/step - loss: 0.3141 - mae: 0.3141\n",
            "Epoch 91/100\n",
            "1/1 [==============================] - 0s 7ms/step - loss: 0.2972 - mae: 0.2972\n",
            "Epoch 92/100\n",
            "1/1 [==============================] - 0s 9ms/step - loss: 0.3226 - mae: 0.3226\n",
            "Epoch 93/100\n",
            "1/1 [==============================] - 0s 7ms/step - loss: 0.2510 - mae: 0.2510\n",
            "Epoch 94/100\n",
            "1/1 [==============================] - 0s 7ms/step - loss: 0.2271 - mae: 0.2271\n",
            "Epoch 95/100\n",
            "1/1 [==============================] - 0s 9ms/step - loss: 0.2626 - mae: 0.2626\n",
            "Epoch 96/100\n",
            "1/1 [==============================] - 0s 7ms/step - loss: 0.2149 - mae: 0.2149\n",
            "Epoch 97/100\n",
            "1/1 [==============================] - 0s 7ms/step - loss: 0.2555 - mae: 0.2555\n",
            "Epoch 98/100\n",
            "1/1 [==============================] - 0s 6ms/step - loss: 0.2352 - mae: 0.2352\n",
            "Epoch 99/100\n",
            "1/1 [==============================] - 0s 10ms/step - loss: 0.2078 - mae: 0.2078\n",
            "Epoch 100/100\n",
            "1/1 [==============================] - 0s 7ms/step - loss: 0.2203 - mae: 0.2203\n"
          ]
        },
        {
          "output_type": "execute_result",
          "data": {
            "text/plain": [
              "<keras.callbacks.History at 0x7fef380af5d0>"
            ]
          },
          "metadata": {},
          "execution_count": 11
        }
      ]
    },
    {
      "cell_type": "code",
      "source": [
        "# making prediction with model \n",
        "ypred = model.predict([17.0])\n",
        "ypred "
      ],
      "metadata": {
        "colab": {
          "base_uri": "https://localhost:8080/"
        },
        "outputId": "3f5cf8b2-8da2-4257-9f3b-e2ed82c7a244",
        "id": "K7zWxndqx10v"
      },
      "execution_count": null,
      "outputs": [
        {
          "output_type": "execute_result",
          "data": {
            "text/plain": [
              "array([[27.686483]], dtype=float32)"
            ]
          },
          "metadata": {},
          "execution_count": 12
        }
      ]
    },
    {
      "cell_type": "markdown",
      "source": [
        "Common ways to improve Deep Learning Model\n",
        "- add layers\n",
        "- increase # of hidden units \n",
        "- change the activation functions\n",
        "- change optimization function \n",
        "- change the learning rate\n",
        "- fitting on more data\n",
        "- fitting for longer"
      ],
      "metadata": {
        "id": "q1Bvyh2ORqe0"
      }
    },
    {
      "cell_type": "markdown",
      "source": [
        "evaluating our model\n",
        "typical workflow:\n",
        "build model -> fit it -> evaluate it -> tweak model -> fit it -> evaluate it -> ...\n",
        "\n",
        "3 words: \n",
        "- visualize, visualize, visualize"
      ],
      "metadata": {
        "id": "QbIOXrInSax9"
      }
    },
    {
      "cell_type": "code",
      "source": [
        "# bigger data set\n",
        "# Make a bigger dataset\n",
        "X = np.arange(-100, 100, 4)\n",
        "X"
      ],
      "metadata": {
        "colab": {
          "base_uri": "https://localhost:8080/"
        },
        "id": "qUwD4tstTUDK",
        "outputId": "b8e0441e-c2e2-46bc-dc69-93fdf492329d"
      },
      "execution_count": null,
      "outputs": [
        {
          "output_type": "execute_result",
          "data": {
            "text/plain": [
              "array([-100,  -96,  -92,  -88,  -84,  -80,  -76,  -72,  -68,  -64,  -60,\n",
              "        -56,  -52,  -48,  -44,  -40,  -36,  -32,  -28,  -24,  -20,  -16,\n",
              "        -12,   -8,   -4,    0,    4,    8,   12,   16,   20,   24,   28,\n",
              "         32,   36,   40,   44,   48,   52,   56,   60,   64,   68,   72,\n",
              "         76,   80,   84,   88,   92,   96])"
            ]
          },
          "metadata": {},
          "execution_count": 13
        }
      ]
    },
    {
      "cell_type": "code",
      "source": [
        "# Make labels for the dataset (adhering to the same pattern as before)\n",
        "y = np.arange(-90, 110, 4)\n",
        "y"
      ],
      "metadata": {
        "colab": {
          "base_uri": "https://localhost:8080/"
        },
        "id": "jIaQYG6QUEiJ",
        "outputId": "5d0bbff2-13a4-4c4b-f35f-d3b210f938e9"
      },
      "execution_count": null,
      "outputs": [
        {
          "output_type": "execute_result",
          "data": {
            "text/plain": [
              "array([-90, -86, -82, -78, -74, -70, -66, -62, -58, -54, -50, -46, -42,\n",
              "       -38, -34, -30, -26, -22, -18, -14, -10,  -6,  -2,   2,   6,  10,\n",
              "        14,  18,  22,  26,  30,  34,  38,  42,  46,  50,  54,  58,  62,\n",
              "        66,  70,  74,  78,  82,  86,  90,  94,  98, 102, 106])"
            ]
          },
          "metadata": {},
          "execution_count": 14
        }
      ]
    },
    {
      "cell_type": "code",
      "source": [
        "# Same result as above\n",
        "y = X + 10\n",
        "y"
      ],
      "metadata": {
        "colab": {
          "base_uri": "https://localhost:8080/"
        },
        "id": "G5IaLZGLUFen",
        "outputId": "7849600c-8108-4894-ec57-9c4d0791d073"
      },
      "execution_count": null,
      "outputs": [
        {
          "output_type": "execute_result",
          "data": {
            "text/plain": [
              "array([-90, -86, -82, -78, -74, -70, -66, -62, -58, -54, -50, -46, -42,\n",
              "       -38, -34, -30, -26, -22, -18, -14, -10,  -6,  -2,   2,   6,  10,\n",
              "        14,  18,  22,  26,  30,  34,  38,  42,  46,  50,  54,  58,  62,\n",
              "        66,  70,  74,  78,  82,  86,  90,  94,  98, 102, 106])"
            ]
          },
          "metadata": {},
          "execution_count": 15
        }
      ]
    },
    {
      "cell_type": "code",
      "source": [
        "import matplotlib.pyplot as plt \n",
        "plt.scatter(X, y)"
      ],
      "metadata": {
        "colab": {
          "base_uri": "https://localhost:8080/",
          "height": 282
        },
        "id": "kAvUJaBUUH5o",
        "outputId": "bfb5fa14-f9c0-4dc1-9d91-b2f539e8e88c"
      },
      "execution_count": null,
      "outputs": [
        {
          "output_type": "execute_result",
          "data": {
            "text/plain": [
              "<matplotlib.collections.PathCollection at 0x7fef36873e10>"
            ]
          },
          "metadata": {},
          "execution_count": 16
        },
        {
          "output_type": "display_data",
          "data": {
            "text/plain": [
              "<Figure size 432x288 with 1 Axes>"
            ],
            "image/png": "[encoded data removed]"
          },
          "metadata": {
            "needs_background": "light"
          }
        }
      ]
    },
    {
      "cell_type": "markdown",
      "source": [
        "# 3 sets\n",
        "- training set - the model learns from this data, which is typically 70-80% of the total data available (like the course materials you study during the semester).\n",
        "- Validation set - the model gets tuned on this data, which is typically 10-15% of the total data available (like the practice exam you take before the final exam).\n",
        "- Test set - the model gets evaluated on this data to test what it has learned, it's typically 10-15% of the total data available (like the final exam you take at the end of the semester)."
      ],
      "metadata": {
        "id": "y9Sk7lj0Up2q"
      }
    },
    {
      "cell_type": "code",
      "source": [
        "# check len of how many samples we have \n",
        "len(X)"
      ],
      "metadata": {
        "colab": {
          "base_uri": "https://localhost:8080/"
        },
        "id": "Cpof8OFNVOmq",
        "outputId": "3c0fcb58-0d3c-46ff-d11b-3c239c9ff958"
      },
      "execution_count": null,
      "outputs": [
        {
          "output_type": "execute_result",
          "data": {
            "text/plain": [
              "50"
            ]
          },
          "metadata": {},
          "execution_count": 17
        }
      ]
    },
    {
      "cell_type": "code",
      "source": [
        "# split data into train and test sets \n",
        "X_train = X[:40] # 80% of data\n",
        "y_train = y[:40]\n",
        "\n",
        "X_test = X[40:] # last 20% of data\n",
        "y_test = tf.constant(y[40:])\n",
        "len(X_test), len(X_train)"
      ],
      "metadata": {
        "colab": {
          "base_uri": "https://localhost:8080/"
        },
        "id": "8DH6Gh9zVV9T",
        "outputId": "e54a368e-f9bb-49d5-dcaf-9a54d1af4dc0"
      },
      "execution_count": null,
      "outputs": [
        {
          "output_type": "execute_result",
          "data": {
            "text/plain": [
              "(10, 40)"
            ]
          },
          "metadata": {},
          "execution_count": 18
        }
      ]
    },
    {
      "cell_type": "markdown",
      "source": [
        "Visualizing the data \n",
        "- now we have training/test sets -> visualive it again :)"
      ],
      "metadata": {
        "id": "C-nz0nDFWZHj"
      }
    },
    {
      "cell_type": "code",
      "source": [
        "plt.figure(figsize=(10, 7))\n",
        "# Plot training data in blue\n",
        "plt.scatter(X_train, y_train, c='b', label='Training data')\n",
        "# Plot test data in green\n",
        "plt.scatter(X_test, y_test, c='g', label='Testing data')\n",
        "# Show the legend\n",
        "plt.legend();"
      ],
      "metadata": {
        "colab": {
          "base_uri": "https://localhost:8080/",
          "height": 428
        },
        "id": "koXvWrJDWxth",
        "outputId": "6db16e00-b948-44d2-cf07-01e28b87e487"
      },
      "execution_count": null,
      "outputs": [
        {
          "output_type": "display_data",
          "data": {
            "text/plain": [
              "<Figure size 720x504 with 1 Axes>"
            ],
            "image/png": "[encoded data removed]"
          },
          "metadata": {
            "needs_background": "light"
          }
        }
      ]
    },
    {
      "cell_type": "code",
      "source": [
        "X[0], y[0]"
      ],
      "metadata": {
        "colab": {
          "base_uri": "https://localhost:8080/"
        },
        "id": "BAg9zh7JZZpK",
        "outputId": "1285ceea-8d56-4c34-fe42-a6b97b192604"
      },
      "execution_count": null,
      "outputs": [
        {
          "output_type": "execute_result",
          "data": {
            "text/plain": [
              "(-100, -90)"
            ]
          },
          "metadata": {},
          "execution_count": 20
        }
      ]
    },
    {
      "cell_type": "code",
      "source": [
        "# lets have a look at how to build a neural network for our data \n",
        "# set a random seed \n",
        "tf.random.set_seed(42)\n",
        "\n",
        "# 1. Create a model using a sequential API\n",
        "model = tf.keras.Sequential([\n",
        "  tf.keras.layers.Input(shape=(1,)),\n",
        "    tf.keras.layers.Dense(10, input_shape=[1], name=\"input_layer\"),      \n",
        "    tf.keras.layers.Dense(1, name=\"output_layer\")      \n",
        "            \n",
        "], name = \"model_1\")\n",
        "# 2 trainable parameters per hidden unit\n",
        "\n",
        "# 2. Compile the model\n",
        "# mae - mean abs error\n",
        "# sgd - stochasitc gradient descent\n",
        "\n",
        "model.compile(loss = tf.keras.losses.mae,\n",
        "              optimizer = tf.keras.optimizers.SGD(),\n",
        "              metrics=[\"mae\"])\n",
        "\n",
        "#3. Fit model\n",
        "# model.fit(X_train, y_train ,epochs=100)\n",
        "model.build()"
      ],
      "metadata": {
        "id": "tTt9DEwKYLku"
      },
      "execution_count": null,
      "outputs": []
    },
    {
      "cell_type": "markdown",
      "source": [
        "Visualize model "
      ],
      "metadata": {
        "id": "vgA9mli-YzUK"
      }
    },
    {
      "cell_type": "code",
      "source": [
        "model.summary()"
      ],
      "metadata": {
        "colab": {
          "base_uri": "https://localhost:8080/"
        },
        "id": "eM8hicZZY0zR",
        "outputId": "1748474e-bb97-4223-a9f5-f31d538158fd"
      },
      "execution_count": null,
      "outputs": [
        {
          "output_type": "stream",
          "name": "stdout",
          "text": [
            "Model: \"model_1\"\n",
            "_________________________________________________________________\n",
            " Layer (type)                Output Shape              Param #   \n",
            "=================================================================\n",
            " input_layer (Dense)         (None, 10)                20        \n",
            "                                                                 \n",
            " output_layer (Dense)        (None, 1)                 11        \n",
            "                                                                 \n",
            "=================================================================\n",
            "Total params: 31\n",
            "Trainable params: 31\n",
            "Non-trainable params: 0\n",
            "_________________________________________________________________\n"
          ]
        }
      ]
    },
    {
      "cell_type": "markdown",
      "source": [
        "- Total params - total number of parameters in the model.\n",
        "- Trainable parameters - these are the parameters (patterns) the model can update as it trains.\n",
        "- Non-trainable parameters - these parameters aren't updated during training (this is typical when you bring in the already learned patterns from other models during transfer learning)\n",
        "\n",
        " Resource: For a more in-depth overview of the trainable parameters within a layer, check out MIT's introduction to deep learning video."
      ],
      "metadata": {
        "id": "lS12v6VYaDhb"
      }
    },
    {
      "cell_type": "code",
      "source": [
        "model.fit(X_train, y_train ,epochs=100, verbose=0)\n"
      ],
      "metadata": {
        "colab": {
          "base_uri": "https://localhost:8080/"
        },
        "id": "y_BygEqCcEQP",
        "outputId": "b0c261e0-86bc-4e14-9ebf-58bf22f06bc2"
      },
      "execution_count": null,
      "outputs": [
        {
          "output_type": "execute_result",
          "data": {
            "text/plain": [
              "<keras.callbacks.History at 0x7fefbb22c0d0>"
            ]
          },
          "metadata": {},
          "execution_count": 23
        }
      ]
    },
    {
      "cell_type": "code",
      "source": [
        "from tensorflow.keras.utils import plot_model\n",
        "plot_model(model = model, show_shapes = True)"
      ],
      "metadata": {
        "colab": {
          "base_uri": "https://localhost:8080/",
          "height": 312
        },
        "id": "JAMOiAOzcrFF",
        "outputId": "1fab038b-3758-4b17-e087-0b4a2ec089e6"
      },
      "execution_count": null,
      "outputs": [
        {
          "output_type": "execute_result",
          "data": {
            "text/plain": [
              "<IPython.core.display.Image object>"
            ],
            "image/png": "[encoded data removed]"
          },
          "metadata": {},
          "execution_count": 24
        }
      ]
    },
    {
      "cell_type": "markdown",
      "source": [
        "# visualize model predictions\n",
        "to visualize predictions, it is a good idea to plot them against the ground truth labels \n",
        "Often you'll see this in the form of \n",
        "\n",
        "y_test vs. y_pred (ground truth vs. predictions).\n",
        "\n",
        "First, we'll make some predictions on the test data (X_test), remember the model has never seen the test data."
      ],
      "metadata": {
        "id": "znxyWjGHd_P9"
      }
    },
    {
      "cell_type": "code",
      "source": [
        "# Make predictions\n",
        "y_preds = model.predict(X_test)\n",
        "y_preds"
      ],
      "metadata": {
        "colab": {
          "base_uri": "https://localhost:8080/"
        },
        "id": "AzVN96IefBpF",
        "outputId": "3c585dba-a06d-490e-e8c2-226e51014b54"
      },
      "execution_count": null,
      "outputs": [
        {
          "output_type": "execute_result",
          "data": {
            "text/plain": [
              "array([[ 70.55218 ],\n",
              "       [ 75.13991 ],\n",
              "       [ 79.72763 ],\n",
              "       [ 84.31535 ],\n",
              "       [ 88.903076],\n",
              "       [ 93.49081 ],\n",
              "       [ 98.07853 ],\n",
              "       [102.66625 ],\n",
              "       [107.253975],\n",
              "       [111.8417  ]], dtype=float32)"
            ]
          },
          "metadata": {},
          "execution_count": 25
        }
      ]
    },
    {
      "cell_type": "code",
      "source": [
        "y_test"
      ],
      "metadata": {
        "colab": {
          "base_uri": "https://localhost:8080/"
        },
        "id": "N1y_n-lrfN69",
        "outputId": "80cbaffc-ba97-4318-9b6c-c9c1c5252786"
      },
      "execution_count": null,
      "outputs": [
        {
          "output_type": "execute_result",
          "data": {
            "text/plain": [
              "<tf.Tensor: shape=(10,), dtype=int64, numpy=array([ 70,  74,  78,  82,  86,  90,  94,  98, 102, 106])>"
            ]
          },
          "metadata": {},
          "execution_count": 26
        }
      ]
    },
    {
      "cell_type": "code",
      "source": [
        "# plotting function\n",
        "def plot_predictions(train_data=X_train, \n",
        "                     train_labels=y_train, \n",
        "                     test_data=X_test, \n",
        "                     test_labels=y_test, \n",
        "                     predictions=y_preds):\n",
        "  \"\"\"\n",
        "  Plots training data, test data and compares predictions.\n",
        "  \"\"\"\n",
        "  plt.figure(figsize=(10, 7))\n",
        "  # Plot training data in blue\n",
        "  plt.scatter(train_data, train_labels, c=\"b\", label=\"Training data\")\n",
        "  # Plot test data in green\n",
        "  plt.scatter(test_data, test_labels, c=\"g\", label=\"Testing data\")\n",
        "  # Plot the predictions in red (predictions were made on the test data)\n",
        "  plt.scatter(test_data, predictions, c=\"r\", label=\"Predictions\")\n",
        "  # Show the legend\n",
        "  plt.legend();"
      ],
      "metadata": {
        "id": "l4iriuJnfbTL"
      },
      "execution_count": null,
      "outputs": []
    },
    {
      "cell_type": "code",
      "source": [
        "plot_predictions(train_data=X_train,\n",
        "                 train_labels=y_train,\n",
        "                 test_data=X_test,\n",
        "                 test_labels=y_test,\n",
        "                 predictions=y_preds)"
      ],
      "metadata": {
        "colab": {
          "base_uri": "https://localhost:8080/",
          "height": 428
        },
        "id": "HeSkntu4frkN",
        "outputId": "f5a2f37b-aa98-4c44-8d7a-5ccb23dc6848"
      },
      "execution_count": null,
      "outputs": [
        {
          "output_type": "display_data",
          "data": {
            "text/plain": [
              "<Figure size 720x504 with 1 Axes>"
            ],
            "image/png": "[encoded data removed]"
          },
          "metadata": {
            "needs_background": "light"
          }
        }
      ]
    },
    {
      "cell_type": "markdown",
      "source": [
        "### evaluating our model's predictions with regression evaluation metrics \n",
        "Alongisde visualizations, evaulation metrics are your alternative best option for evaluating your model.\n",
        "\n",
        "Depending on the problem you're working on, different models have different evaluation metrics.\n",
        "\n",
        "Two of the main metrics used for regression problems are:\n",
        "\n",
        "- Mean absolute error (MAE) - the mean difference between each of the predictions.\n",
        "- Mean squared error (MSE) - the squared mean difference between of the predictions (use if larger errors are more detrimental than smaller errors).\n",
        "The lower each of these values, the better.\n",
        "\n",
        "You can also use model.evaluate() which will return the loss of the model as well as any metrics setup during the compile step."
      ],
      "metadata": {
        "id": "E1gBcxn0gOJ6"
      }
    },
    {
      "cell_type": "code",
      "source": [
        "# Evaluate the model on the test set\n",
        "model.evaluate(X_test, y_test)"
      ],
      "metadata": {
        "colab": {
          "base_uri": "https://localhost:8080/"
        },
        "id": "UJEQ9jtVgeX5",
        "outputId": "19ce2e68-0625-4f41-f837-4f6251ea2c17"
      },
      "execution_count": null,
      "outputs": [
        {
          "output_type": "stream",
          "name": "stdout",
          "text": [
            "1/1 [==============================] - 0s 137ms/step - loss: 3.1969 - mae: 3.1969\n"
          ]
        },
        {
          "output_type": "execute_result",
          "data": {
            "text/plain": [
              "[3.196942090988159, 3.196942090988159]"
            ]
          },
          "metadata": {},
          "execution_count": 29
        }
      ]
    },
    {
      "cell_type": "code",
      "source": [
        "# Calculate the mean absolute error\n",
        "mae = tf.metrics.mean_absolute_error(y_true=y_test, \n",
        "                                     y_pred=tf.constant(y_preds))\n",
        "mae"
      ],
      "metadata": {
        "colab": {
          "base_uri": "https://localhost:8080/"
        },
        "id": "FEGFzxD1jfJr",
        "outputId": "034d9a6c-4827-4f9b-bc82-f910167464cc"
      },
      "execution_count": null,
      "outputs": [
        {
          "output_type": "execute_result",
          "data": {
            "text/plain": [
              "<tf.Tensor: shape=(10,), dtype=float32, numpy=\n",
              "array([17.558258 , 14.1160555, 11.708948 , 10.336929 , 10.       ,\n",
              "       10.698161 , 12.447118 , 15.333002 , 19.253975 , 23.841698 ],\n",
              "      dtype=float32)>"
            ]
          },
          "metadata": {},
          "execution_count": 30
        }
      ]
    },
    {
      "cell_type": "code",
      "source": [
        "tf.constant(y_preds)"
      ],
      "metadata": {
        "colab": {
          "base_uri": "https://localhost:8080/"
        },
        "id": "cOasa9LYlEE7",
        "outputId": "e1f346c2-1d8a-4388-eac5-089d10070b62"
      },
      "execution_count": null,
      "outputs": [
        {
          "output_type": "execute_result",
          "data": {
            "text/plain": [
              "<tf.Tensor: shape=(10, 1), dtype=float32, numpy=\n",
              "array([[ 70.55218 ],\n",
              "       [ 75.13991 ],\n",
              "       [ 79.72763 ],\n",
              "       [ 84.31535 ],\n",
              "       [ 88.903076],\n",
              "       [ 93.49081 ],\n",
              "       [ 98.07853 ],\n",
              "       [102.66625 ],\n",
              "       [107.253975],\n",
              "       [111.8417  ]], dtype=float32)>"
            ]
          },
          "metadata": {},
          "execution_count": 32
        }
      ]
    },
    {
      "cell_type": "code",
      "source": [
        "y_test"
      ],
      "metadata": {
        "colab": {
          "base_uri": "https://localhost:8080/"
        },
        "id": "sWERBWN8lVgF",
        "outputId": "12e55e56-76ca-4a94-f287-430cd34cfbbf"
      },
      "execution_count": null,
      "outputs": [
        {
          "output_type": "execute_result",
          "data": {
            "text/plain": [
              "<tf.Tensor: shape=(10,), dtype=int64, numpy=array([ 70,  74,  78,  82,  86,  90,  94,  98, 102, 106])>"
            ]
          },
          "metadata": {},
          "execution_count": 33
        }
      ]
    },
    {
      "cell_type": "code",
      "source": [
        "y_preds"
      ],
      "metadata": {
        "colab": {
          "base_uri": "https://localhost:8080/"
        },
        "id": "CBC37i4inuFj",
        "outputId": "f436d046-ca60-4e8f-9146-29081efb926d"
      },
      "execution_count": null,
      "outputs": [
        {
          "output_type": "execute_result",
          "data": {
            "text/plain": [
              "array([[ 70.55218 ],\n",
              "       [ 75.13991 ],\n",
              "       [ 79.72763 ],\n",
              "       [ 84.31535 ],\n",
              "       [ 88.903076],\n",
              "       [ 93.49081 ],\n",
              "       [ 98.07853 ],\n",
              "       [102.66625 ],\n",
              "       [107.253975],\n",
              "       [111.8417  ]], dtype=float32)"
            ]
          },
          "metadata": {},
          "execution_count": 34
        }
      ]
    },
    {
      "cell_type": "code",
      "source": [
        "tf.squeeze(y_preds)"
      ],
      "metadata": {
        "colab": {
          "base_uri": "https://localhost:8080/"
        },
        "id": "bjZWTQiknRzH",
        "outputId": "02e0d8d6-a739-4482-8fb8-f57860d799d8"
      },
      "execution_count": null,
      "outputs": [
        {
          "output_type": "execute_result",
          "data": {
            "text/plain": [
              "<tf.Tensor: shape=(10,), dtype=float32, numpy=\n",
              "array([ 70.55218 ,  75.13991 ,  79.72763 ,  84.31535 ,  88.903076,\n",
              "        93.49081 ,  98.07853 , 102.66625 , 107.253975, 111.8417  ],\n",
              "      dtype=float32)>"
            ]
          },
          "metadata": {},
          "execution_count": 36
        }
      ]
    },
    {
      "cell_type": "code",
      "source": [
        "# Calculate the mean absolute error\n",
        "mae = tf.metrics.mean_absolute_error(y_true=y_test, \n",
        "                                     y_pred=tf.squeeze(y_preds))\n",
        "mae"
      ],
      "metadata": {
        "colab": {
          "base_uri": "https://localhost:8080/"
        },
        "outputId": "8c28cb27-993f-4e50-e77c-b0e9cf240b80",
        "id": "ecZLJboJnJFT"
      },
      "execution_count": null,
      "outputs": [
        {
          "output_type": "execute_result",
          "data": {
            "text/plain": [
              "<tf.Tensor: shape=(), dtype=float32, numpy=3.1969407>"
            ]
          },
          "metadata": {},
          "execution_count": 35
        }
      ]
    },
    {
      "cell_type": "code",
      "source": [
        "# Calculate the MSE\n",
        "mse = tf.metrics.mean_squared_error(y_true=y_test,\n",
        "                                    y_pred=y_preds.squeeze())\n",
        "mse"
      ],
      "metadata": {
        "colab": {
          "base_uri": "https://localhost:8080/"
        },
        "id": "nyrDBEEMoFGh",
        "outputId": "ff44e9c5-4422-4cff-a076-e90df096c1e6"
      },
      "execution_count": null,
      "outputs": [
        {
          "output_type": "execute_result",
          "data": {
            "text/plain": [
              "<tf.Tensor: shape=(), dtype=float32, numpy=13.070143>"
            ]
          },
          "metadata": {},
          "execution_count": 37
        }
      ]
    },
    {
      "cell_type": "code",
      "source": [
        "# Returns the same as tf.metrics.mean_absolute_error()\n",
        "tf.reduce_mean(tf.abs(y_test-y_preds.squeeze()))"
      ],
      "metadata": {
        "colab": {
          "base_uri": "https://localhost:8080/"
        },
        "id": "R1xAwJGBojbo",
        "outputId": "b2cc0073-05e0-471a-fe56-f64efa206770"
      },
      "execution_count": null,
      "outputs": [
        {
          "output_type": "execute_result",
          "data": {
            "text/plain": [
              "<tf.Tensor: shape=(), dtype=int64, numpy=2>"
            ]
          },
          "metadata": {},
          "execution_count": 38
        }
      ]
    },
    {
      "cell_type": "code",
      "source": [
        "def mae(y_test, y_pred):\n",
        "  \"\"\"\n",
        "  Calculuates mean absolute error between y_test and y_preds.\n",
        "  \"\"\"\n",
        "  return tf.metrics.mean_absolute_error(y_test,\n",
        "                                        y_pred)\n",
        "  \n",
        "def mse(y_test, y_pred):\n",
        "  \"\"\"\n",
        "  Calculates mean squared error between y_test and y_preds.\n",
        "  \"\"\"\n",
        "  return tf.metrics.mean_squared_error(y_test,\n",
        "                                       y_pred)"
      ],
      "metadata": {
        "id": "eVH3TqgJopWA"
      },
      "execution_count": null,
      "outputs": []
    },
    {
      "cell_type": "markdown",
      "source": [
        "## Running experiments to improve a model\n",
        "Again, there are many different ways you can do this, but 3 of the main ones are:\n",
        "\n",
        "1. Get more data - get more examples for your model to train on (more opportunities to learn patterns).\n",
        "2. Make your model larger (use a more complex model) - this might come in the form of more layers or more hidden units in each layer.\n",
        "3. Train for longer - give your model more of a chance to find the patterns in the data.\n",
        "\n",
        "Since we created our dataset, we could easily make more data but this isn't always the case when you're working with real-world datasets.\n",
        "\n",
        "So let's take a look at how we can improve our model using 2 and 3.\n",
        "\n",
        "To do so, we'll build 3 models and compare their results:\n",
        "\n",
        "1. model_1 - same as original model, 1 layer, trained for 100 epochs.\n",
        "2. model_2 - 2 layers, trained for 100 epochs.\n",
        "3. model_3 - 2 layers, trained for 500 epochs."
      ],
      "metadata": {
        "id": "ADlpJxp5o-1M"
      }
    },
    {
      "cell_type": "markdown",
      "source": [
        "### model 1 \n"
      ],
      "metadata": {
        "id": "v8JFsHUUqvb-"
      }
    },
    {
      "cell_type": "code",
      "source": [
        "# Set random seed\n",
        "tf.random.set_seed(42)\n",
        "\n",
        "# Replicate original model\n",
        "model_1 = tf.keras.Sequential([\n",
        "  tf.keras.layers.Dense(1)\n",
        "])\n",
        "\n",
        "# Compile the model\n",
        "model_1.compile(loss=tf.keras.losses.mae,\n",
        "                optimizer=tf.keras.optimizers.SGD(),\n",
        "                metrics=['mae'])\n",
        "\n",
        "# Fit the model\n",
        "model_1.fit(tf.expand_dims(X_train, axis=-1), y_train, epochs=100)\n"
      ],
      "metadata": {
        "colab": {
          "base_uri": "https://localhost:8080/"
        },
        "id": "93RiSEQJrM-Q",
        "outputId": "4c1317a0-7840-4a61-c601-bf6d626182c5"
      },
      "execution_count": null,
      "outputs": [
        {
          "output_type": "stream",
          "name": "stdout",
          "text": [
            "Epoch 1/100\n",
            "2/2 [==============================] - 0s 6ms/step - loss: 15.9024 - mae: 15.9024\n",
            "Epoch 2/100\n",
            "2/2 [==============================] - 0s 11ms/step - loss: 11.2837 - mae: 11.2837\n",
            "Epoch 3/100\n",
            "2/2 [==============================] - 0s 5ms/step - loss: 11.1074 - mae: 11.1074\n",
            "Epoch 4/100\n",
            "2/2 [==============================] - 0s 5ms/step - loss: 9.2991 - mae: 9.2991\n",
            "Epoch 5/100\n",
            "2/2 [==============================] - 0s 5ms/step - loss: 10.1677 - mae: 10.1677\n",
            "Epoch 6/100\n",
            "2/2 [==============================] - 0s 7ms/step - loss: 9.4303 - mae: 9.4303\n",
            "Epoch 7/100\n",
            "2/2 [==============================] - 0s 5ms/step - loss: 8.5704 - mae: 8.5704\n",
            "Epoch 8/100\n",
            "2/2 [==============================] - 0s 5ms/step - loss: 9.0442 - mae: 9.0442\n",
            "Epoch 9/100\n",
            "2/2 [==============================] - 0s 5ms/step - loss: 18.7517 - mae: 18.7517\n",
            "Epoch 10/100\n",
            "2/2 [==============================] - 0s 5ms/step - loss: 10.1142 - mae: 10.1142\n",
            "Epoch 11/100\n",
            "2/2 [==============================] - 0s 5ms/step - loss: 8.3980 - mae: 8.3980\n",
            "Epoch 12/100\n",
            "2/2 [==============================] - 0s 6ms/step - loss: 10.6639 - mae: 10.6639\n",
            "Epoch 13/100\n",
            "2/2 [==============================] - 0s 4ms/step - loss: 9.7977 - mae: 9.7977\n",
            "Epoch 14/100\n",
            "2/2 [==============================] - 0s 5ms/step - loss: 16.0103 - mae: 16.0103\n",
            "Epoch 15/100\n",
            "2/2 [==============================] - 0s 5ms/step - loss: 11.4068 - mae: 11.4068\n",
            "Epoch 16/100\n",
            "2/2 [==============================] - 0s 4ms/step - loss: 8.5393 - mae: 8.5393\n",
            "Epoch 17/100\n",
            "2/2 [==============================] - 0s 5ms/step - loss: 13.6348 - mae: 13.6348\n",
            "Epoch 18/100\n",
            "2/2 [==============================] - 0s 4ms/step - loss: 11.4629 - mae: 11.4629\n",
            "Epoch 19/100\n",
            "2/2 [==============================] - 0s 5ms/step - loss: 17.9148 - mae: 17.9148\n",
            "Epoch 20/100\n",
            "2/2 [==============================] - 0s 4ms/step - loss: 15.0494 - mae: 15.0494\n",
            "Epoch 21/100\n",
            "2/2 [==============================] - 0s 4ms/step - loss: 11.0216 - mae: 11.0216\n",
            "Epoch 22/100\n",
            "2/2 [==============================] - 0s 5ms/step - loss: 8.1558 - mae: 8.1558\n",
            "Epoch 23/100\n",
            "2/2 [==============================] - 0s 5ms/step - loss: 9.5138 - mae: 9.5138\n",
            "Epoch 24/100\n",
            "2/2 [==============================] - 0s 5ms/step - loss: 7.6617 - mae: 7.6617\n",
            "Epoch 25/100\n",
            "2/2 [==============================] - 0s 4ms/step - loss: 13.1859 - mae: 13.1859\n",
            "Epoch 26/100\n",
            "2/2 [==============================] - 0s 5ms/step - loss: 16.4211 - mae: 16.4211\n",
            "Epoch 27/100\n",
            "2/2 [==============================] - 0s 8ms/step - loss: 13.1660 - mae: 13.1660\n",
            "Epoch 28/100\n",
            "2/2 [==============================] - 0s 5ms/step - loss: 14.2559 - mae: 14.2559\n",
            "Epoch 29/100\n",
            "2/2 [==============================] - 0s 5ms/step - loss: 10.0670 - mae: 10.0670\n",
            "Epoch 30/100\n",
            "2/2 [==============================] - 0s 10ms/step - loss: 16.3409 - mae: 16.3409\n",
            "Epoch 31/100\n",
            "2/2 [==============================] - 0s 7ms/step - loss: 23.6444 - mae: 23.6444\n",
            "Epoch 32/100\n",
            "2/2 [==============================] - 0s 5ms/step - loss: 7.6215 - mae: 7.6215\n",
            "Epoch 33/100\n",
            "2/2 [==============================] - 0s 5ms/step - loss: 9.3221 - mae: 9.3221\n",
            "Epoch 34/100\n",
            "2/2 [==============================] - 0s 5ms/step - loss: 13.7313 - mae: 13.7313\n",
            "Epoch 35/100\n",
            "2/2 [==============================] - 0s 5ms/step - loss: 11.1276 - mae: 11.1276\n",
            "Epoch 36/100\n",
            "2/2 [==============================] - 0s 5ms/step - loss: 13.3222 - mae: 13.3222\n",
            "Epoch 37/100\n",
            "2/2 [==============================] - 0s 5ms/step - loss: 9.4763 - mae: 9.4763\n",
            "Epoch 38/100\n",
            "2/2 [==============================] - 0s 5ms/step - loss: 10.1381 - mae: 10.1381\n",
            "Epoch 39/100\n",
            "2/2 [==============================] - 0s 11ms/step - loss: 10.1793 - mae: 10.1793\n",
            "Epoch 40/100\n",
            "2/2 [==============================] - 0s 4ms/step - loss: 10.9137 - mae: 10.9137\n",
            "Epoch 41/100\n",
            "2/2 [==============================] - 0s 6ms/step - loss: 7.9063 - mae: 7.9063\n",
            "Epoch 42/100\n",
            "2/2 [==============================] - 0s 7ms/step - loss: 10.0914 - mae: 10.0914\n",
            "Epoch 43/100\n",
            "2/2 [==============================] - 0s 9ms/step - loss: 8.7006 - mae: 8.7006\n",
            "Epoch 44/100\n",
            "2/2 [==============================] - 0s 6ms/step - loss: 12.2047 - mae: 12.2047\n",
            "Epoch 45/100\n",
            "2/2 [==============================] - 0s 6ms/step - loss: 13.7970 - mae: 13.7970\n",
            "Epoch 46/100\n",
            "2/2 [==============================] - 0s 6ms/step - loss: 8.4687 - mae: 8.4687\n",
            "Epoch 47/100\n",
            "2/2 [==============================] - 0s 5ms/step - loss: 9.1330 - mae: 9.1330\n",
            "Epoch 48/100\n",
            "2/2 [==============================] - 0s 9ms/step - loss: 10.6190 - mae: 10.6190\n",
            "Epoch 49/100\n",
            "2/2 [==============================] - 0s 5ms/step - loss: 7.7503 - mae: 7.7503\n",
            "Epoch 50/100\n",
            "2/2 [==============================] - 0s 4ms/step - loss: 9.5407 - mae: 9.5407\n",
            "Epoch 51/100\n",
            "2/2 [==============================] - 0s 5ms/step - loss: 9.1584 - mae: 9.1584\n",
            "Epoch 52/100\n",
            "2/2 [==============================] - 0s 5ms/step - loss: 16.3630 - mae: 16.3630\n",
            "Epoch 53/100\n",
            "2/2 [==============================] - 0s 4ms/step - loss: 14.1299 - mae: 14.1299\n",
            "Epoch 54/100\n",
            "2/2 [==============================] - 0s 4ms/step - loss: 21.1247 - mae: 21.1247\n",
            "Epoch 55/100\n",
            "2/2 [==============================] - 0s 5ms/step - loss: 16.3961 - mae: 16.3961\n",
            "Epoch 56/100\n",
            "2/2 [==============================] - 0s 4ms/step - loss: 9.9806 - mae: 9.9806\n",
            "Epoch 57/100\n",
            "2/2 [==============================] - 0s 4ms/step - loss: 9.9606 - mae: 9.9606\n",
            "Epoch 58/100\n",
            "2/2 [==============================] - 0s 5ms/step - loss: 9.2209 - mae: 9.2209\n",
            "Epoch 59/100\n",
            "2/2 [==============================] - 0s 4ms/step - loss: 8.4239 - mae: 8.4239\n",
            "Epoch 60/100\n",
            "2/2 [==============================] - 0s 5ms/step - loss: 9.4869 - mae: 9.4869\n",
            "Epoch 61/100\n",
            "2/2 [==============================] - 0s 4ms/step - loss: 11.4355 - mae: 11.4355\n",
            "Epoch 62/100\n",
            "2/2 [==============================] - 0s 4ms/step - loss: 11.6887 - mae: 11.6887\n",
            "Epoch 63/100\n",
            "2/2 [==============================] - 0s 5ms/step - loss: 7.0838 - mae: 7.0838\n",
            "Epoch 64/100\n",
            "2/2 [==============================] - 0s 4ms/step - loss: 16.9675 - mae: 16.9675\n",
            "Epoch 65/100\n",
            "2/2 [==============================] - 0s 11ms/step - loss: 12.4599 - mae: 12.4599\n",
            "Epoch 66/100\n",
            "2/2 [==============================] - 0s 5ms/step - loss: 13.0184 - mae: 13.0184\n",
            "Epoch 67/100\n",
            "2/2 [==============================] - 0s 5ms/step - loss: 8.0600 - mae: 8.0600\n",
            "Epoch 68/100\n",
            "2/2 [==============================] - 0s 5ms/step - loss: 10.1888 - mae: 10.1888\n",
            "Epoch 69/100\n",
            "2/2 [==============================] - 0s 6ms/step - loss: 12.3633 - mae: 12.3633\n",
            "Epoch 70/100\n",
            "2/2 [==============================] - 0s 5ms/step - loss: 9.0516 - mae: 9.0516\n",
            "Epoch 71/100\n",
            "2/2 [==============================] - 0s 6ms/step - loss: 10.0378 - mae: 10.0378\n",
            "Epoch 72/100\n",
            "2/2 [==============================] - 0s 6ms/step - loss: 10.0516 - mae: 10.0516\n",
            "Epoch 73/100\n",
            "2/2 [==============================] - 0s 5ms/step - loss: 12.6151 - mae: 12.6151\n",
            "Epoch 74/100\n",
            "2/2 [==============================] - 0s 6ms/step - loss: 10.3819 - mae: 10.3819\n",
            "Epoch 75/100\n",
            "2/2 [==============================] - 0s 5ms/step - loss: 9.7229 - mae: 9.7229\n",
            "Epoch 76/100\n",
            "2/2 [==============================] - 0s 6ms/step - loss: 11.2252 - mae: 11.2252\n",
            "Epoch 77/100\n",
            "2/2 [==============================] - 0s 5ms/step - loss: 8.3642 - mae: 8.3642\n",
            "Epoch 78/100\n",
            "2/2 [==============================] - 0s 5ms/step - loss: 9.1274 - mae: 9.1274\n",
            "Epoch 79/100\n",
            "2/2 [==============================] - 0s 6ms/step - loss: 19.5039 - mae: 19.5039\n",
            "Epoch 80/100\n",
            "2/2 [==============================] - 0s 5ms/step - loss: 14.8945 - mae: 14.8945\n",
            "Epoch 81/100\n",
            "2/2 [==============================] - 0s 5ms/step - loss: 9.0034 - mae: 9.0034\n",
            "Epoch 82/100\n",
            "2/2 [==============================] - 0s 5ms/step - loss: 13.0206 - mae: 13.0206\n",
            "Epoch 83/100\n",
            "2/2 [==============================] - 0s 5ms/step - loss: 7.9299 - mae: 7.9299\n",
            "Epoch 84/100\n",
            "2/2 [==============================] - 0s 5ms/step - loss: 7.6872 - mae: 7.6872\n",
            "Epoch 85/100\n",
            "2/2 [==============================] - 0s 5ms/step - loss: 10.0328 - mae: 10.0328\n",
            "Epoch 86/100\n",
            "2/2 [==============================] - 0s 6ms/step - loss: 9.2433 - mae: 9.2433\n",
            "Epoch 87/100\n",
            "2/2 [==============================] - 0s 5ms/step - loss: 12.0209 - mae: 12.0209\n",
            "Epoch 88/100\n",
            "2/2 [==============================] - 0s 5ms/step - loss: 10.6389 - mae: 10.6389\n",
            "Epoch 89/100\n",
            "2/2 [==============================] - 0s 5ms/step - loss: 7.2667 - mae: 7.2667\n",
            "Epoch 90/100\n",
            "2/2 [==============================] - 0s 6ms/step - loss: 12.7786 - mae: 12.7786\n",
            "Epoch 91/100\n",
            "2/2 [==============================] - 0s 5ms/step - loss: 7.3481 - mae: 7.3481\n",
            "Epoch 92/100\n",
            "2/2 [==============================] - 0s 5ms/step - loss: 7.7175 - mae: 7.7175\n",
            "Epoch 93/100\n",
            "2/2 [==============================] - 0s 5ms/step - loss: 7.1263 - mae: 7.1263\n",
            "Epoch 94/100\n",
            "2/2 [==============================] - 0s 5ms/step - loss: 12.6190 - mae: 12.6190\n",
            "Epoch 95/100\n",
            "2/2 [==============================] - 0s 5ms/step - loss: 10.0912 - mae: 10.0912\n",
            "Epoch 96/100\n",
            "2/2 [==============================] - 0s 5ms/step - loss: 9.3558 - mae: 9.3558\n",
            "Epoch 97/100\n",
            "2/2 [==============================] - 0s 5ms/step - loss: 12.6834 - mae: 12.6834\n",
            "Epoch 98/100\n",
            "2/2 [==============================] - 0s 5ms/step - loss: 8.6762 - mae: 8.6762\n",
            "Epoch 99/100\n",
            "2/2 [==============================] - 0s 5ms/step - loss: 9.4693 - mae: 9.4693\n",
            "Epoch 100/100\n",
            "2/2 [==============================] - 0s 5ms/step - loss: 8.7067 - mae: 8.7067\n"
          ]
        },
        {
          "output_type": "execute_result",
          "data": {
            "text/plain": [
              "<keras.callbacks.History at 0x7fef3689b310>"
            ]
          },
          "metadata": {},
          "execution_count": 40
        }
      ]
    },
    {
      "cell_type": "code",
      "source": [
        "# Make and plot predictions for model_1\n",
        "y_preds_1 = model_1.predict(X_test)\n",
        "plot_predictions(predictions=y_preds_1)\n"
      ],
      "metadata": {
        "colab": {
          "base_uri": "https://localhost:8080/",
          "height": 428
        },
        "id": "O7ScoJzSroc7",
        "outputId": "958f3a36-4ad5-4446-cc5d-cc2055dc7553"
      },
      "execution_count": null,
      "outputs": [
        {
          "output_type": "display_data",
          "data": {
            "text/plain": [
              "<Figure size 720x504 with 1 Axes>"
            ],
            "image/png": "[encoded data removed]"
          },
          "metadata": {
            "needs_background": "light"
          }
        }
      ]
    },
    {
      "cell_type": "code",
      "source": [
        "# Calculate model_1 metrics\n",
        "mae_1 = mae(y_test, y_preds_1.squeeze()).numpy()\n",
        "mse_1 = mse(y_test, y_preds_1.squeeze()).numpy()\n",
        "mae_1, mse_1"
      ],
      "metadata": {
        "colab": {
          "base_uri": "https://localhost:8080/"
        },
        "id": "cP0OeJ3Ir9Qk",
        "outputId": "c3bc7e22-9596-4781-bd74-ad5a03692ce0"
      },
      "execution_count": null,
      "outputs": [
        {
          "output_type": "execute_result",
          "data": {
            "text/plain": [
              "(18.745327, 353.57336)"
            ]
          },
          "metadata": {},
          "execution_count": 42
        }
      ]
    },
    {
      "cell_type": "markdown",
      "source": [
        "### model 2"
      ],
      "metadata": {
        "id": "zp8dQE38tHs-"
      }
    },
    {
      "cell_type": "code",
      "source": [
        "# Set random seed\n",
        "tf.random.set_seed(42)\n",
        "\n",
        "# Replicate model_1 and add an extra layer\n",
        "model_2 = tf.keras.Sequential([\n",
        "  tf.keras.layers.Dense(1),\n",
        "  tf.keras.layers.Dense(1) # add a second layer\n",
        "])\n",
        "\n",
        "# Compile the model\n",
        "model_2.compile(loss=tf.keras.losses.mae,\n",
        "                optimizer=tf.keras.optimizers.SGD(),\n",
        "                metrics=['mae'])\n",
        "\n",
        "# Fit the model\n",
        "model_2.fit(tf.expand_dims(X_train, axis=-1), y_train, epochs=100, verbose=0) # set v"
      ],
      "metadata": {
        "colab": {
          "base_uri": "https://localhost:8080/"
        },
        "id": "8tGCvL4BtKA3",
        "outputId": "31554e52-8853-41a4-8079-66a94dd53217"
      },
      "execution_count": null,
      "outputs": [
        {
          "output_type": "execute_result",
          "data": {
            "text/plain": [
              "<keras.callbacks.History at 0x7fefbf36d1d0>"
            ]
          },
          "metadata": {},
          "execution_count": 43
        }
      ]
    },
    {
      "cell_type": "code",
      "source": [
        "# Make and plot predictions for model_2\n",
        "y_preds_2 = model_2.predict(X_test)\n",
        "plot_predictions(predictions=y_preds_2)"
      ],
      "metadata": {
        "colab": {
          "base_uri": "https://localhost:8080/",
          "height": 465
        },
        "id": "AKYpWvUgtUyU",
        "outputId": "85d37b71-2d8e-4117-f647-90af0ba36aa3"
      },
      "execution_count": null,
      "outputs": [
        {
          "output_type": "stream",
          "name": "stdout",
          "text": [
            "WARNING:tensorflow:5 out of the last 5 calls to <function Model.make_predict_function.<locals>.predict_function at 0x7fef3672e950> triggered tf.function retracing. Tracing is expensive and the excessive number of tracings could be due to (1) creating @tf.function repeatedly in a loop, (2) passing tensors with different shapes, (3) passing Python objects instead of tensors. For (1), please define your @tf.function outside of the loop. For (2), @tf.function has experimental_relax_shapes=True option that relaxes argument shapes that can avoid unnecessary retracing. For (3), please refer to https://www.tensorflow.org/guide/function#controlling_retracing and https://www.tensorflow.org/api_docs/python/tf/function for  more details.\n"
          ]
        },
        {
          "output_type": "display_data",
          "data": {
            "text/plain": [
              "<Figure size 720x504 with 1 Axes>"
            ],
            "image/png": "[encoded data removed]"
          },
          "metadata": {
            "needs_background": "light"
          }
        }
      ]
    },
    {
      "cell_type": "code",
      "source": [
        "# Calculate model_2 metrics\n",
        "mae_2 = mae(y_test, y_preds_2.squeeze()).numpy()\n",
        "mse_2 = mse(y_test, y_preds_2.squeeze()).numpy()\n",
        "mae_2, mse_2"
      ],
      "metadata": {
        "colab": {
          "base_uri": "https://localhost:8080/"
        },
        "id": "ziGWm2Watfvg",
        "outputId": "7b8156e7-1cc7-429b-e000-00a5043be5ed"
      },
      "execution_count": null,
      "outputs": [
        {
          "output_type": "execute_result",
          "data": {
            "text/plain": [
              "(1.9098114, 5.459232)"
            ]
          },
          "metadata": {},
          "execution_count": 45
        }
      ]
    },
    {
      "cell_type": "markdown",
      "source": [
        "### model 3"
      ],
      "metadata": {
        "id": "CxMn2AFptjSk"
      }
    },
    {
      "cell_type": "code",
      "source": [
        "# Set random seed\n",
        "tf.random.set_seed(42)\n",
        "\n",
        "# Replicate model_2\n",
        "model_3 = tf.keras.Sequential([\n",
        "  tf.keras.layers.Dense(1),\n",
        "  tf.keras.layers.Dense(1)\n",
        "])\n",
        "\n",
        "# Compile the model\n",
        "model_3.compile(loss=tf.keras.losses.mae,\n",
        "                optimizer=tf.keras.optimizers.SGD(),\n",
        "                metrics=['mae'])\n",
        "\n",
        "# Fit the model (this time for 500 epochs, not 100)\n",
        "model_3.fit(tf.expand_dims(X_train, axis=-1), y_train, epochs=500, verbose=0) # set ve"
      ],
      "metadata": {
        "colab": {
          "base_uri": "https://localhost:8080/"
        },
        "id": "z9MK70_ctnMv",
        "outputId": "161ad22d-0d8b-47a2-bfd5-6b30acfc1cae"
      },
      "execution_count": null,
      "outputs": [
        {
          "output_type": "execute_result",
          "data": {
            "text/plain": [
              "<keras.callbacks.History at 0x7fef381edcd0>"
            ]
          },
          "metadata": {},
          "execution_count": 46
        }
      ]
    },
    {
      "cell_type": "code",
      "source": [
        "# Make and plot predictions for model_3\n",
        "y_preds_3 = model_3.predict(X_test)\n",
        "plot_predictions(predictions=y_preds_3)"
      ],
      "metadata": {
        "colab": {
          "base_uri": "https://localhost:8080/",
          "height": 465
        },
        "id": "QF_V6EdSvA0S",
        "outputId": "91e4c779-e822-4cca-f139-2381b50c2e0e"
      },
      "execution_count": null,
      "outputs": [
        {
          "output_type": "stream",
          "name": "stdout",
          "text": [
            "WARNING:tensorflow:6 out of the last 6 calls to <function Model.make_predict_function.<locals>.predict_function at 0x7fef381954d0> triggered tf.function retracing. Tracing is expensive and the excessive number of tracings could be due to (1) creating @tf.function repeatedly in a loop, (2) passing tensors with different shapes, (3) passing Python objects instead of tensors. For (1), please define your @tf.function outside of the loop. For (2), @tf.function has experimental_relax_shapes=True option that relaxes argument shapes that can avoid unnecessary retracing. For (3), please refer to https://www.tensorflow.org/guide/function#controlling_retracing and https://www.tensorflow.org/api_docs/python/tf/function for  more details.\n"
          ]
        },
        {
          "output_type": "display_data",
          "data": {
            "text/plain": [
              "<Figure size 720x504 with 1 Axes>"
            ],
            "image/png": "[encoded data removed]"
          },
          "metadata": {
            "needs_background": "light"
          }
        }
      ]
    },
    {
      "cell_type": "code",
      "source": [
        "# Calculate model_3 metrics\n",
        "mae_3 = mae(y_test, y_preds_3.squeeze()).numpy()\n",
        "mse_3 = mse(y_test, y_preds_3.squeeze()).numpy()\n",
        "mae_3, mse_3"
      ],
      "metadata": {
        "colab": {
          "base_uri": "https://localhost:8080/"
        },
        "id": "DxtYPq5MvOGJ",
        "outputId": "9b4ecf7d-f291-43e8-e09e-7b81d6678c79"
      },
      "execution_count": null,
      "outputs": [
        {
          "output_type": "execute_result",
          "data": {
            "text/plain": [
              "(68.68786, 4804.4717)"
            ]
          },
          "metadata": {},
          "execution_count": 48
        }
      ]
    },
    {
      "cell_type": "markdown",
      "source": [
        "### comparing results of our experiments \n",
        "\"Note: start with smaller data set when testing/building model to make sure it works before moving on to big data sets \"\n",
        "\n",
        "\" Note: One of your main goals should be to minimize the time between your experiments. The more experiments you do, the more things you'll figure out which don't work and in turn, get closer to figuring out what does work. Remember the machine learning practitioner's motto: \"experiment, experiment, experiment\""
      ],
      "metadata": {
        "id": "9THoBBSHwXdO"
      }
    },
    {
      "cell_type": "code",
      "source": [
        "# compare model's results using a pandas DataFrame\n",
        "import pandas as pd\n",
        "model_results = [[\"model_1\", mae_1, mse_1],\n",
        "                 [\"model_2\", mae_2, mse_2],\n",
        "                 [\"model_3\", mae_3, mae_3]]\n",
        "all_results = pd.DataFrame(model_results, columns=[\"model\", \"mae\", \"mse\"])\n",
        "all_results"
      ],
      "metadata": {
        "colab": {
          "base_uri": "https://localhost:8080/",
          "height": 143
        },
        "id": "MR-XCdEev2qs",
        "outputId": "e392e7d1-b2a4-4033-dcc6-a13f4fb9101a"
      },
      "execution_count": null,
      "outputs": [
        {
          "output_type": "execute_result",
          "data": {
            "text/plain": [
              "     model        mae         mse\n",
              "0  model_1  18.745327  353.573364\n",
              "1  model_2   1.909811    5.459232\n",
              "2  model_3  68.687859   68.687859"
            ],
            "text/html": [
              "\n",
              "  <div id=\"df-114d7570-e5bc-4076-b9cd-f264f8ada31f\">\n",
              "    <div class=\"colab-df-container\">\n",
              "      <div>\n",
              "<style scoped>\n",
              "    .dataframe tbody tr th:only-of-type {\n",
              "        vertical-align: middle;\n",
              "    }\n",
              "\n",
              "    .dataframe tbody tr th {\n",
              "        vertical-align: top;\n",
              "    }\n",
              "\n",
              "    .dataframe thead th {\n",
              "        text-align: right;\n",
              "    }\n",
              "</style>\n",
              "<table border=\"1\" class=\"dataframe\">\n",
              "  <thead>\n",
              "    <tr style=\"text-align: right;\">\n",
              "      <th></th>\n",
              "      <th>model</th>\n",
              "      <th>mae</th>\n",
              "      <th>mse</th>\n",
              "    </tr>\n",
              "  </thead>\n",
              "  <tbody>\n",
              "    <tr>\n",
              "      <th>0</th>\n",
              "      <td>model_1</td>\n",
              "      <td>18.745327</td>\n",
              "      <td>353.573364</td>\n",
              "    </tr>\n",
              "    <tr>\n",
              "      <th>1</th>\n",
              "      <td>model_2</td>\n",
              "      <td>1.909811</td>\n",
              "      <td>5.459232</td>\n",
              "    </tr>\n",
              "    <tr>\n",
              "      <th>2</th>\n",
              "      <td>model_3</td>\n",
              "      <td>68.687859</td>\n",
              "      <td>68.687859</td>\n",
              "    </tr>\n",
              "  </tbody>\n",
              "</table>\n",
              "</div>\n",
              "      <button class=\"colab-df-convert\" onclick=\"convertToInteractive('df-114d7570-e5bc-4076-b9cd-f264f8ada31f')\"\n",
              "              title=\"Convert this dataframe to an interactive table.\"\n",
              "              style=\"display:none;\">\n",
              "        \n",
              "  <svg xmlns=\"http://www.w3.org/2000/svg\" height=\"24px\"viewBox=\"0 0 24 24\"\n",
              "       width=\"24px\">\n",
              "    <path d=\"M0 0h24v24H0V0z\" fill=\"none\"/>\n",
              "    <path d=\"M18.56 5.44l.94 2.06.94-2.06 2.06-.94-2.06-.94-.94-2.06-.94 2.06-2.06.94zm-11 1L8.5 8.5l.94-2.06 2.06-.94-2.06-.94L8.5 2.5l-.94 2.06-2.06.94zm10 10l.94 2.06.94-2.06 2.06-.94-2.06-.94-.94-2.06-.94 2.06-2.06.94z\"/><path d=\"M17.41 7.96l-1.37-1.37c-.4-.4-.92-.59-1.43-.59-.52 0-1.04.2-1.43.59L10.3 9.45l-7.72 7.72c-.78.78-.78 2.05 0 2.83L4 21.41c.39.39.9.59 1.41.59.51 0 1.02-.2 1.41-.59l7.78-7.78 2.81-2.81c.8-.78.8-2.07 0-2.86zM5.41 20L4 18.59l7.72-7.72 1.47 1.35L5.41 20z\"/>\n",
              "  </svg>\n",
              "      </button>\n",
              "      \n",
              "  <style>\n",
              "    .colab-df-container {\n",
              "      display:flex;\n",
              "      flex-wrap:wrap;\n",
              "      gap: 12px;\n",
              "    }\n",
              "\n",
              "    .colab-df-convert {\n",
              "      background-color: #E8F0FE;\n",
              "      border: none;\n",
              "      border-radius: 50%;\n",
              "      cursor: pointer;\n",
              "      display: none;\n",
              "      fill: #1967D2;\n",
              "      height: 32px;\n",
              "      padding: 0 0 0 0;\n",
              "      width: 32px;\n",
              "    }\n",
              "\n",
              "    .colab-df-convert:hover {\n",
              "      background-color: #E2EBFA;\n",
              "      box-shadow: 0px 1px 2px rgba(60, 64, 67, 0.3), 0px 1px 3px 1px rgba(60, 64, 67, 0.15);\n",
              "      fill: #174EA6;\n",
              "    }\n",
              "\n",
              "    [theme=dark] .colab-df-convert {\n",
              "      background-color: #3B4455;\n",
              "      fill: #D2E3FC;\n",
              "    }\n",
              "\n",
              "    [theme=dark] .colab-df-convert:hover {\n",
              "      background-color: #434B5C;\n",
              "      box-shadow: 0px 1px 3px 1px rgba(0, 0, 0, 0.15);\n",
              "      filter: drop-shadow(0px 1px 2px rgba(0, 0, 0, 0.3));\n",
              "      fill: #FFFFFF;\n",
              "    }\n",
              "  </style>\n",
              "\n",
              "      <script>\n",
              "        const buttonEl =\n",
              "          document.querySelector('#df-114d7570-e5bc-4076-b9cd-f264f8ada31f button.colab-df-convert');\n",
              "        buttonEl.style.display =\n",
              "          google.colab.kernel.accessAllowed ? 'block' : 'none';\n",
              "\n",
              "        async function convertToInteractive(key) {\n",
              "          const element = document.querySelector('#df-114d7570-e5bc-4076-b9cd-f264f8ada31f');\n",
              "          const dataTable =\n",
              "            await google.colab.kernel.invokeFunction('convertToInteractive',\n",
              "                                                     [key], {});\n",
              "          if (!dataTable) return;\n",
              "\n",
              "          const docLinkHtml = 'Like what you see? Visit the ' +\n",
              "            '<a target=\"_blank\" href=https://colab.research.google.com/notebooks/data_table.ipynb>data table notebook</a>'\n",
              "            + ' to learn more about interactive tables.';\n",
              "          element.innerHTML = '';\n",
              "          dataTable['output_type'] = 'display_data';\n",
              "          await google.colab.output.renderOutput(dataTable, element);\n",
              "          const docLink = document.createElement('div');\n",
              "          docLink.innerHTML = docLinkHtml;\n",
              "          element.appendChild(docLink);\n",
              "        }\n",
              "      </script>\n",
              "    </div>\n",
              "  </div>\n",
              "  "
            ]
          },
          "metadata": {},
          "execution_count": 49
        }
      ]
    },
    {
      "cell_type": "code",
      "source": [
        "model_2.summary()\n"
      ],
      "metadata": {
        "colab": {
          "base_uri": "https://localhost:8080/"
        },
        "id": "QskiDco3w_Un",
        "outputId": "2be0d851-9a0b-4580-aa44-3232ffc0e2c3"
      },
      "execution_count": null,
      "outputs": [
        {
          "output_type": "stream",
          "name": "stdout",
          "text": [
            "Model: \"sequential_5\"\n",
            "_________________________________________________________________\n",
            " Layer (type)                Output Shape              Param #   \n",
            "=================================================================\n",
            " dense_7 (Dense)             (None, 1)                 2         \n",
            "                                                                 \n",
            " dense_8 (Dense)             (None, 1)                 2         \n",
            "                                                                 \n",
            "=================================================================\n",
            "Total params: 4\n",
            "Trainable params: 4\n",
            "Non-trainable params: 0\n",
            "_________________________________________________________________\n"
          ]
        }
      ]
    },
    {
      "cell_type": "markdown",
      "source": [
        "## tracking your experiments\n",
        "One really good habit to get into is tracking your modelling experiments to see which perform better than others.\n",
        "\n",
        "We've done a simple version of this above (keeping the results in different variables).\n",
        "\n",
        "📖 Resource: But as you build more models, you'll want to look into using tools such as:\n",
        "\n",
        "- TensorBoard - a component of the TensorFlow library to help track modelling experiments (we'll see this later).\n",
        "- Weights & Biases - a tool for tracking all kinds of machine learning experiments (the good news for Weights & Biases is it plugs into TensorBoard)."
      ],
      "metadata": {
        "id": "pHalExd2x2ZU"
      }
    },
    {
      "cell_type": "markdown",
      "source": [
        "### save model \n",
        "Once you've trained a model and found one which performs to your liking, you'll probably want to save it for use elsewhere (like a web application or mobile device).\n",
        "\n",
        "You can save a TensorFlow/Keras model using model.save().\n",
        "\n",
        "There are two ways to save a model in TensorFlow:\n",
        "1. The SavedModel format (default).\n",
        "2. The HDF5 format.\n",
        "\n",
        "The main difference between the two is the SavedModel is automatically able to save custom objects (such as special layers) without additional modifications when loading the model back in.\n",
        "\n",
        "Which one should you use?\n",
        "\n",
        "It depends on your situation but the SavedModel format will suffice most of the time.\n",
        "\n",
        "Both methods use the same method call.\n"
      ],
      "metadata": {
        "id": "G2YldVHWyTAp"
      }
    },
    {
      "cell_type": "code",
      "source": [
        "# Save model using the SavedModel format\n",
        "model_2.save(\"best_model_SavedModel_format\")"
      ],
      "metadata": {
        "colab": {
          "base_uri": "https://localhost:8080/"
        },
        "id": "gKPd0ElOe9Rn",
        "outputId": "d5f1f457-9dcc-4d84-866b-43dc4e81d9f4"
      },
      "execution_count": null,
      "outputs": [
        {
          "output_type": "stream",
          "name": "stdout",
          "text": [
            "INFO:tensorflow:Assets written to: best_model_SavedModel_format/assets\n"
          ]
        }
      ]
    },
    {
      "cell_type": "code",
      "source": [
        "# Save model using the hdf5 format (better for use outside of TF code)\n",
        "model_2.save(\"best_model_hdf5_format.h5\")"
      ],
      "metadata": {
        "id": "gguZ_teigA3S"
      },
      "execution_count": null,
      "outputs": []
    },
    {
      "cell_type": "markdown",
      "source": [
        "## Loading in a saved model\n"
      ],
      "metadata": {
        "id": "p_8yujHkgXSQ"
      }
    },
    {
      "cell_type": "code",
      "source": [
        "# Load in the SavedModel format model\n",
        "loaded_SavedModel_format = tf.keras.models.load_model(\"best_model_SavedModel_format\")\n",
        "loaded_SavedModel_format.summary()"
      ],
      "metadata": {
        "colab": {
          "base_uri": "https://localhost:8080/"
        },
        "id": "hN0keoymgZUy",
        "outputId": "43bb79a4-796a-417d-bc30-2693abcec6f0"
      },
      "execution_count": null,
      "outputs": [
        {
          "output_type": "stream",
          "name": "stdout",
          "text": [
            "Model: \"sequential_5\"\n",
            "_________________________________________________________________\n",
            " Layer (type)                Output Shape              Param #   \n",
            "=================================================================\n",
            " dense_7 (Dense)             (None, 1)                 2         \n",
            "                                                                 \n",
            " dense_8 (Dense)             (None, 1)                 2         \n",
            "                                                                 \n",
            "=================================================================\n",
            "Total params: 4\n",
            "Trainable params: 4\n",
            "Non-trainable params: 0\n",
            "_________________________________________________________________\n"
          ]
        }
      ]
    },
    {
      "cell_type": "code",
      "source": [
        "# Compare model_2 predictions with SavedModel format model predictions\n",
        "model_2_preds = model_2.predict(X_test)\n",
        "loaded_SavedModel_format_preds = loaded_SavedModel_format.predict(X_test)\n",
        "model_2_preds == loaded_SavedModel_format_preds"
      ],
      "metadata": {
        "colab": {
          "base_uri": "https://localhost:8080/"
        },
        "id": "QO8_FOrNjPLf",
        "outputId": "766cd666-fdef-42fc-cffb-e4e643c70fe1"
      },
      "execution_count": null,
      "outputs": [
        {
          "output_type": "execute_result",
          "data": {
            "text/plain": [
              "array([[ True],\n",
              "       [ True],\n",
              "       [ True],\n",
              "       [ True],\n",
              "       [ True],\n",
              "       [ True],\n",
              "       [ True],\n",
              "       [ True],\n",
              "       [ True],\n",
              "       [ True]])"
            ]
          },
          "metadata": {},
          "execution_count": 54
        }
      ]
    },
    {
      "cell_type": "code",
      "source": [
        "# Compare the MAE of model_2 preds and loaded_SavedModel_preds\n",
        "mae(y_test, y_pred=model_2_preds) == mae(y_test, y_pred=loaded_SavedModel_format_preds)"
      ],
      "metadata": {
        "colab": {
          "base_uri": "https://localhost:8080/"
        },
        "id": "zKFHXeOijr6b",
        "outputId": "932139d5-2c0d-4fcd-f50a-cc28042074c8"
      },
      "execution_count": null,
      "outputs": [
        {
          "output_type": "execute_result",
          "data": {
            "text/plain": [
              "<tf.Tensor: shape=(10,), dtype=bool, numpy=\n",
              "array([ True,  True,  True,  True,  True,  True,  True,  True,  True,\n",
              "        True])>"
            ]
          },
          "metadata": {},
          "execution_count": 56
        }
      ]
    },
    {
      "cell_type": "code",
      "source": [
        "# Load .h5 format\n",
        "loaded_h5_model = tf.keras.models.load_model(\"best_model_hdf5_format.h5\")\n",
        "loaded_h5_model.summary()"
      ],
      "metadata": {
        "colab": {
          "base_uri": "https://localhost:8080/"
        },
        "id": "XL8dXcxRkFSC",
        "outputId": "a4b6e371-a1fc-4cc4-c9b9-f425675e0cf0"
      },
      "execution_count": null,
      "outputs": [
        {
          "output_type": "stream",
          "name": "stdout",
          "text": [
            "Model: \"sequential_5\"\n",
            "_________________________________________________________________\n",
            " Layer (type)                Output Shape              Param #   \n",
            "=================================================================\n",
            " dense_7 (Dense)             (None, 1)                 2         \n",
            "                                                                 \n",
            " dense_8 (Dense)             (None, 1)                 2         \n",
            "                                                                 \n",
            "=================================================================\n",
            "Total params: 4\n",
            "Trainable params: 4\n",
            "Non-trainable params: 0\n",
            "_________________________________________________________________\n"
          ]
        }
      ]
    },
    {
      "cell_type": "code",
      "source": [
        "# Check to see if .h5 model predictions match model_2\n",
        "model_2_preds = model_2.predict(X_test)\n",
        "loaded_h5_model_preds = loaded_h5_model.predict(X_test)\n",
        "model_2_preds == loaded_h5_model_preds"
      ],
      "metadata": {
        "colab": {
          "base_uri": "https://localhost:8080/"
        },
        "id": "KkPBvYZpkSXn",
        "outputId": "18aaa003-a5e9-4540-c9d7-cfbf2a2ac24c"
      },
      "execution_count": null,
      "outputs": [
        {
          "output_type": "execute_result",
          "data": {
            "text/plain": [
              "array([[ True],\n",
              "       [ True],\n",
              "       [ True],\n",
              "       [ True],\n",
              "       [ True],\n",
              "       [ True],\n",
              "       [ True],\n",
              "       [ True],\n",
              "       [ True],\n",
              "       [ True]])"
            ]
          },
          "metadata": {},
          "execution_count": 61
        }
      ]
    },
    {
      "cell_type": "markdown",
      "source": [
        "Download a model from Google Colab\n",
        "\n",
        "-You can go to the \"files\" tab and right click on the file you're after and click \"download\".\n",
        "\n",
        "-Use code (see the cell below).\n"
      ],
      "metadata": {
        "id": "NZ-B_K6zkrWf"
      }
    },
    {
      "cell_type": "code",
      "source": [
        "# Download a file\n",
        "from google.colab import files\n",
        "files.download(\"best_model_hdf5_format.h5\")"
      ],
      "metadata": {
        "colab": {
          "base_uri": "https://localhost:8080/",
          "height": 17
        },
        "id": "FncvRFCPkqbn",
        "outputId": "04525f06-0dae-4cd3-964b-9bd8267acc57"
      },
      "execution_count": null,
      "outputs": [
        {
          "output_type": "display_data",
          "data": {
            "text/plain": [
              "<IPython.core.display.Javascript object>"
            ],
            "application/javascript": [
              "\n",
              "    async function download(id, filename, size) {\n",
              "      if (!google.colab.kernel.accessAllowed) {\n",
              "        return;\n",
              "      }\n",
              "      const div = document.createElement('div');\n",
              "      const label = document.createElement('label');\n",
              "      label.textContent = `Downloading \"${filename}\": `;\n",
              "      div.appendChild(label);\n",
              "      const progress = document.createElement('progress');\n",
              "      progress.max = size;\n",
              "      div.appendChild(progress);\n",
              "      document.body.appendChild(div);\n",
              "\n",
              "      const buffers = [];\n",
              "      let downloaded = 0;\n",
              "\n",
              "      const channel = await google.colab.kernel.comms.open(id);\n",
              "      // Send a message to notify the kernel that we're ready.\n",
              "      channel.send({})\n",
              "\n",
              "      for await (const message of channel.messages) {\n",
              "        // Send a message to notify the kernel that we're ready.\n",
              "        channel.send({})\n",
              "        if (message.buffers) {\n",
              "          for (const buffer of message.buffers) {\n",
              "            buffers.push(buffer);\n",
              "            downloaded += buffer.byteLength;\n",
              "            progress.value = downloaded;\n",
              "          }\n",
              "        }\n",
              "      }\n",
              "      const blob = new Blob(buffers, {type: 'application/binary'});\n",
              "      const a = document.createElement('a');\n",
              "      a.href = window.URL.createObjectURL(blob);\n",
              "      a.download = filename;\n",
              "      div.appendChild(a);\n",
              "      a.click();\n",
              "      div.remove();\n",
              "    }\n",
              "  "
            ]
          },
          "metadata": {}
        },
        {
          "output_type": "display_data",
          "data": {
            "text/plain": [
              "<IPython.core.display.Javascript object>"
            ],
            "application/javascript": [
              "download(\"download_96fec1de-fa87-49bf-9239-1cd7af81499b\", \"best_model_hdf5_format.h5\", 17872)"
            ]
          },
          "metadata": {}
        }
      ]
    },
    {
      "cell_type": "markdown",
      "source": [
        "## large example\n"
      ],
      "metadata": {
        "id": "HrDR4GoMleDt"
      }
    },
    {
      "cell_type": "code",
      "source": [
        "import tensorflow as tf\n",
        "import pandas as pd\n",
        "import matplotlib.pyplot as plt"
      ],
      "metadata": {
        "id": "CeEekApeliZ8"
      },
      "execution_count": null,
      "outputs": []
    },
    {
      "cell_type": "code",
      "source": [
        "# insurance dataset from csv\n",
        "insurance = pd.read_csv(\"https://raw.githubusercontent.com/stedy/Machine-Learning-with-R-datasets/master/insurance.csv\")\n",
        "insurance"
      ],
      "metadata": {
        "colab": {
          "base_uri": "https://localhost:8080/",
          "height": 424
        },
        "id": "7EHbxU7Flkwc",
        "outputId": "6c44f8bc-1470-4bb6-e3a1-60d40900051a"
      },
      "execution_count": null,
      "outputs": [
        {
          "output_type": "execute_result",
          "data": {
            "text/plain": [
              "      age     sex     bmi  children smoker     region      charges\n",
              "0      19  female  27.900         0    yes  southwest  16884.92400\n",
              "1      18    male  33.770         1     no  southeast   1725.55230\n",
              "2      28    male  33.000         3     no  southeast   4449.46200\n",
              "3      33    male  22.705         0     no  northwest  21984.47061\n",
              "4      32    male  28.880         0     no  northwest   3866.85520\n",
              "...   ...     ...     ...       ...    ...        ...          ...\n",
              "1333   50    male  30.970         3     no  northwest  10600.54830\n",
              "1334   18  female  31.920         0     no  northeast   2205.98080\n",
              "1335   18  female  36.850         0     no  southeast   1629.83350\n",
              "1336   21  female  25.800         0     no  southwest   2007.94500\n",
              "1337   61  female  29.070         0    yes  northwest  29141.36030\n",
              "\n",
              "[1338 rows x 7 columns]"
            ],
            "text/html": [
              "\n",
              "  <div id=\"df-61165bb6-73d5-4b44-b547-545b725a3c5c\">\n",
              "    <div class=\"colab-df-container\">\n",
              "      <div>\n",
              "<style scoped>\n",
              "    .dataframe tbody tr th:only-of-type {\n",
              "        vertical-align: middle;\n",
              "    }\n",
              "\n",
              "    .dataframe tbody tr th {\n",
              "        vertical-align: top;\n",
              "    }\n",
              "\n",
              "    .dataframe thead th {\n",
              "        text-align: right;\n",
              "    }\n",
              "</style>\n",
              "<table border=\"1\" class=\"dataframe\">\n",
              "  <thead>\n",
              "    <tr style=\"text-align: right;\">\n",
              "      <th></th>\n",
              "      <th>age</th>\n",
              "      <th>sex</th>\n",
              "      <th>bmi</th>\n",
              "      <th>children</th>\n",
              "      <th>smoker</th>\n",
              "      <th>region</th>\n",
              "      <th>charges</th>\n",
              "    </tr>\n",
              "  </thead>\n",
              "  <tbody>\n",
              "    <tr>\n",
              "      <th>0</th>\n",
              "      <td>19</td>\n",
              "      <td>female</td>\n",
              "      <td>27.900</td>\n",
              "      <td>0</td>\n",
              "      <td>yes</td>\n",
              "      <td>southwest</td>\n",
              "      <td>16884.92400</td>\n",
              "    </tr>\n",
              "    <tr>\n",
              "      <th>1</th>\n",
              "      <td>18</td>\n",
              "      <td>male</td>\n",
              "      <td>33.770</td>\n",
              "      <td>1</td>\n",
              "      <td>no</td>\n",
              "      <td>southeast</td>\n",
              "      <td>1725.55230</td>\n",
              "    </tr>\n",
              "    <tr>\n",
              "      <th>2</th>\n",
              "      <td>28</td>\n",
              "      <td>male</td>\n",
              "      <td>33.000</td>\n",
              "      <td>3</td>\n",
              "      <td>no</td>\n",
              "      <td>southeast</td>\n",
              "      <td>4449.46200</td>\n",
              "    </tr>\n",
              "    <tr>\n",
              "      <th>3</th>\n",
              "      <td>33</td>\n",
              "      <td>male</td>\n",
              "      <td>22.705</td>\n",
              "      <td>0</td>\n",
              "      <td>no</td>\n",
              "      <td>northwest</td>\n",
              "      <td>21984.47061</td>\n",
              "    </tr>\n",
              "    <tr>\n",
              "      <th>4</th>\n",
              "      <td>32</td>\n",
              "      <td>male</td>\n",
              "      <td>28.880</td>\n",
              "      <td>0</td>\n",
              "      <td>no</td>\n",
              "      <td>northwest</td>\n",
              "      <td>3866.85520</td>\n",
              "    </tr>\n",
              "    <tr>\n",
              "      <th>...</th>\n",
              "      <td>...</td>\n",
              "      <td>...</td>\n",
              "      <td>...</td>\n",
              "      <td>...</td>\n",
              "      <td>...</td>\n",
              "      <td>...</td>\n",
              "      <td>...</td>\n",
              "    </tr>\n",
              "    <tr>\n",
              "      <th>1333</th>\n",
              "      <td>50</td>\n",
              "      <td>male</td>\n",
              "      <td>30.970</td>\n",
              "      <td>3</td>\n",
              "      <td>no</td>\n",
              "      <td>northwest</td>\n",
              "      <td>10600.54830</td>\n",
              "    </tr>\n",
              "    <tr>\n",
              "      <th>1334</th>\n",
              "      <td>18</td>\n",
              "      <td>female</td>\n",
              "      <td>31.920</td>\n",
              "      <td>0</td>\n",
              "      <td>no</td>\n",
              "      <td>northeast</td>\n",
              "      <td>2205.98080</td>\n",
              "    </tr>\n",
              "    <tr>\n",
              "      <th>1335</th>\n",
              "      <td>18</td>\n",
              "      <td>female</td>\n",
              "      <td>36.850</td>\n",
              "      <td>0</td>\n",
              "      <td>no</td>\n",
              "      <td>southeast</td>\n",
              "      <td>1629.83350</td>\n",
              "    </tr>\n",
              "    <tr>\n",
              "      <th>1336</th>\n",
              "      <td>21</td>\n",
              "      <td>female</td>\n",
              "      <td>25.800</td>\n",
              "      <td>0</td>\n",
              "      <td>no</td>\n",
              "      <td>southwest</td>\n",
              "      <td>2007.94500</td>\n",
              "    </tr>\n",
              "    <tr>\n",
              "      <th>1337</th>\n",
              "      <td>61</td>\n",
              "      <td>female</td>\n",
              "      <td>29.070</td>\n",
              "      <td>0</td>\n",
              "      <td>yes</td>\n",
              "      <td>northwest</td>\n",
              "      <td>29141.36030</td>\n",
              "    </tr>\n",
              "  </tbody>\n",
              "</table>\n",
              "<p>1338 rows × 7 columns</p>\n",
              "</div>\n",
              "      <button class=\"colab-df-convert\" onclick=\"convertToInteractive('df-61165bb6-73d5-4b44-b547-545b725a3c5c')\"\n",
              "              title=\"Convert this dataframe to an interactive table.\"\n",
              "              style=\"display:none;\">\n",
              "        \n",
              "  <svg xmlns=\"http://www.w3.org/2000/svg\" height=\"24px\"viewBox=\"0 0 24 24\"\n",
              "       width=\"24px\">\n",
              "    <path d=\"M0 0h24v24H0V0z\" fill=\"none\"/>\n",
              "    <path d=\"M18.56 5.44l.94 2.06.94-2.06 2.06-.94-2.06-.94-.94-2.06-.94 2.06-2.06.94zm-11 1L8.5 8.5l.94-2.06 2.06-.94-2.06-.94L8.5 2.5l-.94 2.06-2.06.94zm10 10l.94 2.06.94-2.06 2.06-.94-2.06-.94-.94-2.06-.94 2.06-2.06.94z\"/><path d=\"M17.41 7.96l-1.37-1.37c-.4-.4-.92-.59-1.43-.59-.52 0-1.04.2-1.43.59L10.3 9.45l-7.72 7.72c-.78.78-.78 2.05 0 2.83L4 21.41c.39.39.9.59 1.41.59.51 0 1.02-.2 1.41-.59l7.78-7.78 2.81-2.81c.8-.78.8-2.07 0-2.86zM5.41 20L4 18.59l7.72-7.72 1.47 1.35L5.41 20z\"/>\n",
              "  </svg>\n",
              "      </button>\n",
              "      \n",
              "  <style>\n",
              "    .colab-df-container {\n",
              "      display:flex;\n",
              "      flex-wrap:wrap;\n",
              "      gap: 12px;\n",
              "    }\n",
              "\n",
              "    .colab-df-convert {\n",
              "      background-color: #E8F0FE;\n",
              "      border: none;\n",
              "      border-radius: 50%;\n",
              "      cursor: pointer;\n",
              "      display: none;\n",
              "      fill: #1967D2;\n",
              "      height: 32px;\n",
              "      padding: 0 0 0 0;\n",
              "      width: 32px;\n",
              "    }\n",
              "\n",
              "    .colab-df-convert:hover {\n",
              "      background-color: #E2EBFA;\n",
              "      box-shadow: 0px 1px 2px rgba(60, 64, 67, 0.3), 0px 1px 3px 1px rgba(60, 64, 67, 0.15);\n",
              "      fill: #174EA6;\n",
              "    }\n",
              "\n",
              "    [theme=dark] .colab-df-convert {\n",
              "      background-color: #3B4455;\n",
              "      fill: #D2E3FC;\n",
              "    }\n",
              "\n",
              "    [theme=dark] .colab-df-convert:hover {\n",
              "      background-color: #434B5C;\n",
              "      box-shadow: 0px 1px 3px 1px rgba(0, 0, 0, 0.15);\n",
              "      filter: drop-shadow(0px 1px 2px rgba(0, 0, 0, 0.3));\n",
              "      fill: #FFFFFF;\n",
              "    }\n",
              "  </style>\n",
              "\n",
              "      <script>\n",
              "        const buttonEl =\n",
              "          document.querySelector('#df-61165bb6-73d5-4b44-b547-545b725a3c5c button.colab-df-convert');\n",
              "        buttonEl.style.display =\n",
              "          google.colab.kernel.accessAllowed ? 'block' : 'none';\n",
              "\n",
              "        async function convertToInteractive(key) {\n",
              "          const element = document.querySelector('#df-61165bb6-73d5-4b44-b547-545b725a3c5c');\n",
              "          const dataTable =\n",
              "            await google.colab.kernel.invokeFunction('convertToInteractive',\n",
              "                                                     [key], {});\n",
              "          if (!dataTable) return;\n",
              "\n",
              "          const docLinkHtml = 'Like what you see? Visit the ' +\n",
              "            '<a target=\"_blank\" href=https://colab.research.google.com/notebooks/data_table.ipynb>data table notebook</a>'\n",
              "            + ' to learn more about interactive tables.';\n",
              "          element.innerHTML = '';\n",
              "          dataTable['output_type'] = 'display_data';\n",
              "          await google.colab.output.renderOutput(dataTable, element);\n",
              "          const docLink = document.createElement('div');\n",
              "          docLink.innerHTML = docLinkHtml;\n",
              "          element.appendChild(docLink);\n",
              "        }\n",
              "      </script>\n",
              "    </div>\n",
              "  </div>\n",
              "  "
            ]
          },
          "metadata": {},
          "execution_count": 63
        }
      ]
    },
    {
      "cell_type": "code",
      "source": [
        "# one hot encoding (turn categorical vars to quantatative)\n",
        "insurance_one_hot = pd.get_dummies(insurance)\n",
        "insurance_one_hot.head()"
      ],
      "metadata": {
        "colab": {
          "base_uri": "https://localhost:8080/",
          "height": 270
        },
        "id": "U3uwLK5vmEQ7",
        "outputId": "4d680f9a-b785-4930-eb2e-52d7c2dc5f56"
      },
      "execution_count": null,
      "outputs": [
        {
          "output_type": "execute_result",
          "data": {
            "text/plain": [
              "   age     bmi  children      charges  sex_female  sex_male  smoker_no  \\\n",
              "0   19  27.900         0  16884.92400           1         0          0   \n",
              "1   18  33.770         1   1725.55230           0         1          1   \n",
              "2   28  33.000         3   4449.46200           0         1          1   \n",
              "3   33  22.705         0  21984.47061           0         1          1   \n",
              "4   32  28.880         0   3866.85520           0         1          1   \n",
              "\n",
              "   smoker_yes  region_northeast  region_northwest  region_southeast  \\\n",
              "0           1                 0                 0                 0   \n",
              "1           0                 0                 0                 1   \n",
              "2           0                 0                 0                 1   \n",
              "3           0                 0                 1                 0   \n",
              "4           0                 0                 1                 0   \n",
              "\n",
              "   region_southwest  \n",
              "0                 1  \n",
              "1                 0  \n",
              "2                 0  \n",
              "3                 0  \n",
              "4                 0  "
            ],
            "text/html": [
              "\n",
              "  <div id=\"df-b40437f9-3c13-40bd-b5f5-b3bf1623079e\">\n",
              "    <div class=\"colab-df-container\">\n",
              "      <div>\n",
              "<style scoped>\n",
              "    .dataframe tbody tr th:only-of-type {\n",
              "        vertical-align: middle;\n",
              "    }\n",
              "\n",
              "    .dataframe tbody tr th {\n",
              "        vertical-align: top;\n",
              "    }\n",
              "\n",
              "    .dataframe thead th {\n",
              "        text-align: right;\n",
              "    }\n",
              "</style>\n",
              "<table border=\"1\" class=\"dataframe\">\n",
              "  <thead>\n",
              "    <tr style=\"text-align: right;\">\n",
              "      <th></th>\n",
              "      <th>age</th>\n",
              "      <th>bmi</th>\n",
              "      <th>children</th>\n",
              "      <th>charges</th>\n",
              "      <th>sex_female</th>\n",
              "      <th>sex_male</th>\n",
              "      <th>smoker_no</th>\n",
              "      <th>smoker_yes</th>\n",
              "      <th>region_northeast</th>\n",
              "      <th>region_northwest</th>\n",
              "      <th>region_southeast</th>\n",
              "      <th>region_southwest</th>\n",
              "    </tr>\n",
              "  </thead>\n",
              "  <tbody>\n",
              "    <tr>\n",
              "      <th>0</th>\n",
              "      <td>19</td>\n",
              "      <td>27.900</td>\n",
              "      <td>0</td>\n",
              "      <td>16884.92400</td>\n",
              "      <td>1</td>\n",
              "      <td>0</td>\n",
              "      <td>0</td>\n",
              "      <td>1</td>\n",
              "      <td>0</td>\n",
              "      <td>0</td>\n",
              "      <td>0</td>\n",
              "      <td>1</td>\n",
              "    </tr>\n",
              "    <tr>\n",
              "      <th>1</th>\n",
              "      <td>18</td>\n",
              "      <td>33.770</td>\n",
              "      <td>1</td>\n",
              "      <td>1725.55230</td>\n",
              "      <td>0</td>\n",
              "      <td>1</td>\n",
              "      <td>1</td>\n",
              "      <td>0</td>\n",
              "      <td>0</td>\n",
              "      <td>0</td>\n",
              "      <td>1</td>\n",
              "      <td>0</td>\n",
              "    </tr>\n",
              "    <tr>\n",
              "      <th>2</th>\n",
              "      <td>28</td>\n",
              "      <td>33.000</td>\n",
              "      <td>3</td>\n",
              "      <td>4449.46200</td>\n",
              "      <td>0</td>\n",
              "      <td>1</td>\n",
              "      <td>1</td>\n",
              "      <td>0</td>\n",
              "      <td>0</td>\n",
              "      <td>0</td>\n",
              "      <td>1</td>\n",
              "      <td>0</td>\n",
              "    </tr>\n",
              "    <tr>\n",
              "      <th>3</th>\n",
              "      <td>33</td>\n",
              "      <td>22.705</td>\n",
              "      <td>0</td>\n",
              "      <td>21984.47061</td>\n",
              "      <td>0</td>\n",
              "      <td>1</td>\n",
              "      <td>1</td>\n",
              "      <td>0</td>\n",
              "      <td>0</td>\n",
              "      <td>1</td>\n",
              "      <td>0</td>\n",
              "      <td>0</td>\n",
              "    </tr>\n",
              "    <tr>\n",
              "      <th>4</th>\n",
              "      <td>32</td>\n",
              "      <td>28.880</td>\n",
              "      <td>0</td>\n",
              "      <td>3866.85520</td>\n",
              "      <td>0</td>\n",
              "      <td>1</td>\n",
              "      <td>1</td>\n",
              "      <td>0</td>\n",
              "      <td>0</td>\n",
              "      <td>1</td>\n",
              "      <td>0</td>\n",
              "      <td>0</td>\n",
              "    </tr>\n",
              "  </tbody>\n",
              "</table>\n",
              "</div>\n",
              "      <button class=\"colab-df-convert\" onclick=\"convertToInteractive('df-b40437f9-3c13-40bd-b5f5-b3bf1623079e')\"\n",
              "              title=\"Convert this dataframe to an interactive table.\"\n",
              "              style=\"display:none;\">\n",
              "        \n",
              "  <svg xmlns=\"http://www.w3.org/2000/svg\" height=\"24px\"viewBox=\"0 0 24 24\"\n",
              "       width=\"24px\">\n",
              "    <path d=\"M0 0h24v24H0V0z\" fill=\"none\"/>\n",
              "    <path d=\"M18.56 5.44l.94 2.06.94-2.06 2.06-.94-2.06-.94-.94-2.06-.94 2.06-2.06.94zm-11 1L8.5 8.5l.94-2.06 2.06-.94-2.06-.94L8.5 2.5l-.94 2.06-2.06.94zm10 10l.94 2.06.94-2.06 2.06-.94-2.06-.94-.94-2.06-.94 2.06-2.06.94z\"/><path d=\"M17.41 7.96l-1.37-1.37c-.4-.4-.92-.59-1.43-.59-.52 0-1.04.2-1.43.59L10.3 9.45l-7.72 7.72c-.78.78-.78 2.05 0 2.83L4 21.41c.39.39.9.59 1.41.59.51 0 1.02-.2 1.41-.59l7.78-7.78 2.81-2.81c.8-.78.8-2.07 0-2.86zM5.41 20L4 18.59l7.72-7.72 1.47 1.35L5.41 20z\"/>\n",
              "  </svg>\n",
              "      </button>\n",
              "      \n",
              "  <style>\n",
              "    .colab-df-container {\n",
              "      display:flex;\n",
              "      flex-wrap:wrap;\n",
              "      gap: 12px;\n",
              "    }\n",
              "\n",
              "    .colab-df-convert {\n",
              "      background-color: #E8F0FE;\n",
              "      border: none;\n",
              "      border-radius: 50%;\n",
              "      cursor: pointer;\n",
              "      display: none;\n",
              "      fill: #1967D2;\n",
              "      height: 32px;\n",
              "      padding: 0 0 0 0;\n",
              "      width: 32px;\n",
              "    }\n",
              "\n",
              "    .colab-df-convert:hover {\n",
              "      background-color: #E2EBFA;\n",
              "      box-shadow: 0px 1px 2px rgba(60, 64, 67, 0.3), 0px 1px 3px 1px rgba(60, 64, 67, 0.15);\n",
              "      fill: #174EA6;\n",
              "    }\n",
              "\n",
              "    [theme=dark] .colab-df-convert {\n",
              "      background-color: #3B4455;\n",
              "      fill: #D2E3FC;\n",
              "    }\n",
              "\n",
              "    [theme=dark] .colab-df-convert:hover {\n",
              "      background-color: #434B5C;\n",
              "      box-shadow: 0px 1px 3px 1px rgba(0, 0, 0, 0.15);\n",
              "      filter: drop-shadow(0px 1px 2px rgba(0, 0, 0, 0.3));\n",
              "      fill: #FFFFFF;\n",
              "    }\n",
              "  </style>\n",
              "\n",
              "      <script>\n",
              "        const buttonEl =\n",
              "          document.querySelector('#df-b40437f9-3c13-40bd-b5f5-b3bf1623079e button.colab-df-convert');\n",
              "        buttonEl.style.display =\n",
              "          google.colab.kernel.accessAllowed ? 'block' : 'none';\n",
              "\n",
              "        async function convertToInteractive(key) {\n",
              "          const element = document.querySelector('#df-b40437f9-3c13-40bd-b5f5-b3bf1623079e');\n",
              "          const dataTable =\n",
              "            await google.colab.kernel.invokeFunction('convertToInteractive',\n",
              "                                                     [key], {});\n",
              "          if (!dataTable) return;\n",
              "\n",
              "          const docLinkHtml = 'Like what you see? Visit the ' +\n",
              "            '<a target=\"_blank\" href=https://colab.research.google.com/notebooks/data_table.ipynb>data table notebook</a>'\n",
              "            + ' to learn more about interactive tables.';\n",
              "          element.innerHTML = '';\n",
              "          dataTable['output_type'] = 'display_data';\n",
              "          await google.colab.output.renderOutput(dataTable, element);\n",
              "          const docLink = document.createElement('div');\n",
              "          docLink.innerHTML = docLinkHtml;\n",
              "          element.appendChild(docLink);\n",
              "        }\n",
              "      </script>\n",
              "    </div>\n",
              "  </div>\n",
              "  "
            ]
          },
          "metadata": {},
          "execution_count": 65
        }
      ]
    },
    {
      "cell_type": "code",
      "source": [
        "# Create features/labels\n",
        "X = insurance_one_hot.drop(\"charges\", axis=1) # our explanatory variables (all cols except charges)\n",
        "y = insurance_one_hot[\"charges\"] # charges is what we are trying to predict (response variable)"
      ],
      "metadata": {
        "id": "L1szP88vnc5f"
      },
      "execution_count": null,
      "outputs": []
    },
    {
      "cell_type": "code",
      "source": [
        "y.head()"
      ],
      "metadata": {
        "colab": {
          "base_uri": "https://localhost:8080/"
        },
        "id": "RjRyKT2Sn6Dx",
        "outputId": "224f2ea7-a4cc-4b49-f898-078a33f31315"
      },
      "execution_count": null,
      "outputs": [
        {
          "output_type": "execute_result",
          "data": {
            "text/plain": [
              "0    16884.92400\n",
              "1     1725.55230\n",
              "2     4449.46200\n",
              "3    21984.47061\n",
              "4     3866.85520\n",
              "Name: charges, dtype: float64"
            ]
          },
          "metadata": {},
          "execution_count": 69
        }
      ]
    },
    {
      "cell_type": "code",
      "source": [
        "X.head()"
      ],
      "metadata": {
        "colab": {
          "base_uri": "https://localhost:8080/",
          "height": 270
        },
        "id": "M6PoS8e3oBsC",
        "outputId": "6ded2054-23e1-4155-8b51-f2d0480ff2a9"
      },
      "execution_count": null,
      "outputs": [
        {
          "output_type": "execute_result",
          "data": {
            "text/plain": [
              "   age     bmi  children  sex_female  sex_male  smoker_no  smoker_yes  \\\n",
              "0   19  27.900         0           1         0          0           1   \n",
              "1   18  33.770         1           0         1          1           0   \n",
              "2   28  33.000         3           0         1          1           0   \n",
              "3   33  22.705         0           0         1          1           0   \n",
              "4   32  28.880         0           0         1          1           0   \n",
              "\n",
              "   region_northeast  region_northwest  region_southeast  region_southwest  \n",
              "0                 0                 0                 0                 1  \n",
              "1                 0                 0                 1                 0  \n",
              "2                 0                 0                 1                 0  \n",
              "3                 0                 1                 0                 0  \n",
              "4                 0                 1                 0                 0  "
            ],
            "text/html": [
              "\n",
              "  <div id=\"df-d4cde667-bdb8-4898-b71e-eeb93e92c67e\">\n",
              "    <div class=\"colab-df-container\">\n",
              "      <div>\n",
              "<style scoped>\n",
              "    .dataframe tbody tr th:only-of-type {\n",
              "        vertical-align: middle;\n",
              "    }\n",
              "\n",
              "    .dataframe tbody tr th {\n",
              "        vertical-align: top;\n",
              "    }\n",
              "\n",
              "    .dataframe thead th {\n",
              "        text-align: right;\n",
              "    }\n",
              "</style>\n",
              "<table border=\"1\" class=\"dataframe\">\n",
              "  <thead>\n",
              "    <tr style=\"text-align: right;\">\n",
              "      <th></th>\n",
              "      <th>age</th>\n",
              "      <th>bmi</th>\n",
              "      <th>children</th>\n",
              "      <th>sex_female</th>\n",
              "      <th>sex_male</th>\n",
              "      <th>smoker_no</th>\n",
              "      <th>smoker_yes</th>\n",
              "      <th>region_northeast</th>\n",
              "      <th>region_northwest</th>\n",
              "      <th>region_southeast</th>\n",
              "      <th>region_southwest</th>\n",
              "    </tr>\n",
              "  </thead>\n",
              "  <tbody>\n",
              "    <tr>\n",
              "      <th>0</th>\n",
              "      <td>19</td>\n",
              "      <td>27.900</td>\n",
              "      <td>0</td>\n",
              "      <td>1</td>\n",
              "      <td>0</td>\n",
              "      <td>0</td>\n",
              "      <td>1</td>\n",
              "      <td>0</td>\n",
              "      <td>0</td>\n",
              "      <td>0</td>\n",
              "      <td>1</td>\n",
              "    </tr>\n",
              "    <tr>\n",
              "      <th>1</th>\n",
              "      <td>18</td>\n",
              "      <td>33.770</td>\n",
              "      <td>1</td>\n",
              "      <td>0</td>\n",
              "      <td>1</td>\n",
              "      <td>1</td>\n",
              "      <td>0</td>\n",
              "      <td>0</td>\n",
              "      <td>0</td>\n",
              "      <td>1</td>\n",
              "      <td>0</td>\n",
              "    </tr>\n",
              "    <tr>\n",
              "      <th>2</th>\n",
              "      <td>28</td>\n",
              "      <td>33.000</td>\n",
              "      <td>3</td>\n",
              "      <td>0</td>\n",
              "      <td>1</td>\n",
              "      <td>1</td>\n",
              "      <td>0</td>\n",
              "      <td>0</td>\n",
              "      <td>0</td>\n",
              "      <td>1</td>\n",
              "      <td>0</td>\n",
              "    </tr>\n",
              "    <tr>\n",
              "      <th>3</th>\n",
              "      <td>33</td>\n",
              "      <td>22.705</td>\n",
              "      <td>0</td>\n",
              "      <td>0</td>\n",
              "      <td>1</td>\n",
              "      <td>1</td>\n",
              "      <td>0</td>\n",
              "      <td>0</td>\n",
              "      <td>1</td>\n",
              "      <td>0</td>\n",
              "      <td>0</td>\n",
              "    </tr>\n",
              "    <tr>\n",
              "      <th>4</th>\n",
              "      <td>32</td>\n",
              "      <td>28.880</td>\n",
              "      <td>0</td>\n",
              "      <td>0</td>\n",
              "      <td>1</td>\n",
              "      <td>1</td>\n",
              "      <td>0</td>\n",
              "      <td>0</td>\n",
              "      <td>1</td>\n",
              "      <td>0</td>\n",
              "      <td>0</td>\n",
              "    </tr>\n",
              "  </tbody>\n",
              "</table>\n",
              "</div>\n",
              "      <button class=\"colab-df-convert\" onclick=\"convertToInteractive('df-d4cde667-bdb8-4898-b71e-eeb93e92c67e')\"\n",
              "              title=\"Convert this dataframe to an interactive table.\"\n",
              "              style=\"display:none;\">\n",
              "        \n",
              "  <svg xmlns=\"http://www.w3.org/2000/svg\" height=\"24px\"viewBox=\"0 0 24 24\"\n",
              "       width=\"24px\">\n",
              "    <path d=\"M0 0h24v24H0V0z\" fill=\"none\"/>\n",
              "    <path d=\"M18.56 5.44l.94 2.06.94-2.06 2.06-.94-2.06-.94-.94-2.06-.94 2.06-2.06.94zm-11 1L8.5 8.5l.94-2.06 2.06-.94-2.06-.94L8.5 2.5l-.94 2.06-2.06.94zm10 10l.94 2.06.94-2.06 2.06-.94-2.06-.94-.94-2.06-.94 2.06-2.06.94z\"/><path d=\"M17.41 7.96l-1.37-1.37c-.4-.4-.92-.59-1.43-.59-.52 0-1.04.2-1.43.59L10.3 9.45l-7.72 7.72c-.78.78-.78 2.05 0 2.83L4 21.41c.39.39.9.59 1.41.59.51 0 1.02-.2 1.41-.59l7.78-7.78 2.81-2.81c.8-.78.8-2.07 0-2.86zM5.41 20L4 18.59l7.72-7.72 1.47 1.35L5.41 20z\"/>\n",
              "  </svg>\n",
              "      </button>\n",
              "      \n",
              "  <style>\n",
              "    .colab-df-container {\n",
              "      display:flex;\n",
              "      flex-wrap:wrap;\n",
              "      gap: 12px;\n",
              "    }\n",
              "\n",
              "    .colab-df-convert {\n",
              "      background-color: #E8F0FE;\n",
              "      border: none;\n",
              "      border-radius: 50%;\n",
              "      cursor: pointer;\n",
              "      display: none;\n",
              "      fill: #1967D2;\n",
              "      height: 32px;\n",
              "      padding: 0 0 0 0;\n",
              "      width: 32px;\n",
              "    }\n",
              "\n",
              "    .colab-df-convert:hover {\n",
              "      background-color: #E2EBFA;\n",
              "      box-shadow: 0px 1px 2px rgba(60, 64, 67, 0.3), 0px 1px 3px 1px rgba(60, 64, 67, 0.15);\n",
              "      fill: #174EA6;\n",
              "    }\n",
              "\n",
              "    [theme=dark] .colab-df-convert {\n",
              "      background-color: #3B4455;\n",
              "      fill: #D2E3FC;\n",
              "    }\n",
              "\n",
              "    [theme=dark] .colab-df-convert:hover {\n",
              "      background-color: #434B5C;\n",
              "      box-shadow: 0px 1px 3px 1px rgba(0, 0, 0, 0.15);\n",
              "      filter: drop-shadow(0px 1px 2px rgba(0, 0, 0, 0.3));\n",
              "      fill: #FFFFFF;\n",
              "    }\n",
              "  </style>\n",
              "\n",
              "      <script>\n",
              "        const buttonEl =\n",
              "          document.querySelector('#df-d4cde667-bdb8-4898-b71e-eeb93e92c67e button.colab-df-convert');\n",
              "        buttonEl.style.display =\n",
              "          google.colab.kernel.accessAllowed ? 'block' : 'none';\n",
              "\n",
              "        async function convertToInteractive(key) {\n",
              "          const element = document.querySelector('#df-d4cde667-bdb8-4898-b71e-eeb93e92c67e');\n",
              "          const dataTable =\n",
              "            await google.colab.kernel.invokeFunction('convertToInteractive',\n",
              "                                                     [key], {});\n",
              "          if (!dataTable) return;\n",
              "\n",
              "          const docLinkHtml = 'Like what you see? Visit the ' +\n",
              "            '<a target=\"_blank\" href=https://colab.research.google.com/notebooks/data_table.ipynb>data table notebook</a>'\n",
              "            + ' to learn more about interactive tables.';\n",
              "          element.innerHTML = '';\n",
              "          dataTable['output_type'] = 'display_data';\n",
              "          await google.colab.output.renderOutput(dataTable, element);\n",
              "          const docLink = document.createElement('div');\n",
              "          docLink.innerHTML = docLinkHtml;\n",
              "          element.appendChild(docLink);\n",
              "        }\n",
              "      </script>\n",
              "    </div>\n",
              "  </div>\n",
              "  "
            ]
          },
          "metadata": {},
          "execution_count": 70
        }
      ]
    },
    {
      "cell_type": "code",
      "source": [
        "# training and test sets\n",
        "from sklearn.model_selection import train_test_split\n",
        "X_train, X_test, y_train, y_test = train_test_split(X, y, test_size=0.2, random_state=42)\n",
        "len(X), len(X_train), len(X_test)\n"
      ],
      "metadata": {
        "colab": {
          "base_uri": "https://localhost:8080/"
        },
        "id": "UiOG05_woE1x",
        "outputId": "ead2f334-01f8-49aa-ef45-3a4b28368f04"
      },
      "execution_count": null,
      "outputs": [
        {
          "output_type": "execute_result",
          "data": {
            "text/plain": [
              "(1338, 1070, 268)"
            ]
          },
          "metadata": {},
          "execution_count": 71
        }
      ]
    },
    {
      "cell_type": "code",
      "source": [
        "# build nueral network\n",
        "# set a random seed \n",
        "tf.random.set_seed(42)\n",
        "\n",
        "# 1. Create a model using a sequential API\n",
        "insurance_model = tf.keras.Sequential([\n",
        "    tf.keras.layers.Dense(10),      \n",
        "    tf.keras.layers.Dense(1)      \n",
        "            \n",
        "], name = \"insurance_model\")\n",
        "# 2 trainable parameters per hidden unit\n",
        "\n",
        "# 2. Compile the model\n",
        "# mae - mean abs error\n",
        "# sgd - stochasitc gradient descent\n",
        "\n",
        "insurance_model.compile(loss = tf.keras.losses.mae,\n",
        "              optimizer = tf.keras.optimizers.SGD(),\n",
        "              metrics=[\"mae\"])\n",
        "\n",
        "#3. Fit model\n",
        "insurance_model.fit(X_train, y_train ,epochs=100)\n"
      ],
      "metadata": {
        "colab": {
          "base_uri": "https://localhost:8080/"
        },
        "id": "_4IgXLQwpXFQ",
        "outputId": "a92e25fa-8c7b-42fc-a1f9-aae6bc7906e1"
      },
      "execution_count": null,
      "outputs": [
        {
          "output_type": "stream",
          "name": "stdout",
          "text": [
            "Epoch 1/100\n",
            "34/34 [==============================] - 1s 2ms/step - loss: 8637.1006 - mae: 8637.1006\n",
            "Epoch 2/100\n",
            "34/34 [==============================] - 0s 3ms/step - loss: 7886.7759 - mae: 7886.7759\n",
            "Epoch 3/100\n",
            "34/34 [==============================] - 0s 2ms/step - loss: 7558.1470 - mae: 7558.1470\n",
            "Epoch 4/100\n",
            "34/34 [==============================] - 0s 3ms/step - loss: 7792.0225 - mae: 7792.0225\n",
            "Epoch 5/100\n",
            "34/34 [==============================] - 0s 3ms/step - loss: 7748.3887 - mae: 7748.3887\n",
            "Epoch 6/100\n",
            "34/34 [==============================] - 0s 2ms/step - loss: 7595.3940 - mae: 7595.3940\n",
            "Epoch 7/100\n",
            "34/34 [==============================] - 0s 2ms/step - loss: 7589.9844 - mae: 7589.9844\n",
            "Epoch 8/100\n",
            "34/34 [==============================] - 0s 2ms/step - loss: 7698.5576 - mae: 7698.5576\n",
            "Epoch 9/100\n",
            "34/34 [==============================] - 0s 3ms/step - loss: 7496.7778 - mae: 7496.7778\n",
            "Epoch 10/100\n",
            "34/34 [==============================] - 0s 3ms/step - loss: 7493.1743 - mae: 7493.1743\n",
            "Epoch 11/100\n",
            "34/34 [==============================] - 0s 4ms/step - loss: 7769.7305 - mae: 7769.7305\n",
            "Epoch 12/100\n",
            "34/34 [==============================] - 0s 3ms/step - loss: 7706.9028 - mae: 7706.9028\n",
            "Epoch 13/100\n",
            "34/34 [==============================] - 0s 2ms/step - loss: 7687.7231 - mae: 7687.7231\n",
            "Epoch 14/100\n",
            "34/34 [==============================] - 0s 3ms/step - loss: 7689.9004 - mae: 7689.9004\n",
            "Epoch 15/100\n",
            "34/34 [==============================] - 0s 3ms/step - loss: 7393.5322 - mae: 7393.5322\n",
            "Epoch 16/100\n",
            "34/34 [==============================] - 0s 3ms/step - loss: 7780.6987 - mae: 7780.6987\n",
            "Epoch 17/100\n",
            "34/34 [==============================] - 0s 3ms/step - loss: 7578.5098 - mae: 7578.5098\n",
            "Epoch 18/100\n",
            "34/34 [==============================] - 0s 2ms/step - loss: 7750.8354 - mae: 7750.8354\n",
            "Epoch 19/100\n",
            "34/34 [==============================] - 0s 2ms/step - loss: 7739.2144 - mae: 7739.2144\n",
            "Epoch 20/100\n",
            "34/34 [==============================] - 0s 3ms/step - loss: 7875.0654 - mae: 7875.0654\n",
            "Epoch 21/100\n",
            "34/34 [==============================] - 0s 2ms/step - loss: 7466.6768 - mae: 7466.6768\n",
            "Epoch 22/100\n",
            "34/34 [==============================] - 0s 2ms/step - loss: 7941.2329 - mae: 7941.2329\n",
            "Epoch 23/100\n",
            "34/34 [==============================] - 0s 3ms/step - loss: 7640.2734 - mae: 7640.2734\n",
            "Epoch 24/100\n",
            "34/34 [==============================] - 0s 3ms/step - loss: 7539.2671 - mae: 7539.2671\n",
            "Epoch 25/100\n",
            "34/34 [==============================] - 0s 2ms/step - loss: 7619.9653 - mae: 7619.9653\n",
            "Epoch 26/100\n",
            "34/34 [==============================] - 0s 3ms/step - loss: 7644.1714 - mae: 7644.1714\n",
            "Epoch 27/100\n",
            "34/34 [==============================] - 0s 2ms/step - loss: 7709.0371 - mae: 7709.0371\n",
            "Epoch 28/100\n",
            "34/34 [==============================] - 0s 3ms/step - loss: 7366.8662 - mae: 7366.8662\n",
            "Epoch 29/100\n",
            "34/34 [==============================] - 0s 3ms/step - loss: 7444.3154 - mae: 7444.3154\n",
            "Epoch 30/100\n",
            "34/34 [==============================] - 0s 3ms/step - loss: 7616.4082 - mae: 7616.4082\n",
            "Epoch 31/100\n",
            "34/34 [==============================] - 0s 3ms/step - loss: 7686.3848 - mae: 7686.3848\n",
            "Epoch 32/100\n",
            "34/34 [==============================] - 0s 3ms/step - loss: 7548.0977 - mae: 7548.0977\n",
            "Epoch 33/100\n",
            "34/34 [==============================] - 0s 2ms/step - loss: 7501.5532 - mae: 7501.5532\n",
            "Epoch 34/100\n",
            "34/34 [==============================] - 0s 3ms/step - loss: 7363.4160 - mae: 7363.4160\n",
            "Epoch 35/100\n",
            "34/34 [==============================] - 0s 3ms/step - loss: 7295.4478 - mae: 7295.4478\n",
            "Epoch 36/100\n",
            "34/34 [==============================] - 0s 2ms/step - loss: 7569.8804 - mae: 7569.8804\n",
            "Epoch 37/100\n",
            "34/34 [==============================] - 0s 2ms/step - loss: 7548.1997 - mae: 7548.1997\n",
            "Epoch 38/100\n",
            "34/34 [==============================] - 0s 2ms/step - loss: 7424.3975 - mae: 7424.3975\n",
            "Epoch 39/100\n",
            "34/34 [==============================] - 0s 3ms/step - loss: 7529.7739 - mae: 7529.7739\n",
            "Epoch 40/100\n",
            "34/34 [==============================] - 0s 2ms/step - loss: 7467.3232 - mae: 7467.3232\n",
            "Epoch 41/100\n",
            "34/34 [==============================] - 0s 3ms/step - loss: 7635.9292 - mae: 7635.9292\n",
            "Epoch 42/100\n",
            "34/34 [==============================] - 0s 3ms/step - loss: 7536.8398 - mae: 7536.8398\n",
            "Epoch 43/100\n",
            "34/34 [==============================] - 0s 2ms/step - loss: 7616.5859 - mae: 7616.5859\n",
            "Epoch 44/100\n",
            "34/34 [==============================] - 0s 3ms/step - loss: 7439.4941 - mae: 7439.4941\n",
            "Epoch 45/100\n",
            "34/34 [==============================] - 0s 3ms/step - loss: 7538.0142 - mae: 7538.0142\n",
            "Epoch 46/100\n",
            "34/34 [==============================] - 0s 3ms/step - loss: 7415.1470 - mae: 7415.1470\n",
            "Epoch 47/100\n",
            "34/34 [==============================] - 0s 3ms/step - loss: 7420.6938 - mae: 7420.6938\n",
            "Epoch 48/100\n",
            "34/34 [==============================] - 0s 3ms/step - loss: 7509.9839 - mae: 7509.9839\n",
            "Epoch 49/100\n",
            "34/34 [==============================] - 0s 4ms/step - loss: 7541.1133 - mae: 7541.1133\n",
            "Epoch 50/100\n",
            "34/34 [==============================] - 0s 7ms/step - loss: 7467.8643 - mae: 7467.8643\n",
            "Epoch 51/100\n",
            "34/34 [==============================] - 0s 7ms/step - loss: 7389.3560 - mae: 7389.3560\n",
            "Epoch 52/100\n",
            "34/34 [==============================] - 0s 7ms/step - loss: 7499.7759 - mae: 7499.7759\n",
            "Epoch 53/100\n",
            "34/34 [==============================] - 0s 7ms/step - loss: 7523.9282 - mae: 7523.9282\n",
            "Epoch 54/100\n",
            "34/34 [==============================] - 0s 2ms/step - loss: 7243.3115 - mae: 7243.3115\n",
            "Epoch 55/100\n",
            "34/34 [==============================] - 0s 2ms/step - loss: 7429.5864 - mae: 7429.5864\n",
            "Epoch 56/100\n",
            "34/34 [==============================] - 0s 2ms/step - loss: 7313.3999 - mae: 7313.3999\n",
            "Epoch 57/100\n",
            "34/34 [==============================] - 0s 2ms/step - loss: 7526.3877 - mae: 7526.3877\n",
            "Epoch 58/100\n",
            "34/34 [==============================] - 0s 2ms/step - loss: 7542.2666 - mae: 7542.2666\n",
            "Epoch 59/100\n",
            "34/34 [==============================] - 0s 2ms/step - loss: 7576.9277 - mae: 7576.9277\n",
            "Epoch 60/100\n",
            "34/34 [==============================] - 0s 2ms/step - loss: 7546.4058 - mae: 7546.4058\n",
            "Epoch 61/100\n",
            "34/34 [==============================] - 0s 2ms/step - loss: 7351.2271 - mae: 7351.2271\n",
            "Epoch 62/100\n",
            "34/34 [==============================] - 0s 2ms/step - loss: 7302.1436 - mae: 7302.1436\n",
            "Epoch 63/100\n",
            "34/34 [==============================] - 0s 2ms/step - loss: 7393.0874 - mae: 7393.0874\n",
            "Epoch 64/100\n",
            "34/34 [==============================] - 0s 2ms/step - loss: 7442.2881 - mae: 7442.2881\n",
            "Epoch 65/100\n",
            "34/34 [==============================] - 0s 1ms/step - loss: 7492.6782 - mae: 7492.6782\n",
            "Epoch 66/100\n",
            "34/34 [==============================] - 0s 1ms/step - loss: 7561.9165 - mae: 7561.9165\n",
            "Epoch 67/100\n",
            "34/34 [==============================] - 0s 2ms/step - loss: 7340.5137 - mae: 7340.5137\n",
            "Epoch 68/100\n",
            "34/34 [==============================] - 0s 1ms/step - loss: 7496.0840 - mae: 7496.0840\n",
            "Epoch 69/100\n",
            "34/34 [==============================] - 0s 2ms/step - loss: 7617.0303 - mae: 7617.0303\n",
            "Epoch 70/100\n",
            "34/34 [==============================] - 0s 2ms/step - loss: 7641.1948 - mae: 7641.1948\n",
            "Epoch 71/100\n",
            "34/34 [==============================] - 0s 2ms/step - loss: 7084.2744 - mae: 7084.2744\n",
            "Epoch 72/100\n",
            "34/34 [==============================] - 0s 2ms/step - loss: 7240.4902 - mae: 7240.4902\n",
            "Epoch 73/100\n",
            "34/34 [==============================] - 0s 2ms/step - loss: 7283.4888 - mae: 7283.4888\n",
            "Epoch 74/100\n",
            "34/34 [==============================] - 0s 1ms/step - loss: 7335.5088 - mae: 7335.5088\n",
            "Epoch 75/100\n",
            "34/34 [==============================] - 0s 1ms/step - loss: 7275.6396 - mae: 7275.6396\n",
            "Epoch 76/100\n",
            "34/34 [==============================] - 0s 2ms/step - loss: 7313.1860 - mae: 7313.1860\n",
            "Epoch 77/100\n",
            "34/34 [==============================] - 0s 2ms/step - loss: 7485.7588 - mae: 7485.7588\n",
            "Epoch 78/100\n",
            "34/34 [==============================] - 0s 1ms/step - loss: 7352.2803 - mae: 7352.2803\n",
            "Epoch 79/100\n",
            "34/34 [==============================] - 0s 1ms/step - loss: 7520.5703 - mae: 7520.5703\n",
            "Epoch 80/100\n",
            "34/34 [==============================] - 0s 1ms/step - loss: 7279.3779 - mae: 7279.3779\n",
            "Epoch 81/100\n",
            "34/34 [==============================] - 0s 1ms/step - loss: 7273.8477 - mae: 7273.8477\n",
            "Epoch 82/100\n",
            "34/34 [==============================] - 0s 1ms/step - loss: 7176.5215 - mae: 7176.5215\n",
            "Epoch 83/100\n",
            "34/34 [==============================] - 0s 2ms/step - loss: 7425.6289 - mae: 7425.6289\n",
            "Epoch 84/100\n",
            "34/34 [==============================] - 0s 2ms/step - loss: 7403.1294 - mae: 7403.1294\n",
            "Epoch 85/100\n",
            "34/34 [==============================] - 0s 1ms/step - loss: 7356.0088 - mae: 7356.0088\n",
            "Epoch 86/100\n",
            "34/34 [==============================] - 0s 2ms/step - loss: 7484.7266 - mae: 7484.7266\n",
            "Epoch 87/100\n",
            "34/34 [==============================] - 0s 1ms/step - loss: 7217.6074 - mae: 7217.6074\n",
            "Epoch 88/100\n",
            "34/34 [==============================] - 0s 2ms/step - loss: 7261.0000 - mae: 7261.0000\n",
            "Epoch 89/100\n",
            "34/34 [==============================] - 0s 2ms/step - loss: 7134.1562 - mae: 7134.1562\n",
            "Epoch 90/100\n",
            "34/34 [==============================] - 0s 2ms/step - loss: 7083.4355 - mae: 7083.4355\n",
            "Epoch 91/100\n",
            "34/34 [==============================] - 0s 2ms/step - loss: 7254.1782 - mae: 7254.1782\n",
            "Epoch 92/100\n",
            "34/34 [==============================] - 0s 2ms/step - loss: 7268.7461 - mae: 7268.7461\n",
            "Epoch 93/100\n",
            "34/34 [==============================] - 0s 1ms/step - loss: 7470.5215 - mae: 7470.5215\n",
            "Epoch 94/100\n",
            "34/34 [==============================] - 0s 2ms/step - loss: 7210.9536 - mae: 7210.9536\n",
            "Epoch 95/100\n",
            "34/34 [==============================] - 0s 2ms/step - loss: 7395.6816 - mae: 7395.6816\n",
            "Epoch 96/100\n",
            "34/34 [==============================] - 0s 2ms/step - loss: 7328.0884 - mae: 7328.0884\n",
            "Epoch 97/100\n",
            "34/34 [==============================] - 0s 2ms/step - loss: 7230.4380 - mae: 7230.4380\n",
            "Epoch 98/100\n",
            "34/34 [==============================] - 0s 2ms/step - loss: 7261.3936 - mae: 7261.3936\n",
            "Epoch 99/100\n",
            "34/34 [==============================] - 0s 2ms/step - loss: 7342.5684 - mae: 7342.5684\n",
            "Epoch 100/100\n",
            "34/34 [==============================] - 0s 1ms/step - loss: 7106.1714 - mae: 7106.1714\n"
          ]
        },
        {
          "output_type": "execute_result",
          "data": {
            "text/plain": [
              "<keras.callbacks.History at 0x7fef34dea310>"
            ]
          },
          "metadata": {},
          "execution_count": 76
        }
      ]
    },
    {
      "cell_type": "code",
      "source": [
        "# check results of model on test data\n",
        "insurance_model.evaluate(X_test, y_test)"
      ],
      "metadata": {
        "colab": {
          "base_uri": "https://localhost:8080/"
        },
        "id": "k_xs-svOqeba",
        "outputId": "8bad556d-829b-4f44-ca30-59fbf18295c5"
      },
      "execution_count": null,
      "outputs": [
        {
          "output_type": "stream",
          "name": "stdout",
          "text": [
            "9/9 [==============================] - 0s 3ms/step - loss: 7023.3291 - mae: 7023.3291\n"
          ]
        },
        {
          "output_type": "execute_result",
          "data": {
            "text/plain": [
              "[7023.3291015625, 7023.3291015625]"
            ]
          },
          "metadata": {},
          "execution_count": 77
        }
      ]
    },
    {
      "cell_type": "code",
      "source": [
        "# mean and median similar to mae, so our model is bad and we must improve it \n",
        "y_train.median(), y_train.mean()"
      ],
      "metadata": {
        "colab": {
          "base_uri": "https://localhost:8080/"
        },
        "id": "Pv1OvB_UqtR6",
        "outputId": "3977909a-a0aa-4780-d747-e8ea8b6ff0dc"
      },
      "execution_count": null,
      "outputs": [
        {
          "output_type": "execute_result",
          "data": {
            "text/plain": [
              "(9575.4421, 13346.089736364489)"
            ]
          },
          "metadata": {},
          "execution_count": 80
        }
      ]
    },
    {
      "cell_type": "markdown",
      "source": [
        "# improving model \n",
        "-Add an extra layer with more hidden units and use the Adam optimizer\n",
        "\n",
        "-Same as above but train for longer (200 epochs)\n",
        "\n",
        "-more options\n"
      ],
      "metadata": {
        "id": "DFkXNhIGrC_I"
      }
    },
    {
      "cell_type": "code",
      "source": [
        "# build nueral network\n",
        "# set a random seed \n",
        "tf.random.set_seed(42)\n",
        "\n",
        "# 1. Create a model using a sequential API\n",
        "insurance_model2 = tf.keras.Sequential([\n",
        "    tf.keras.layers.Dense(100),\n",
        "    # when we had this with SGD we get \"nan\" losses meaning something is wrong with model (too complex for dataset)\n",
        "    tf.keras.layers.Dense(10),\n",
        "    tf.keras.layers.Dense(1)             \n",
        "], name = \"insurance_model2\")\n",
        "# 2 trainable parameters per hidden unit\n",
        "\n",
        "# 2. Compile the model\n",
        "# mae - mean abs error\n",
        "# sgd - stochasitc gradient descent\n",
        "\n",
        "insurance_model2.compile(loss = tf.keras.losses.mae,\n",
        "              optimizer = tf.keras.optimizers.Adam(),\n",
        "              metrics=[\"mae\"])\n",
        "\n",
        "#3. Fit model\n",
        "insurance_model2.fit(X_train, y_train ,epochs=100)"
      ],
      "metadata": {
        "colab": {
          "base_uri": "https://localhost:8080/"
        },
        "id": "LlHXI9zlrxz7",
        "outputId": "c570d24e-335a-4409-b4fc-fffee1280cf7"
      },
      "execution_count": null,
      "outputs": [
        {
          "output_type": "stream",
          "name": "stdout",
          "text": [
            "Epoch 1/100\n",
            "34/34 [==============================] - 1s 5ms/step - loss: 13273.1602 - mae: 13273.1602\n",
            "Epoch 2/100\n",
            "34/34 [==============================] - 0s 5ms/step - loss: 13104.4297 - mae: 13104.4297\n",
            "Epoch 3/100\n",
            "34/34 [==============================] - 0s 4ms/step - loss: 12749.5420 - mae: 12749.5420\n",
            "Epoch 4/100\n",
            "34/34 [==============================] - 0s 4ms/step - loss: 12055.7500 - mae: 12055.7500\n",
            "Epoch 5/100\n",
            "34/34 [==============================] - 0s 4ms/step - loss: 10905.8154 - mae: 10905.8154\n",
            "Epoch 6/100\n",
            "34/34 [==============================] - 0s 5ms/step - loss: 9457.7217 - mae: 9457.7217\n",
            "Epoch 7/100\n",
            "34/34 [==============================] - 0s 4ms/step - loss: 8147.6543 - mae: 8147.6543\n",
            "Epoch 8/100\n",
            "34/34 [==============================] - 0s 4ms/step - loss: 7528.8413 - mae: 7528.8413\n",
            "Epoch 9/100\n",
            "34/34 [==============================] - 0s 4ms/step - loss: 7429.1528 - mae: 7429.1528\n",
            "Epoch 10/100\n",
            "34/34 [==============================] - 0s 4ms/step - loss: 7409.0811 - mae: 7409.0811\n",
            "Epoch 11/100\n",
            "34/34 [==============================] - 0s 4ms/step - loss: 7390.8042 - mae: 7390.8042\n",
            "Epoch 12/100\n",
            "34/34 [==============================] - 0s 3ms/step - loss: 7368.9170 - mae: 7368.9170\n",
            "Epoch 13/100\n",
            "34/34 [==============================] - 0s 4ms/step - loss: 7348.5190 - mae: 7348.5190\n",
            "Epoch 14/100\n",
            "34/34 [==============================] - 0s 5ms/step - loss: 7326.4893 - mae: 7326.4893\n",
            "Epoch 15/100\n",
            "34/34 [==============================] - 0s 5ms/step - loss: 7307.5811 - mae: 7307.5811\n",
            "Epoch 16/100\n",
            "34/34 [==============================] - 0s 5ms/step - loss: 7285.7734 - mae: 7285.7734\n",
            "Epoch 17/100\n",
            "34/34 [==============================] - 0s 9ms/step - loss: 7265.7104 - mae: 7265.7104\n",
            "Epoch 18/100\n",
            "34/34 [==============================] - 0s 9ms/step - loss: 7242.5488 - mae: 7242.5488\n",
            "Epoch 19/100\n",
            "34/34 [==============================] - 0s 6ms/step - loss: 7220.5068 - mae: 7220.5068\n",
            "Epoch 20/100\n",
            "34/34 [==============================] - 0s 4ms/step - loss: 7197.1978 - mae: 7197.1978\n",
            "Epoch 21/100\n",
            "34/34 [==============================] - 0s 5ms/step - loss: 7179.0195 - mae: 7179.0195\n",
            "Epoch 22/100\n",
            "34/34 [==============================] - 0s 2ms/step - loss: 7151.2104 - mae: 7151.2104\n",
            "Epoch 23/100\n",
            "34/34 [==============================] - 0s 2ms/step - loss: 7126.4639 - mae: 7126.4639\n",
            "Epoch 24/100\n",
            "34/34 [==============================] - 0s 2ms/step - loss: 7101.9199 - mae: 7101.9199\n",
            "Epoch 25/100\n",
            "34/34 [==============================] - 0s 2ms/step - loss: 7084.3379 - mae: 7084.3379\n",
            "Epoch 26/100\n",
            "34/34 [==============================] - 0s 2ms/step - loss: 7052.3291 - mae: 7052.3291\n",
            "Epoch 27/100\n",
            "34/34 [==============================] - 0s 2ms/step - loss: 7024.3511 - mae: 7024.3511\n",
            "Epoch 28/100\n",
            "34/34 [==============================] - 0s 2ms/step - loss: 6996.6963 - mae: 6996.6963\n",
            "Epoch 29/100\n",
            "34/34 [==============================] - 0s 3ms/step - loss: 6969.0112 - mae: 6969.0112\n",
            "Epoch 30/100\n",
            "34/34 [==============================] - 0s 2ms/step - loss: 6942.1899 - mae: 6942.1899\n",
            "Epoch 31/100\n",
            "34/34 [==============================] - 0s 3ms/step - loss: 6911.7280 - mae: 6911.7280\n",
            "Epoch 32/100\n",
            "34/34 [==============================] - 0s 2ms/step - loss: 6884.0205 - mae: 6884.0205\n",
            "Epoch 33/100\n",
            "34/34 [==============================] - 0s 2ms/step - loss: 6853.4648 - mae: 6853.4648\n",
            "Epoch 34/100\n",
            "34/34 [==============================] - 0s 2ms/step - loss: 6823.0674 - mae: 6823.0674\n",
            "Epoch 35/100\n",
            "34/34 [==============================] - 0s 2ms/step - loss: 6789.6855 - mae: 6789.6855\n",
            "Epoch 36/100\n",
            "34/34 [==============================] - 0s 2ms/step - loss: 6755.7646 - mae: 6755.7646\n",
            "Epoch 37/100\n",
            "34/34 [==============================] - 0s 2ms/step - loss: 6720.2026 - mae: 6720.2026\n",
            "Epoch 38/100\n",
            "34/34 [==============================] - 0s 3ms/step - loss: 6689.7158 - mae: 6689.7158\n",
            "Epoch 39/100\n",
            "34/34 [==============================] - 0s 2ms/step - loss: 6652.4609 - mae: 6652.4609\n",
            "Epoch 40/100\n",
            "34/34 [==============================] - 0s 2ms/step - loss: 6618.1016 - mae: 6618.1016\n",
            "Epoch 41/100\n",
            "34/34 [==============================] - 0s 2ms/step - loss: 6585.8633 - mae: 6585.8633\n",
            "Epoch 42/100\n",
            "34/34 [==============================] - 0s 2ms/step - loss: 6559.4956 - mae: 6559.4956\n",
            "Epoch 43/100\n",
            "34/34 [==============================] - 0s 2ms/step - loss: 6530.0439 - mae: 6530.0439\n",
            "Epoch 44/100\n",
            "34/34 [==============================] - 0s 2ms/step - loss: 6506.8066 - mae: 6506.8066\n",
            "Epoch 45/100\n",
            "34/34 [==============================] - 0s 2ms/step - loss: 6493.5718 - mae: 6493.5718\n",
            "Epoch 46/100\n",
            "34/34 [==============================] - 0s 2ms/step - loss: 6475.9258 - mae: 6475.9258\n",
            "Epoch 47/100\n",
            "34/34 [==============================] - 0s 2ms/step - loss: 6458.8979 - mae: 6458.8979\n",
            "Epoch 48/100\n",
            "34/34 [==============================] - 0s 2ms/step - loss: 6445.1494 - mae: 6445.1494\n",
            "Epoch 49/100\n",
            "34/34 [==============================] - 0s 2ms/step - loss: 6430.9639 - mae: 6430.9639\n",
            "Epoch 50/100\n",
            "34/34 [==============================] - 0s 2ms/step - loss: 6417.7510 - mae: 6417.7510\n",
            "Epoch 51/100\n",
            "34/34 [==============================] - 0s 2ms/step - loss: 6403.2759 - mae: 6403.2759\n",
            "Epoch 52/100\n",
            "34/34 [==============================] - 0s 2ms/step - loss: 6392.4141 - mae: 6392.4141\n",
            "Epoch 53/100\n",
            "34/34 [==============================] - 0s 2ms/step - loss: 6378.7451 - mae: 6378.7451\n",
            "Epoch 54/100\n",
            "34/34 [==============================] - 0s 2ms/step - loss: 6364.9131 - mae: 6364.9131\n",
            "Epoch 55/100\n",
            "34/34 [==============================] - 0s 2ms/step - loss: 6351.5273 - mae: 6351.5273\n",
            "Epoch 56/100\n",
            "34/34 [==============================] - 0s 2ms/step - loss: 6337.6602 - mae: 6337.6602\n",
            "Epoch 57/100\n",
            "34/34 [==============================] - 0s 2ms/step - loss: 6324.8369 - mae: 6324.8369\n",
            "Epoch 58/100\n",
            "34/34 [==============================] - 0s 3ms/step - loss: 6310.1943 - mae: 6310.1943\n",
            "Epoch 59/100\n",
            "34/34 [==============================] - 0s 2ms/step - loss: 6295.6035 - mae: 6295.6035\n",
            "Epoch 60/100\n",
            "34/34 [==============================] - 0s 2ms/step - loss: 6284.8696 - mae: 6284.8696\n",
            "Epoch 61/100\n",
            "34/34 [==============================] - 0s 3ms/step - loss: 6265.6411 - mae: 6265.6411\n",
            "Epoch 62/100\n",
            "34/34 [==============================] - 0s 2ms/step - loss: 6253.0112 - mae: 6253.0112\n",
            "Epoch 63/100\n",
            "34/34 [==============================] - 0s 2ms/step - loss: 6234.9292 - mae: 6234.9292\n",
            "Epoch 64/100\n",
            "34/34 [==============================] - 0s 3ms/step - loss: 6218.0435 - mae: 6218.0435\n",
            "Epoch 65/100\n",
            "34/34 [==============================] - 0s 2ms/step - loss: 6201.1899 - mae: 6201.1899\n",
            "Epoch 66/100\n",
            "34/34 [==============================] - 0s 2ms/step - loss: 6183.9590 - mae: 6183.9590\n",
            "Epoch 67/100\n",
            "34/34 [==============================] - 0s 2ms/step - loss: 6171.2993 - mae: 6171.2993\n",
            "Epoch 68/100\n",
            "34/34 [==============================] - 0s 2ms/step - loss: 6148.8398 - mae: 6148.8398\n",
            "Epoch 69/100\n",
            "34/34 [==============================] - 0s 2ms/step - loss: 6132.5981 - mae: 6132.5981\n",
            "Epoch 70/100\n",
            "34/34 [==============================] - 0s 2ms/step - loss: 6112.3853 - mae: 6112.3853\n",
            "Epoch 71/100\n",
            "34/34 [==============================] - 0s 3ms/step - loss: 6092.7202 - mae: 6092.7202\n",
            "Epoch 72/100\n",
            "34/34 [==============================] - 0s 3ms/step - loss: 6073.7422 - mae: 6073.7422\n",
            "Epoch 73/100\n",
            "34/34 [==============================] - 0s 2ms/step - loss: 6059.4873 - mae: 6059.4873\n",
            "Epoch 74/100\n",
            "34/34 [==============================] - 0s 3ms/step - loss: 6031.3848 - mae: 6031.3848\n",
            "Epoch 75/100\n",
            "34/34 [==============================] - 0s 2ms/step - loss: 6010.3350 - mae: 6010.3350\n",
            "Epoch 76/100\n",
            "34/34 [==============================] - 0s 2ms/step - loss: 5995.2178 - mae: 5995.2178\n",
            "Epoch 77/100\n",
            "34/34 [==============================] - 0s 3ms/step - loss: 5963.0723 - mae: 5963.0723\n",
            "Epoch 78/100\n",
            "34/34 [==============================] - 0s 2ms/step - loss: 5940.0605 - mae: 5940.0605\n",
            "Epoch 79/100\n",
            "34/34 [==============================] - 0s 2ms/step - loss: 5915.1064 - mae: 5915.1064\n",
            "Epoch 80/100\n",
            "34/34 [==============================] - 0s 2ms/step - loss: 5887.9990 - mae: 5887.9990\n",
            "Epoch 81/100\n",
            "34/34 [==============================] - 0s 2ms/step - loss: 5861.6992 - mae: 5861.6992\n",
            "Epoch 82/100\n",
            "34/34 [==============================] - 0s 2ms/step - loss: 5834.3066 - mae: 5834.3066\n",
            "Epoch 83/100\n",
            "34/34 [==============================] - 0s 3ms/step - loss: 5805.8237 - mae: 5805.8237\n",
            "Epoch 84/100\n",
            "34/34 [==============================] - 0s 2ms/step - loss: 5772.3232 - mae: 5772.3232\n",
            "Epoch 85/100\n",
            "34/34 [==============================] - 0s 2ms/step - loss: 5745.1514 - mae: 5745.1514\n",
            "Epoch 86/100\n",
            "34/34 [==============================] - 0s 2ms/step - loss: 5711.3477 - mae: 5711.3477\n",
            "Epoch 87/100\n",
            "34/34 [==============================] - 0s 2ms/step - loss: 5674.5215 - mae: 5674.5215\n",
            "Epoch 88/100\n",
            "34/34 [==============================] - 0s 2ms/step - loss: 5639.4927 - mae: 5639.4927\n",
            "Epoch 89/100\n",
            "34/34 [==============================] - 0s 2ms/step - loss: 5600.6655 - mae: 5600.6655\n",
            "Epoch 90/100\n",
            "34/34 [==============================] - 0s 2ms/step - loss: 5559.4326 - mae: 5559.4326\n",
            "Epoch 91/100\n",
            "34/34 [==============================] - 0s 2ms/step - loss: 5523.6187 - mae: 5523.6187\n",
            "Epoch 92/100\n",
            "34/34 [==============================] - 0s 2ms/step - loss: 5474.1250 - mae: 5474.1250\n",
            "Epoch 93/100\n",
            "34/34 [==============================] - 0s 2ms/step - loss: 5432.2656 - mae: 5432.2656\n",
            "Epoch 94/100\n",
            "34/34 [==============================] - 0s 2ms/step - loss: 5386.0527 - mae: 5386.0527\n",
            "Epoch 95/100\n",
            "34/34 [==============================] - 0s 2ms/step - loss: 5333.1812 - mae: 5333.1812\n",
            "Epoch 96/100\n",
            "34/34 [==============================] - 0s 2ms/step - loss: 5288.8159 - mae: 5288.8159\n",
            "Epoch 97/100\n",
            "34/34 [==============================] - 0s 2ms/step - loss: 5234.6792 - mae: 5234.6792\n",
            "Epoch 98/100\n",
            "34/34 [==============================] - 0s 2ms/step - loss: 5170.9360 - mae: 5170.9360\n",
            "Epoch 99/100\n",
            "34/34 [==============================] - 0s 2ms/step - loss: 5112.9443 - mae: 5112.9443\n",
            "Epoch 100/100\n",
            "34/34 [==============================] - 0s 2ms/step - loss: 5059.8643 - mae: 5059.8643\n"
          ]
        },
        {
          "output_type": "execute_result",
          "data": {
            "text/plain": [
              "<keras.callbacks.History at 0x7fef36f85990>"
            ]
          },
          "metadata": {},
          "execution_count": 85
        }
      ]
    },
    {
      "cell_type": "code",
      "source": [
        "insurance_model2.evaluate(X_test, y_test)"
      ],
      "metadata": {
        "colab": {
          "base_uri": "https://localhost:8080/"
        },
        "id": "BnAUohmJs8We",
        "outputId": "bd8fa7bb-678c-46e7-9258-d69509bed30a"
      },
      "execution_count": null,
      "outputs": [
        {
          "output_type": "stream",
          "name": "stdout",
          "text": [
            "9/9 [==============================] - 0s 2ms/step - loss: 4924.3477 - mae: 4924.3477\n"
          ]
        },
        {
          "output_type": "execute_result",
          "data": {
            "text/plain": [
              "[4924.34765625, 4924.34765625]"
            ]
          },
          "metadata": {},
          "execution_count": 86
        }
      ]
    },
    {
      "cell_type": "code",
      "source": [
        "# build nueral network\n",
        "# set a random seed \n",
        "tf.random.set_seed(42)\n",
        "\n",
        "# 1. Create a model using a sequential API\n",
        "insurance_model3 = tf.keras.Sequential([\n",
        "    tf.keras.layers.Dense(100),\n",
        "    # when we had this with SGD we get \"nan\" losses meaning something is wrong with model (too complex for dataset)\n",
        "    tf.keras.layers.Dense(10),\n",
        "    tf.keras.layers.Dense(1)             \n",
        "], name = \"insurance_model3\")\n",
        "# 2 trainable parameters per hidden unit\n",
        "\n",
        "# 2. Compile the model\n",
        "# mae - mean abs error\n",
        "# sgd - stochasitc gradient descent\n",
        "\n",
        "insurance_model3.compile(loss = tf.keras.losses.mae,\n",
        "              optimizer = tf.keras.optimizers.Adam(),\n",
        "              metrics=[\"mae\"])\n",
        "\n",
        "#3. Fit model\n",
        "history = insurance_model3.fit(X_train, y_train ,epochs=200)"
      ],
      "metadata": {
        "colab": {
          "base_uri": "https://localhost:8080/"
        },
        "id": "VhGSCmOYtCsM",
        "outputId": "c0e8ff13-53b3-4440-c0b0-0868828d59c6"
      },
      "execution_count": null,
      "outputs": [
        {
          "output_type": "stream",
          "name": "stdout",
          "text": [
            "Epoch 1/200\n",
            "34/34 [==============================] - 1s 6ms/step - loss: 13273.1602 - mae: 13273.1602\n",
            "Epoch 2/200\n",
            "34/34 [==============================] - 0s 5ms/step - loss: 13104.4297 - mae: 13104.4297\n",
            "Epoch 3/200\n",
            "34/34 [==============================] - 0s 8ms/step - loss: 12749.5420 - mae: 12749.5420\n",
            "Epoch 4/200\n",
            "34/34 [==============================] - 0s 5ms/step - loss: 12055.7500 - mae: 12055.7500\n",
            "Epoch 5/200\n",
            "34/34 [==============================] - 0s 5ms/step - loss: 10905.8154 - mae: 10905.8154\n",
            "Epoch 6/200\n",
            "34/34 [==============================] - 0s 7ms/step - loss: 9457.7217 - mae: 9457.7217\n",
            "Epoch 7/200\n",
            "34/34 [==============================] - 0s 4ms/step - loss: 8147.6543 - mae: 8147.6543\n",
            "Epoch 8/200\n",
            "34/34 [==============================] - 0s 4ms/step - loss: 7528.8413 - mae: 7528.8413\n",
            "Epoch 9/200\n",
            "34/34 [==============================] - 0s 5ms/step - loss: 7429.1528 - mae: 7429.1528\n",
            "Epoch 10/200\n",
            "34/34 [==============================] - 0s 4ms/step - loss: 7409.0811 - mae: 7409.0811\n",
            "Epoch 11/200\n",
            "34/34 [==============================] - 0s 5ms/step - loss: 7390.8042 - mae: 7390.8042\n",
            "Epoch 12/200\n",
            "34/34 [==============================] - 0s 5ms/step - loss: 7368.9170 - mae: 7368.9170\n",
            "Epoch 13/200\n",
            "34/34 [==============================] - 0s 4ms/step - loss: 7348.5190 - mae: 7348.5190\n",
            "Epoch 14/200\n",
            "34/34 [==============================] - 0s 5ms/step - loss: 7326.4893 - mae: 7326.4893\n",
            "Epoch 15/200\n",
            "34/34 [==============================] - 0s 4ms/step - loss: 7307.5811 - mae: 7307.5811\n",
            "Epoch 16/200\n",
            "34/34 [==============================] - 0s 5ms/step - loss: 7285.7734 - mae: 7285.7734\n",
            "Epoch 17/200\n",
            "34/34 [==============================] - 0s 3ms/step - loss: 7265.7104 - mae: 7265.7104\n",
            "Epoch 18/200\n",
            "34/34 [==============================] - 0s 5ms/step - loss: 7242.5488 - mae: 7242.5488\n",
            "Epoch 19/200\n",
            "34/34 [==============================] - 0s 7ms/step - loss: 7220.5068 - mae: 7220.5068\n",
            "Epoch 20/200\n",
            "34/34 [==============================] - 0s 5ms/step - loss: 7197.1978 - mae: 7197.1978\n",
            "Epoch 21/200\n",
            "34/34 [==============================] - 0s 3ms/step - loss: 7179.0195 - mae: 7179.0195\n",
            "Epoch 22/200\n",
            "34/34 [==============================] - 0s 3ms/step - loss: 7151.2104 - mae: 7151.2104\n",
            "Epoch 23/200\n",
            "34/34 [==============================] - 0s 5ms/step - loss: 7126.4639 - mae: 7126.4639\n",
            "Epoch 24/200\n",
            "34/34 [==============================] - 0s 6ms/step - loss: 7101.9199 - mae: 7101.9199\n",
            "Epoch 25/200\n",
            "34/34 [==============================] - 0s 6ms/step - loss: 7084.3379 - mae: 7084.3379\n",
            "Epoch 26/200\n",
            "34/34 [==============================] - 0s 4ms/step - loss: 7052.3291 - mae: 7052.3291\n",
            "Epoch 27/200\n",
            "34/34 [==============================] - 0s 5ms/step - loss: 7024.3511 - mae: 7024.3511\n",
            "Epoch 28/200\n",
            "34/34 [==============================] - 0s 6ms/step - loss: 6996.6963 - mae: 6996.6963\n",
            "Epoch 29/200\n",
            "34/34 [==============================] - 0s 3ms/step - loss: 6969.0112 - mae: 6969.0112\n",
            "Epoch 30/200\n",
            "34/34 [==============================] - 0s 5ms/step - loss: 6942.1899 - mae: 6942.1899\n",
            "Epoch 31/200\n",
            "34/34 [==============================] - 0s 4ms/step - loss: 6911.7280 - mae: 6911.7280\n",
            "Epoch 32/200\n",
            "34/34 [==============================] - 0s 5ms/step - loss: 6884.0205 - mae: 6884.0205\n",
            "Epoch 33/200\n",
            "34/34 [==============================] - 0s 4ms/step - loss: 6853.4648 - mae: 6853.4648\n",
            "Epoch 34/200\n",
            "34/34 [==============================] - 0s 6ms/step - loss: 6823.0674 - mae: 6823.0674\n",
            "Epoch 35/200\n",
            "34/34 [==============================] - 0s 5ms/step - loss: 6789.6855 - mae: 6789.6855\n",
            "Epoch 36/200\n",
            "34/34 [==============================] - 0s 4ms/step - loss: 6755.7646 - mae: 6755.7646\n",
            "Epoch 37/200\n",
            "34/34 [==============================] - 0s 4ms/step - loss: 6720.2026 - mae: 6720.2026\n",
            "Epoch 38/200\n",
            "34/34 [==============================] - 0s 4ms/step - loss: 6689.7158 - mae: 6689.7158\n",
            "Epoch 39/200\n",
            "34/34 [==============================] - 0s 3ms/step - loss: 6652.4609 - mae: 6652.4609\n",
            "Epoch 40/200\n",
            "34/34 [==============================] - 0s 5ms/step - loss: 6618.1016 - mae: 6618.1016\n",
            "Epoch 41/200\n",
            "34/34 [==============================] - 0s 5ms/step - loss: 6585.8633 - mae: 6585.8633\n",
            "Epoch 42/200\n",
            "34/34 [==============================] - 0s 4ms/step - loss: 6559.4956 - mae: 6559.4956\n",
            "Epoch 43/200\n",
            "34/34 [==============================] - 0s 5ms/step - loss: 6530.0439 - mae: 6530.0439\n",
            "Epoch 44/200\n",
            "34/34 [==============================] - 0s 4ms/step - loss: 6506.8066 - mae: 6506.8066\n",
            "Epoch 45/200\n",
            "34/34 [==============================] - 0s 4ms/step - loss: 6493.5718 - mae: 6493.5718\n",
            "Epoch 46/200\n",
            "34/34 [==============================] - 0s 3ms/step - loss: 6475.9258 - mae: 6475.9258\n",
            "Epoch 47/200\n",
            "34/34 [==============================] - 0s 5ms/step - loss: 6458.8979 - mae: 6458.8979\n",
            "Epoch 48/200\n",
            "34/34 [==============================] - 0s 4ms/step - loss: 6445.1494 - mae: 6445.1494\n",
            "Epoch 49/200\n",
            "34/34 [==============================] - 0s 5ms/step - loss: 6430.9639 - mae: 6430.9639\n",
            "Epoch 50/200\n",
            "34/34 [==============================] - 0s 4ms/step - loss: 6417.7510 - mae: 6417.7510\n",
            "Epoch 51/200\n",
            "34/34 [==============================] - 0s 4ms/step - loss: 6403.2759 - mae: 6403.2759\n",
            "Epoch 52/200\n",
            "34/34 [==============================] - 0s 6ms/step - loss: 6392.4141 - mae: 6392.4141\n",
            "Epoch 53/200\n",
            "34/34 [==============================] - 0s 5ms/step - loss: 6378.7451 - mae: 6378.7451\n",
            "Epoch 54/200\n",
            "34/34 [==============================] - 0s 5ms/step - loss: 6364.9131 - mae: 6364.9131\n",
            "Epoch 55/200\n",
            "34/34 [==============================] - 0s 4ms/step - loss: 6351.5273 - mae: 6351.5273\n",
            "Epoch 56/200\n",
            "34/34 [==============================] - 0s 4ms/step - loss: 6337.6602 - mae: 6337.6602\n",
            "Epoch 57/200\n",
            "34/34 [==============================] - 0s 5ms/step - loss: 6324.8369 - mae: 6324.8369\n",
            "Epoch 58/200\n",
            "34/34 [==============================] - 0s 6ms/step - loss: 6310.1943 - mae: 6310.1943\n",
            "Epoch 59/200\n",
            "34/34 [==============================] - 0s 4ms/step - loss: 6295.6035 - mae: 6295.6035\n",
            "Epoch 60/200\n",
            "34/34 [==============================] - 0s 4ms/step - loss: 6284.8696 - mae: 6284.8696\n",
            "Epoch 61/200\n",
            "34/34 [==============================] - 0s 3ms/step - loss: 6265.6411 - mae: 6265.6411\n",
            "Epoch 62/200\n",
            "34/34 [==============================] - 0s 4ms/step - loss: 6253.0112 - mae: 6253.0112\n",
            "Epoch 63/200\n",
            "34/34 [==============================] - 0s 6ms/step - loss: 6234.9292 - mae: 6234.9292\n",
            "Epoch 64/200\n",
            "34/34 [==============================] - 0s 5ms/step - loss: 6218.0435 - mae: 6218.0435\n",
            "Epoch 65/200\n",
            "34/34 [==============================] - 0s 4ms/step - loss: 6201.1899 - mae: 6201.1899\n",
            "Epoch 66/200\n",
            "34/34 [==============================] - 0s 4ms/step - loss: 6183.9590 - mae: 6183.9590\n",
            "Epoch 67/200\n",
            "34/34 [==============================] - 0s 7ms/step - loss: 6171.2993 - mae: 6171.2993\n",
            "Epoch 68/200\n",
            "34/34 [==============================] - 0s 8ms/step - loss: 6148.8398 - mae: 6148.8398\n",
            "Epoch 69/200\n",
            "34/34 [==============================] - 0s 8ms/step - loss: 6132.5981 - mae: 6132.5981\n",
            "Epoch 70/200\n",
            "34/34 [==============================] - 0s 8ms/step - loss: 6112.3853 - mae: 6112.3853\n",
            "Epoch 71/200\n",
            "34/34 [==============================] - 0s 8ms/step - loss: 6092.7202 - mae: 6092.7202\n",
            "Epoch 72/200\n",
            "34/34 [==============================] - 0s 6ms/step - loss: 6073.7422 - mae: 6073.7422\n",
            "Epoch 73/200\n",
            "34/34 [==============================] - 0s 5ms/step - loss: 6059.4873 - mae: 6059.4873\n",
            "Epoch 74/200\n",
            "34/34 [==============================] - 0s 5ms/step - loss: 6031.3848 - mae: 6031.3848\n",
            "Epoch 75/200\n",
            "34/34 [==============================] - 0s 5ms/step - loss: 6010.3350 - mae: 6010.3350\n",
            "Epoch 76/200\n",
            "34/34 [==============================] - 0s 4ms/step - loss: 5995.2178 - mae: 5995.2178\n",
            "Epoch 77/200\n",
            "34/34 [==============================] - 0s 4ms/step - loss: 5963.0723 - mae: 5963.0723\n",
            "Epoch 78/200\n",
            "34/34 [==============================] - 0s 4ms/step - loss: 5940.0605 - mae: 5940.0605\n",
            "Epoch 79/200\n",
            "34/34 [==============================] - 0s 2ms/step - loss: 5915.1064 - mae: 5915.1064\n",
            "Epoch 80/200\n",
            "34/34 [==============================] - 0s 3ms/step - loss: 5887.9990 - mae: 5887.9990\n",
            "Epoch 81/200\n",
            "34/34 [==============================] - 0s 2ms/step - loss: 5861.6992 - mae: 5861.6992\n",
            "Epoch 82/200\n",
            "34/34 [==============================] - 0s 2ms/step - loss: 5834.3066 - mae: 5834.3066\n",
            "Epoch 83/200\n",
            "34/34 [==============================] - 0s 2ms/step - loss: 5805.8237 - mae: 5805.8237\n",
            "Epoch 84/200\n",
            "34/34 [==============================] - 0s 2ms/step - loss: 5772.3232 - mae: 5772.3232\n",
            "Epoch 85/200\n",
            "34/34 [==============================] - 0s 2ms/step - loss: 5745.1514 - mae: 5745.1514\n",
            "Epoch 86/200\n",
            "34/34 [==============================] - 0s 3ms/step - loss: 5711.3477 - mae: 5711.3477\n",
            "Epoch 87/200\n",
            "34/34 [==============================] - 0s 2ms/step - loss: 5674.5215 - mae: 5674.5215\n",
            "Epoch 88/200\n",
            "34/34 [==============================] - 0s 2ms/step - loss: 5639.4927 - mae: 5639.4927\n",
            "Epoch 89/200\n",
            "34/34 [==============================] - 0s 2ms/step - loss: 5600.6655 - mae: 5600.6655\n",
            "Epoch 90/200\n",
            "34/34 [==============================] - 0s 3ms/step - loss: 5559.4326 - mae: 5559.4326\n",
            "Epoch 91/200\n",
            "34/34 [==============================] - 0s 3ms/step - loss: 5523.6187 - mae: 5523.6187\n",
            "Epoch 92/200\n",
            "34/34 [==============================] - 0s 2ms/step - loss: 5474.1250 - mae: 5474.1250\n",
            "Epoch 93/200\n",
            "34/34 [==============================] - 0s 2ms/step - loss: 5432.2656 - mae: 5432.2656\n",
            "Epoch 94/200\n",
            "34/34 [==============================] - 0s 2ms/step - loss: 5386.0527 - mae: 5386.0527\n",
            "Epoch 95/200\n",
            "34/34 [==============================] - 0s 2ms/step - loss: 5333.1812 - mae: 5333.1812\n",
            "Epoch 96/200\n",
            "34/34 [==============================] - 0s 2ms/step - loss: 5288.8159 - mae: 5288.8159\n",
            "Epoch 97/200\n",
            "34/34 [==============================] - 0s 2ms/step - loss: 5234.6792 - mae: 5234.6792\n",
            "Epoch 98/200\n",
            "34/34 [==============================] - 0s 2ms/step - loss: 5170.9360 - mae: 5170.9360\n",
            "Epoch 99/200\n",
            "34/34 [==============================] - 0s 2ms/step - loss: 5112.9443 - mae: 5112.9443\n",
            "Epoch 100/200\n",
            "34/34 [==============================] - 0s 2ms/step - loss: 5059.8643 - mae: 5059.8643\n",
            "Epoch 101/200\n",
            "34/34 [==============================] - 0s 2ms/step - loss: 4987.6191 - mae: 4987.6191\n",
            "Epoch 102/200\n",
            "34/34 [==============================] - 0s 3ms/step - loss: 4915.2905 - mae: 4915.2905\n",
            "Epoch 103/200\n",
            "34/34 [==============================] - 0s 2ms/step - loss: 4847.3604 - mae: 4847.3604\n",
            "Epoch 104/200\n",
            "34/34 [==============================] - 0s 2ms/step - loss: 4768.0151 - mae: 4768.0151\n",
            "Epoch 105/200\n",
            "34/34 [==============================] - 0s 2ms/step - loss: 4683.4727 - mae: 4683.4727\n",
            "Epoch 106/200\n",
            "34/34 [==============================] - 0s 2ms/step - loss: 4600.5054 - mae: 4600.5054\n",
            "Epoch 107/200\n",
            "34/34 [==============================] - 0s 2ms/step - loss: 4513.1436 - mae: 4513.1436\n",
            "Epoch 108/200\n",
            "34/34 [==============================] - 0s 2ms/step - loss: 4422.2983 - mae: 4422.2983\n",
            "Epoch 109/200\n",
            "34/34 [==============================] - 0s 2ms/step - loss: 4339.9600 - mae: 4339.9600\n",
            "Epoch 110/200\n",
            "34/34 [==============================] - 0s 2ms/step - loss: 4254.3916 - mae: 4254.3916\n",
            "Epoch 111/200\n",
            "34/34 [==============================] - 0s 2ms/step - loss: 4173.1797 - mae: 4173.1797\n",
            "Epoch 112/200\n",
            "34/34 [==============================] - 0s 2ms/step - loss: 4102.2944 - mae: 4102.2944\n",
            "Epoch 113/200\n",
            "34/34 [==============================] - 0s 2ms/step - loss: 4031.9590 - mae: 4031.9590\n",
            "Epoch 114/200\n",
            "34/34 [==============================] - 0s 3ms/step - loss: 3986.0220 - mae: 3986.0220\n",
            "Epoch 115/200\n",
            "34/34 [==============================] - 0s 2ms/step - loss: 3943.2346 - mae: 3943.2346\n",
            "Epoch 116/200\n",
            "34/34 [==============================] - 0s 2ms/step - loss: 3918.8977 - mae: 3918.8977\n",
            "Epoch 117/200\n",
            "34/34 [==============================] - 0s 2ms/step - loss: 3895.5610 - mae: 3895.5610\n",
            "Epoch 118/200\n",
            "34/34 [==============================] - 0s 2ms/step - loss: 3869.5679 - mae: 3869.5679\n",
            "Epoch 119/200\n",
            "34/34 [==============================] - 0s 2ms/step - loss: 3850.2136 - mae: 3850.2136\n",
            "Epoch 120/200\n",
            "34/34 [==============================] - 0s 2ms/step - loss: 3834.7349 - mae: 3834.7349\n",
            "Epoch 121/200\n",
            "34/34 [==============================] - 0s 2ms/step - loss: 3827.0952 - mae: 3827.0952\n",
            "Epoch 122/200\n",
            "34/34 [==============================] - 0s 2ms/step - loss: 3821.6382 - mae: 3821.6382\n",
            "Epoch 123/200\n",
            "34/34 [==============================] - 0s 2ms/step - loss: 3813.8315 - mae: 3813.8315\n",
            "Epoch 124/200\n",
            "34/34 [==============================] - 0s 2ms/step - loss: 3805.7307 - mae: 3805.7307\n",
            "Epoch 125/200\n",
            "34/34 [==============================] - 0s 2ms/step - loss: 3794.7085 - mae: 3794.7085\n",
            "Epoch 126/200\n",
            "34/34 [==============================] - 0s 2ms/step - loss: 3804.4946 - mae: 3804.4946\n",
            "Epoch 127/200\n",
            "34/34 [==============================] - 0s 2ms/step - loss: 3796.0596 - mae: 3796.0596\n",
            "Epoch 128/200\n",
            "34/34 [==============================] - 0s 2ms/step - loss: 3791.0422 - mae: 3791.0422\n",
            "Epoch 129/200\n",
            "34/34 [==============================] - 0s 2ms/step - loss: 3800.0696 - mae: 3800.0696\n",
            "Epoch 130/200\n",
            "34/34 [==============================] - 0s 2ms/step - loss: 3788.5005 - mae: 3788.5005\n",
            "Epoch 131/200\n",
            "34/34 [==============================] - 0s 2ms/step - loss: 3780.8442 - mae: 3780.8442\n",
            "Epoch 132/200\n",
            "34/34 [==============================] - 0s 2ms/step - loss: 3774.5413 - mae: 3774.5413\n",
            "Epoch 133/200\n",
            "34/34 [==============================] - 0s 2ms/step - loss: 3771.0156 - mae: 3771.0156\n",
            "Epoch 134/200\n",
            "34/34 [==============================] - 0s 2ms/step - loss: 3769.3762 - mae: 3769.3762\n",
            "Epoch 135/200\n",
            "34/34 [==============================] - 0s 3ms/step - loss: 3766.7612 - mae: 3766.7612\n",
            "Epoch 136/200\n",
            "34/34 [==============================] - 0s 2ms/step - loss: 3765.5510 - mae: 3765.5510\n",
            "Epoch 137/200\n",
            "34/34 [==============================] - 0s 2ms/step - loss: 3774.5034 - mae: 3774.5034\n",
            "Epoch 138/200\n",
            "34/34 [==============================] - 0s 2ms/step - loss: 3785.3909 - mae: 3785.3909\n",
            "Epoch 139/200\n",
            "34/34 [==============================] - 0s 2ms/step - loss: 3761.1299 - mae: 3761.1299\n",
            "Epoch 140/200\n",
            "34/34 [==============================] - 0s 2ms/step - loss: 3764.1753 - mae: 3764.1753\n",
            "Epoch 141/200\n",
            "34/34 [==============================] - 0s 2ms/step - loss: 3763.9250 - mae: 3763.9250\n",
            "Epoch 142/200\n",
            "34/34 [==============================] - 0s 2ms/step - loss: 3762.7959 - mae: 3762.7959\n",
            "Epoch 143/200\n",
            "34/34 [==============================] - 0s 2ms/step - loss: 3754.4397 - mae: 3754.4397\n",
            "Epoch 144/200\n",
            "34/34 [==============================] - 0s 3ms/step - loss: 3750.3347 - mae: 3750.3347\n",
            "Epoch 145/200\n",
            "34/34 [==============================] - 0s 2ms/step - loss: 3750.4006 - mae: 3750.4006\n",
            "Epoch 146/200\n",
            "34/34 [==============================] - 0s 2ms/step - loss: 3755.4736 - mae: 3755.4736\n",
            "Epoch 147/200\n",
            "34/34 [==============================] - 0s 2ms/step - loss: 3750.3223 - mae: 3750.3223\n",
            "Epoch 148/200\n",
            "34/34 [==============================] - 0s 2ms/step - loss: 3758.1089 - mae: 3758.1089\n",
            "Epoch 149/200\n",
            "34/34 [==============================] - 0s 3ms/step - loss: 3743.4858 - mae: 3743.4858\n",
            "Epoch 150/200\n",
            "34/34 [==============================] - 0s 3ms/step - loss: 3738.5342 - mae: 3738.5342\n",
            "Epoch 151/200\n",
            "34/34 [==============================] - 0s 3ms/step - loss: 3740.1384 - mae: 3740.1384\n",
            "Epoch 152/200\n",
            "34/34 [==============================] - 0s 2ms/step - loss: 3742.4954 - mae: 3742.4954\n",
            "Epoch 153/200\n",
            "34/34 [==============================] - 0s 2ms/step - loss: 3744.4395 - mae: 3744.4395\n",
            "Epoch 154/200\n",
            "34/34 [==============================] - 0s 2ms/step - loss: 3737.1826 - mae: 3737.1826\n",
            "Epoch 155/200\n",
            "34/34 [==============================] - 0s 2ms/step - loss: 3737.6541 - mae: 3737.6541\n",
            "Epoch 156/200\n",
            "34/34 [==============================] - 0s 2ms/step - loss: 3737.1663 - mae: 3737.1663\n",
            "Epoch 157/200\n",
            "34/34 [==============================] - 0s 2ms/step - loss: 3733.1101 - mae: 3733.1101\n",
            "Epoch 158/200\n",
            "34/34 [==============================] - 0s 2ms/step - loss: 3729.5813 - mae: 3729.5813\n",
            "Epoch 159/200\n",
            "34/34 [==============================] - 0s 2ms/step - loss: 3725.9053 - mae: 3725.9053\n",
            "Epoch 160/200\n",
            "34/34 [==============================] - 0s 3ms/step - loss: 3733.2822 - mae: 3733.2822\n",
            "Epoch 161/200\n",
            "34/34 [==============================] - 0s 2ms/step - loss: 3728.2559 - mae: 3728.2559\n",
            "Epoch 162/200\n",
            "34/34 [==============================] - 0s 2ms/step - loss: 3724.5825 - mae: 3724.5825\n",
            "Epoch 163/200\n",
            "34/34 [==============================] - 0s 2ms/step - loss: 3723.0806 - mae: 3723.0806\n",
            "Epoch 164/200\n",
            "34/34 [==============================] - 0s 2ms/step - loss: 3726.9475 - mae: 3726.9475\n",
            "Epoch 165/200\n",
            "34/34 [==============================] - 0s 2ms/step - loss: 3716.5430 - mae: 3716.5430\n",
            "Epoch 166/200\n",
            "34/34 [==============================] - 0s 2ms/step - loss: 3721.9155 - mae: 3721.9155\n",
            "Epoch 167/200\n",
            "34/34 [==============================] - 0s 2ms/step - loss: 3721.1814 - mae: 3721.1814\n",
            "Epoch 168/200\n",
            "34/34 [==============================] - 0s 2ms/step - loss: 3715.2458 - mae: 3715.2458\n",
            "Epoch 169/200\n",
            "34/34 [==============================] - 0s 2ms/step - loss: 3713.9756 - mae: 3713.9756\n",
            "Epoch 170/200\n",
            "34/34 [==============================] - 0s 2ms/step - loss: 3707.9922 - mae: 3707.9922\n",
            "Epoch 171/200\n",
            "34/34 [==============================] - 0s 2ms/step - loss: 3707.4158 - mae: 3707.4158\n",
            "Epoch 172/200\n",
            "34/34 [==============================] - 0s 3ms/step - loss: 3710.6833 - mae: 3710.6833\n",
            "Epoch 173/200\n",
            "34/34 [==============================] - 0s 2ms/step - loss: 3703.3618 - mae: 3703.3618\n",
            "Epoch 174/200\n",
            "34/34 [==============================] - 0s 2ms/step - loss: 3710.9385 - mae: 3710.9385\n",
            "Epoch 175/200\n",
            "34/34 [==============================] - 0s 2ms/step - loss: 3713.0417 - mae: 3713.0417\n",
            "Epoch 176/200\n",
            "34/34 [==============================] - 0s 2ms/step - loss: 3705.0571 - mae: 3705.0571\n",
            "Epoch 177/200\n",
            "34/34 [==============================] - 0s 2ms/step - loss: 3698.9333 - mae: 3698.9333\n",
            "Epoch 178/200\n",
            "34/34 [==============================] - 0s 2ms/step - loss: 3697.9983 - mae: 3697.9983\n",
            "Epoch 179/200\n",
            "34/34 [==============================] - 0s 2ms/step - loss: 3704.9150 - mae: 3704.9150\n",
            "Epoch 180/200\n",
            "34/34 [==============================] - 0s 2ms/step - loss: 3710.3679 - mae: 3710.3679\n",
            "Epoch 181/200\n",
            "34/34 [==============================] - 0s 2ms/step - loss: 3696.6482 - mae: 3696.6482\n",
            "Epoch 182/200\n",
            "34/34 [==============================] - 0s 2ms/step - loss: 3692.7329 - mae: 3692.7329\n",
            "Epoch 183/200\n",
            "34/34 [==============================] - 0s 2ms/step - loss: 3691.1655 - mae: 3691.1655\n",
            "Epoch 184/200\n",
            "34/34 [==============================] - 0s 2ms/step - loss: 3699.2437 - mae: 3699.2437\n",
            "Epoch 185/200\n",
            "34/34 [==============================] - 0s 2ms/step - loss: 3693.2480 - mae: 3693.2480\n",
            "Epoch 186/200\n",
            "34/34 [==============================] - 0s 2ms/step - loss: 3696.1389 - mae: 3696.1389\n",
            "Epoch 187/200\n",
            "34/34 [==============================] - 0s 2ms/step - loss: 3687.8640 - mae: 3687.8640\n",
            "Epoch 188/200\n",
            "34/34 [==============================] - 0s 2ms/step - loss: 3693.3562 - mae: 3693.3562\n",
            "Epoch 189/200\n",
            "34/34 [==============================] - 0s 3ms/step - loss: 3682.7324 - mae: 3682.7324\n",
            "Epoch 190/200\n",
            "34/34 [==============================] - 0s 2ms/step - loss: 3683.2891 - mae: 3683.2891\n",
            "Epoch 191/200\n",
            "34/34 [==============================] - 0s 2ms/step - loss: 3697.6536 - mae: 3697.6536\n",
            "Epoch 192/200\n",
            "34/34 [==============================] - 0s 3ms/step - loss: 3684.6665 - mae: 3684.6665\n",
            "Epoch 193/200\n",
            "34/34 [==============================] - 0s 2ms/step - loss: 3675.5154 - mae: 3675.5154\n",
            "Epoch 194/200\n",
            "34/34 [==============================] - 0s 3ms/step - loss: 3676.3923 - mae: 3676.3923\n",
            "Epoch 195/200\n",
            "34/34 [==============================] - 0s 3ms/step - loss: 3672.8452 - mae: 3672.8452\n",
            "Epoch 196/200\n",
            "34/34 [==============================] - 0s 3ms/step - loss: 3682.0283 - mae: 3682.0283\n",
            "Epoch 197/200\n",
            "34/34 [==============================] - 0s 2ms/step - loss: 3665.7961 - mae: 3665.7961\n",
            "Epoch 198/200\n",
            "34/34 [==============================] - 0s 3ms/step - loss: 3671.7419 - mae: 3671.7419\n",
            "Epoch 199/200\n",
            "34/34 [==============================] - 0s 2ms/step - loss: 3680.5464 - mae: 3680.5464\n",
            "Epoch 200/200\n",
            "34/34 [==============================] - 0s 2ms/step - loss: 3665.6401 - mae: 3665.6401\n"
          ]
        }
      ]
    },
    {
      "cell_type": "code",
      "source": [
        "insurance_model3.evaluate(X_test, y_test)"
      ],
      "metadata": {
        "colab": {
          "base_uri": "https://localhost:8080/"
        },
        "id": "EABu6cuLtSny",
        "outputId": "4ac804db-f40a-4e8d-d138-14145a8447f4"
      },
      "execution_count": null,
      "outputs": [
        {
          "output_type": "stream",
          "name": "stdout",
          "text": [
            "9/9 [==============================] - 0s 4ms/step - loss: 3491.2961 - mae: 3491.2961\n"
          ]
        },
        {
          "output_type": "execute_result",
          "data": {
            "text/plain": [
              "[3491.296142578125, 3491.296142578125]"
            ]
          },
          "metadata": {},
          "execution_count": 92
        }
      ]
    },
    {
      "cell_type": "code",
      "source": [
        "# plot history (training curve)\n",
        "pd.DataFrame(history.history).plot()\n",
        "plt.ylabel(\"loss\")\n",
        "plt.xlabel(\"epochs\")"
      ],
      "metadata": {
        "colab": {
          "base_uri": "https://localhost:8080/",
          "height": 296
        },
        "id": "ZHn95tcNtn5u",
        "outputId": "a9df507f-63a0-4d13-b591-0c05b10dc7d8"
      },
      "execution_count": null,
      "outputs": [
        {
          "output_type": "execute_result",
          "data": {
            "text/plain": [
              "Text(0.5, 0, 'epochs')"
            ]
          },
          "metadata": {},
          "execution_count": 93
        },
        {
          "output_type": "display_data",
          "data": {
            "text/plain": [
              "<Figure size 432x288 with 1 Axes>"
            ],
            "image/png": "[encoded data removed]"
          },
          "metadata": {
            "needs_background": "light"
          }
        }
      ]
    },
    {
      "cell_type": "markdown",
      "source": [
        "## how much should you train for ????\n",
        "depends, but TF has a solution\n",
        "\"It's called the 'EarlyStopping Callback', which is a TensorFlow component you can add to your model to stop training once it stops improving a certain metric\""
      ],
      "metadata": {
        "id": "-z8QbyHyuZIg"
      }
    },
    {
      "cell_type": "markdown",
      "source": [
        "## preprocessing data (normalization and standardization)\n",
        "\n",
        "neural networks prefer normalization and perform better\n"
      ],
      "metadata": {
        "id": "O8F5fjjOuoLP"
      }
    },
    {
      "cell_type": "code",
      "source": [
        "insurance = pd.read_csv(\"https://raw.githubusercontent.com/stedy/Machine-Learning-with-R-datasets/master/insurance.csv\")\n",
        "insurance"
      ],
      "metadata": {
        "colab": {
          "base_uri": "https://localhost:8080/",
          "height": 424
        },
        "id": "ojFb3sZTvFaL",
        "outputId": "74fa50b0-b9af-44f9-b3e8-d0461467009c"
      },
      "execution_count": null,
      "outputs": [
        {
          "output_type": "execute_result",
          "data": {
            "text/plain": [
              "      age     sex     bmi  children smoker     region      charges\n",
              "0      19  female  27.900         0    yes  southwest  16884.92400\n",
              "1      18    male  33.770         1     no  southeast   1725.55230\n",
              "2      28    male  33.000         3     no  southeast   4449.46200\n",
              "3      33    male  22.705         0     no  northwest  21984.47061\n",
              "4      32    male  28.880         0     no  northwest   3866.85520\n",
              "...   ...     ...     ...       ...    ...        ...          ...\n",
              "1333   50    male  30.970         3     no  northwest  10600.54830\n",
              "1334   18  female  31.920         0     no  northeast   2205.98080\n",
              "1335   18  female  36.850         0     no  southeast   1629.83350\n",
              "1336   21  female  25.800         0     no  southwest   2007.94500\n",
              "1337   61  female  29.070         0    yes  northwest  29141.36030\n",
              "\n",
              "[1338 rows x 7 columns]"
            ],
            "text/html": [
              "\n",
              "  <div id=\"df-7abc7829-0ed0-4348-bec8-634762f73370\">\n",
              "    <div class=\"colab-df-container\">\n",
              "      <div>\n",
              "<style scoped>\n",
              "    .dataframe tbody tr th:only-of-type {\n",
              "        vertical-align: middle;\n",
              "    }\n",
              "\n",
              "    .dataframe tbody tr th {\n",
              "        vertical-align: top;\n",
              "    }\n",
              "\n",
              "    .dataframe thead th {\n",
              "        text-align: right;\n",
              "    }\n",
              "</style>\n",
              "<table border=\"1\" class=\"dataframe\">\n",
              "  <thead>\n",
              "    <tr style=\"text-align: right;\">\n",
              "      <th></th>\n",
              "      <th>age</th>\n",
              "      <th>sex</th>\n",
              "      <th>bmi</th>\n",
              "      <th>children</th>\n",
              "      <th>smoker</th>\n",
              "      <th>region</th>\n",
              "      <th>charges</th>\n",
              "    </tr>\n",
              "  </thead>\n",
              "  <tbody>\n",
              "    <tr>\n",
              "      <th>0</th>\n",
              "      <td>19</td>\n",
              "      <td>female</td>\n",
              "      <td>27.900</td>\n",
              "      <td>0</td>\n",
              "      <td>yes</td>\n",
              "      <td>southwest</td>\n",
              "      <td>16884.92400</td>\n",
              "    </tr>\n",
              "    <tr>\n",
              "      <th>1</th>\n",
              "      <td>18</td>\n",
              "      <td>male</td>\n",
              "      <td>33.770</td>\n",
              "      <td>1</td>\n",
              "      <td>no</td>\n",
              "      <td>southeast</td>\n",
              "      <td>1725.55230</td>\n",
              "    </tr>\n",
              "    <tr>\n",
              "      <th>2</th>\n",
              "      <td>28</td>\n",
              "      <td>male</td>\n",
              "      <td>33.000</td>\n",
              "      <td>3</td>\n",
              "      <td>no</td>\n",
              "      <td>southeast</td>\n",
              "      <td>4449.46200</td>\n",
              "    </tr>\n",
              "    <tr>\n",
              "      <th>3</th>\n",
              "      <td>33</td>\n",
              "      <td>male</td>\n",
              "      <td>22.705</td>\n",
              "      <td>0</td>\n",
              "      <td>no</td>\n",
              "      <td>northwest</td>\n",
              "      <td>21984.47061</td>\n",
              "    </tr>\n",
              "    <tr>\n",
              "      <th>4</th>\n",
              "      <td>32</td>\n",
              "      <td>male</td>\n",
              "      <td>28.880</td>\n",
              "      <td>0</td>\n",
              "      <td>no</td>\n",
              "      <td>northwest</td>\n",
              "      <td>3866.85520</td>\n",
              "    </tr>\n",
              "    <tr>\n",
              "      <th>...</th>\n",
              "      <td>...</td>\n",
              "      <td>...</td>\n",
              "      <td>...</td>\n",
              "      <td>...</td>\n",
              "      <td>...</td>\n",
              "      <td>...</td>\n",
              "      <td>...</td>\n",
              "    </tr>\n",
              "    <tr>\n",
              "      <th>1333</th>\n",
              "      <td>50</td>\n",
              "      <td>male</td>\n",
              "      <td>30.970</td>\n",
              "      <td>3</td>\n",
              "      <td>no</td>\n",
              "      <td>northwest</td>\n",
              "      <td>10600.54830</td>\n",
              "    </tr>\n",
              "    <tr>\n",
              "      <th>1334</th>\n",
              "      <td>18</td>\n",
              "      <td>female</td>\n",
              "      <td>31.920</td>\n",
              "      <td>0</td>\n",
              "      <td>no</td>\n",
              "      <td>northeast</td>\n",
              "      <td>2205.98080</td>\n",
              "    </tr>\n",
              "    <tr>\n",
              "      <th>1335</th>\n",
              "      <td>18</td>\n",
              "      <td>female</td>\n",
              "      <td>36.850</td>\n",
              "      <td>0</td>\n",
              "      <td>no</td>\n",
              "      <td>southeast</td>\n",
              "      <td>1629.83350</td>\n",
              "    </tr>\n",
              "    <tr>\n",
              "      <th>1336</th>\n",
              "      <td>21</td>\n",
              "      <td>female</td>\n",
              "      <td>25.800</td>\n",
              "      <td>0</td>\n",
              "      <td>no</td>\n",
              "      <td>southwest</td>\n",
              "      <td>2007.94500</td>\n",
              "    </tr>\n",
              "    <tr>\n",
              "      <th>1337</th>\n",
              "      <td>61</td>\n",
              "      <td>female</td>\n",
              "      <td>29.070</td>\n",
              "      <td>0</td>\n",
              "      <td>yes</td>\n",
              "      <td>northwest</td>\n",
              "      <td>29141.36030</td>\n",
              "    </tr>\n",
              "  </tbody>\n",
              "</table>\n",
              "<p>1338 rows × 7 columns</p>\n",
              "</div>\n",
              "      <button class=\"colab-df-convert\" onclick=\"convertToInteractive('df-7abc7829-0ed0-4348-bec8-634762f73370')\"\n",
              "              title=\"Convert this dataframe to an interactive table.\"\n",
              "              style=\"display:none;\">\n",
              "        \n",
              "  <svg xmlns=\"http://www.w3.org/2000/svg\" height=\"24px\"viewBox=\"0 0 24 24\"\n",
              "       width=\"24px\">\n",
              "    <path d=\"M0 0h24v24H0V0z\" fill=\"none\"/>\n",
              "    <path d=\"M18.56 5.44l.94 2.06.94-2.06 2.06-.94-2.06-.94-.94-2.06-.94 2.06-2.06.94zm-11 1L8.5 8.5l.94-2.06 2.06-.94-2.06-.94L8.5 2.5l-.94 2.06-2.06.94zm10 10l.94 2.06.94-2.06 2.06-.94-2.06-.94-.94-2.06-.94 2.06-2.06.94z\"/><path d=\"M17.41 7.96l-1.37-1.37c-.4-.4-.92-.59-1.43-.59-.52 0-1.04.2-1.43.59L10.3 9.45l-7.72 7.72c-.78.78-.78 2.05 0 2.83L4 21.41c.39.39.9.59 1.41.59.51 0 1.02-.2 1.41-.59l7.78-7.78 2.81-2.81c.8-.78.8-2.07 0-2.86zM5.41 20L4 18.59l7.72-7.72 1.47 1.35L5.41 20z\"/>\n",
              "  </svg>\n",
              "      </button>\n",
              "      \n",
              "  <style>\n",
              "    .colab-df-container {\n",
              "      display:flex;\n",
              "      flex-wrap:wrap;\n",
              "      gap: 12px;\n",
              "    }\n",
              "\n",
              "    .colab-df-convert {\n",
              "      background-color: #E8F0FE;\n",
              "      border: none;\n",
              "      border-radius: 50%;\n",
              "      cursor: pointer;\n",
              "      display: none;\n",
              "      fill: #1967D2;\n",
              "      height: 32px;\n",
              "      padding: 0 0 0 0;\n",
              "      width: 32px;\n",
              "    }\n",
              "\n",
              "    .colab-df-convert:hover {\n",
              "      background-color: #E2EBFA;\n",
              "      box-shadow: 0px 1px 2px rgba(60, 64, 67, 0.3), 0px 1px 3px 1px rgba(60, 64, 67, 0.15);\n",
              "      fill: #174EA6;\n",
              "    }\n",
              "\n",
              "    [theme=dark] .colab-df-convert {\n",
              "      background-color: #3B4455;\n",
              "      fill: #D2E3FC;\n",
              "    }\n",
              "\n",
              "    [theme=dark] .colab-df-convert:hover {\n",
              "      background-color: #434B5C;\n",
              "      box-shadow: 0px 1px 3px 1px rgba(0, 0, 0, 0.15);\n",
              "      filter: drop-shadow(0px 1px 2px rgba(0, 0, 0, 0.3));\n",
              "      fill: #FFFFFF;\n",
              "    }\n",
              "  </style>\n",
              "\n",
              "      <script>\n",
              "        const buttonEl =\n",
              "          document.querySelector('#df-7abc7829-0ed0-4348-bec8-634762f73370 button.colab-df-convert');\n",
              "        buttonEl.style.display =\n",
              "          google.colab.kernel.accessAllowed ? 'block' : 'none';\n",
              "\n",
              "        async function convertToInteractive(key) {\n",
              "          const element = document.querySelector('#df-7abc7829-0ed0-4348-bec8-634762f73370');\n",
              "          const dataTable =\n",
              "            await google.colab.kernel.invokeFunction('convertToInteractive',\n",
              "                                                     [key], {});\n",
              "          if (!dataTable) return;\n",
              "\n",
              "          const docLinkHtml = 'Like what you see? Visit the ' +\n",
              "            '<a target=\"_blank\" href=https://colab.research.google.com/notebooks/data_table.ipynb>data table notebook</a>'\n",
              "            + ' to learn more about interactive tables.';\n",
              "          element.innerHTML = '';\n",
              "          dataTable['output_type'] = 'display_data';\n",
              "          await google.colab.output.renderOutput(dataTable, element);\n",
              "          const docLink = document.createElement('div');\n",
              "          docLink.innerHTML = docLinkHtml;\n",
              "          element.appendChild(docLink);\n",
              "        }\n",
              "      </script>\n",
              "    </div>\n",
              "  </div>\n",
              "  "
            ]
          },
          "metadata": {},
          "execution_count": 94
        }
      ]
    },
    {
      "cell_type": "code",
      "source": [
        "X[\"age\"].plot(kind=\"hist\")"
      ],
      "metadata": {
        "colab": {
          "base_uri": "https://localhost:8080/",
          "height": 282
        },
        "id": "3QvHWaqq0t63",
        "outputId": "92a7bfde-e3e8-44f2-cb04-f417eff8c521"
      },
      "execution_count": null,
      "outputs": [
        {
          "output_type": "execute_result",
          "data": {
            "text/plain": [
              "<matplotlib.axes._subplots.AxesSubplot at 0x7fef2a962b90>"
            ]
          },
          "metadata": {},
          "execution_count": 95
        },
        {
          "output_type": "display_data",
          "data": {
            "text/plain": [
              "<Figure size 432x288 with 1 Axes>"
            ],
            "image/png": "[encoded data removed]"
          },
          "metadata": {
            "needs_background": "light"
          }
        }
      ]
    },
    {
      "cell_type": "code",
      "source": [
        "X[\"bmi\"].plot(kind=\"hist\")\n",
        "\n"
      ],
      "metadata": {
        "colab": {
          "base_uri": "https://localhost:8080/",
          "height": 282
        },
        "id": "b1PPc3rR04jC",
        "outputId": "f692977c-3921-4149-c735-7a03b4320c10"
      },
      "execution_count": null,
      "outputs": [
        {
          "output_type": "execute_result",
          "data": {
            "text/plain": [
              "<matplotlib.axes._subplots.AxesSubplot at 0x7fef2a8ec9d0>"
            ]
          },
          "metadata": {},
          "execution_count": 96
        },
        {
          "output_type": "display_data",
          "data": {
            "text/plain": [
              "<Figure size 432x288 with 1 Axes>"
            ],
            "image/png": "[encoded data removed]"
          },
          "metadata": {
            "needs_background": "light"
          }
        }
      ]
    },
    {
      "cell_type": "code",
      "source": [
        "X[\"children\"].value_counts()\n"
      ],
      "metadata": {
        "colab": {
          "base_uri": "https://localhost:8080/"
        },
        "id": "l3MAio6d1ACC",
        "outputId": "b6bb6fda-7bf2-41c6-fdea-606028679de9"
      },
      "execution_count": null,
      "outputs": [
        {
          "output_type": "execute_result",
          "data": {
            "text/plain": [
              "0    574\n",
              "1    324\n",
              "2    240\n",
              "3    157\n",
              "4     25\n",
              "5     18\n",
              "Name: children, dtype: int64"
            ]
          },
          "metadata": {},
          "execution_count": 98
        }
      ]
    },
    {
      "cell_type": "markdown",
      "source": [
        "![Capture.PNG](data:image/png;base64,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)"
      ],
      "metadata": {
        "id": "K9TJYDv61ejZ"
      }
    },
    {
      "cell_type": "code",
      "source": [
        "from sklearn.compose import make_column_transformer\n",
        "from sklearn.preprocessing import MinMaxScaler, OneHotEncoder \n",
        "from sklearn.model_selection import train_test_split\n",
        "\n",
        "# column transformer\n",
        "ct = make_column_transformer(\n",
        "    (MinMaxScaler(), [\"age\", \"bmi\", \"children\"]), # turn all values in these columns between 0 and 1 \n",
        "    (OneHotEncoder(handle_unknown=\"ignore\"), [\"sex\", \"smoker\", \"region\"])\n",
        ")\n",
        "\n",
        "# Create X & y\n",
        "X = insurance.drop(\"charges\", axis=1)\n",
        "y = insurance[\"charges\"]\n",
        "\n",
        "# Build our train and test sets\n",
        "X_train, X_test, y_train, y_test = train_test_split(X, y, test_size=0.2, random_state=42)\n",
        "\n",
        "# Fit the column transformer to our training data\n",
        "ct.fit(X_train)\n",
        "\n",
        "# Transform training and test data with normalization (MinMaxScaler) and OneHotEncoder\n",
        "X_train_normal = ct.transform(X_train)\n",
        "X_test_normal = ct.transform(X_test)"
      ],
      "metadata": {
        "id": "Lw6SP89k1heh"
      },
      "execution_count": null,
      "outputs": []
    },
    {
      "cell_type": "code",
      "source": [
        "X_train.loc[0]\n"
      ],
      "metadata": {
        "colab": {
          "base_uri": "https://localhost:8080/"
        },
        "id": "ZcSQYpDd4Zyy",
        "outputId": "297adb73-4957-4baa-be36-0e96e6a4f7eb"
      },
      "execution_count": null,
      "outputs": [
        {
          "output_type": "execute_result",
          "data": {
            "text/plain": [
              "age                19\n",
              "sex            female\n",
              "bmi              27.9\n",
              "children            0\n",
              "smoker            yes\n",
              "region      southwest\n",
              "Name: 0, dtype: object"
            ]
          },
          "metadata": {},
          "execution_count": 101
        }
      ]
    },
    {
      "cell_type": "code",
      "source": [
        "X_train_normal[0]\n"
      ],
      "metadata": {
        "colab": {
          "base_uri": "https://localhost:8080/"
        },
        "id": "k7Yt8jWn49Ku",
        "outputId": "71af12e8-1309-414c-f9fe-47c889c033f9"
      },
      "execution_count": null,
      "outputs": [
        {
          "output_type": "execute_result",
          "data": {
            "text/plain": [
              "array([0.60869565, 0.10734463, 0.4       , 1.        , 0.        ,\n",
              "       1.        , 0.        , 0.        , 1.        , 0.        ,\n",
              "       0.        ])"
            ]
          },
          "metadata": {},
          "execution_count": 102
        }
      ]
    },
    {
      "cell_type": "code",
      "source": [
        "X_train.shape, X_train_normal.shape\n"
      ],
      "metadata": {
        "colab": {
          "base_uri": "https://localhost:8080/"
        },
        "id": "lgPut43N4-II",
        "outputId": "a8f107e5-2496-4c09-b72a-caaf76fdea6b"
      },
      "execution_count": null,
      "outputs": [
        {
          "output_type": "execute_result",
          "data": {
            "text/plain": [
              "((1070, 6), (1070, 11))"
            ]
          },
          "metadata": {},
          "execution_count": 103
        }
      ]
    },
    {
      "cell_type": "code",
      "source": [
        "# Build a neural network model to fit on our normalized data\n",
        "tf.random.set_seed(42)\n",
        "\n",
        "# 1. Create the model\n",
        "insurance_model_4 = tf.keras.Sequential([\n",
        "  tf.keras.layers.Dense(100),\n",
        "  tf.keras.layers.Dense(10),\n",
        "  tf.keras.layers.Dense(1)                                        \n",
        "])\n",
        "\n",
        "# 2. Compile the model\n",
        "insurance_model_4.compile(loss=tf.keras.losses.mae,\n",
        "                          optimizer=tf.keras.optimizers.Adam(),\n",
        "                          metrics=[\"mae\"])\n",
        "\n",
        "# 3. Fit the model\n",
        "insurance_model_4.fit(X_train_normal, y_train, epochs=100)"
      ],
      "metadata": {
        "colab": {
          "base_uri": "https://localhost:8080/"
        },
        "id": "CNOpBZMW5PJ4",
        "outputId": "577a9982-caf8-4ce9-d77e-750bec0805f0"
      },
      "execution_count": null,
      "outputs": [
        {
          "output_type": "stream",
          "name": "stdout",
          "text": [
            "Epoch 1/100\n",
            "34/34 [==============================] - 1s 6ms/step - loss: 13342.6494 - mae: 13342.6494\n",
            "Epoch 2/100\n",
            "34/34 [==============================] - 0s 6ms/step - loss: 13333.4785 - mae: 13333.4785\n",
            "Epoch 3/100\n",
            "34/34 [==============================] - 0s 6ms/step - loss: 13312.0234 - mae: 13312.0234\n",
            "Epoch 4/100\n",
            "34/34 [==============================] - 0s 6ms/step - loss: 13267.7930 - mae: 13267.7930\n",
            "Epoch 5/100\n",
            "34/34 [==============================] - 0s 6ms/step - loss: 13189.5830 - mae: 13189.5830\n",
            "Epoch 6/100\n",
            "34/34 [==============================] - 0s 6ms/step - loss: 13066.4502 - mae: 13066.4502\n",
            "Epoch 7/100\n",
            "34/34 [==============================] - 0s 6ms/step - loss: 12888.1953 - mae: 12888.1953\n",
            "Epoch 8/100\n",
            "34/34 [==============================] - 0s 6ms/step - loss: 12644.6523 - mae: 12644.6523\n",
            "Epoch 9/100\n",
            "34/34 [==============================] - 0s 5ms/step - loss: 12325.5469 - mae: 12325.5469\n",
            "Epoch 10/100\n",
            "34/34 [==============================] - 0s 7ms/step - loss: 11925.9658 - mae: 11925.9658\n",
            "Epoch 11/100\n",
            "34/34 [==============================] - 0s 6ms/step - loss: 11454.3350 - mae: 11454.3350\n",
            "Epoch 12/100\n",
            "34/34 [==============================] - 0s 4ms/step - loss: 10949.8076 - mae: 10949.8076\n",
            "Epoch 13/100\n",
            "34/34 [==============================] - 0s 4ms/step - loss: 10448.9404 - mae: 10448.9404\n",
            "Epoch 14/100\n",
            "34/34 [==============================] - 0s 4ms/step - loss: 9951.6250 - mae: 9951.6250\n",
            "Epoch 15/100\n",
            "34/34 [==============================] - 0s 4ms/step - loss: 9482.7422 - mae: 9482.7422\n",
            "Epoch 16/100\n",
            "34/34 [==============================] - 0s 4ms/step - loss: 9066.7461 - mae: 9066.7461\n",
            "Epoch 17/100\n",
            "34/34 [==============================] - 0s 4ms/step - loss: 8721.9854 - mae: 8721.9854\n",
            "Epoch 18/100\n",
            "34/34 [==============================] - 0s 3ms/step - loss: 8441.2002 - mae: 8441.2002\n",
            "Epoch 19/100\n",
            "34/34 [==============================] - 0s 4ms/step - loss: 8227.5117 - mae: 8227.5117\n",
            "Epoch 20/100\n",
            "34/34 [==============================] - 0s 4ms/step - loss: 8081.9775 - mae: 8081.9775\n",
            "Epoch 21/100\n",
            "34/34 [==============================] - 0s 4ms/step - loss: 7973.8945 - mae: 7973.8945\n",
            "Epoch 22/100\n",
            "34/34 [==============================] - 0s 4ms/step - loss: 7899.1597 - mae: 7899.1597\n",
            "Epoch 23/100\n",
            "34/34 [==============================] - 0s 4ms/step - loss: 7840.3906 - mae: 7840.3906\n",
            "Epoch 24/100\n",
            "34/34 [==============================] - 0s 5ms/step - loss: 7787.9619 - mae: 7787.9619\n",
            "Epoch 25/100\n",
            "34/34 [==============================] - 0s 4ms/step - loss: 7749.2622 - mae: 7749.2622\n",
            "Epoch 26/100\n",
            "34/34 [==============================] - 0s 4ms/step - loss: 7697.9595 - mae: 7697.9595\n",
            "Epoch 27/100\n",
            "34/34 [==============================] - 0s 4ms/step - loss: 7656.0273 - mae: 7656.0273\n",
            "Epoch 28/100\n",
            "34/34 [==============================] - 0s 4ms/step - loss: 7613.4771 - mae: 7613.4771\n",
            "Epoch 29/100\n",
            "34/34 [==============================] - 0s 4ms/step - loss: 7570.9482 - mae: 7570.9482\n",
            "Epoch 30/100\n",
            "34/34 [==============================] - 0s 4ms/step - loss: 7527.4175 - mae: 7527.4175\n",
            "Epoch 31/100\n",
            "34/34 [==============================] - 0s 4ms/step - loss: 7483.5947 - mae: 7483.5947\n",
            "Epoch 32/100\n",
            "34/34 [==============================] - 0s 4ms/step - loss: 7439.4424 - mae: 7439.4424\n",
            "Epoch 33/100\n",
            "34/34 [==============================] - 0s 3ms/step - loss: 7395.0552 - mae: 7395.0552\n",
            "Epoch 34/100\n",
            "34/34 [==============================] - 0s 3ms/step - loss: 7346.8120 - mae: 7346.8120\n",
            "Epoch 35/100\n",
            "34/34 [==============================] - 0s 5ms/step - loss: 7300.0488 - mae: 7300.0488\n",
            "Epoch 36/100\n",
            "34/34 [==============================] - 0s 4ms/step - loss: 7249.8452 - mae: 7249.8452\n",
            "Epoch 37/100\n",
            "34/34 [==============================] - 0s 7ms/step - loss: 7199.5308 - mae: 7199.5308\n",
            "Epoch 38/100\n",
            "34/34 [==============================] - 0s 5ms/step - loss: 7148.4814 - mae: 7148.4814\n",
            "Epoch 39/100\n",
            "34/34 [==============================] - 0s 6ms/step - loss: 7093.6660 - mae: 7093.6660\n",
            "Epoch 40/100\n",
            "34/34 [==============================] - 0s 7ms/step - loss: 7038.1797 - mae: 7038.1797\n",
            "Epoch 41/100\n",
            "34/34 [==============================] - 0s 8ms/step - loss: 6981.7393 - mae: 6981.7393\n",
            "Epoch 42/100\n",
            "34/34 [==============================] - 0s 5ms/step - loss: 6922.7847 - mae: 6922.7847\n",
            "Epoch 43/100\n",
            "34/34 [==============================] - 0s 5ms/step - loss: 6860.1724 - mae: 6860.1724\n",
            "Epoch 44/100\n",
            "34/34 [==============================] - 0s 2ms/step - loss: 6793.7979 - mae: 6793.7979\n",
            "Epoch 45/100\n",
            "34/34 [==============================] - 0s 2ms/step - loss: 6726.6201 - mae: 6726.6201\n",
            "Epoch 46/100\n",
            "34/34 [==============================] - 0s 3ms/step - loss: 6657.4683 - mae: 6657.4683\n",
            "Epoch 47/100\n",
            "34/34 [==============================] - 0s 2ms/step - loss: 6586.3086 - mae: 6586.3086\n",
            "Epoch 48/100\n",
            "34/34 [==============================] - 0s 3ms/step - loss: 6507.5063 - mae: 6507.5063\n",
            "Epoch 49/100\n",
            "34/34 [==============================] - 0s 2ms/step - loss: 6428.6021 - mae: 6428.6021\n",
            "Epoch 50/100\n",
            "34/34 [==============================] - 0s 2ms/step - loss: 6342.7100 - mae: 6342.7100\n",
            "Epoch 51/100\n",
            "34/34 [==============================] - 0s 2ms/step - loss: 6258.0718 - mae: 6258.0718\n",
            "Epoch 52/100\n",
            "34/34 [==============================] - 0s 2ms/step - loss: 6164.7046 - mae: 6164.7046\n",
            "Epoch 53/100\n",
            "34/34 [==============================] - 0s 2ms/step - loss: 6068.6748 - mae: 6068.6748\n",
            "Epoch 54/100\n",
            "34/34 [==============================] - 0s 2ms/step - loss: 5970.0981 - mae: 5970.0981\n",
            "Epoch 55/100\n",
            "34/34 [==============================] - 0s 2ms/step - loss: 5862.5625 - mae: 5862.5625\n",
            "Epoch 56/100\n",
            "34/34 [==============================] - 0s 2ms/step - loss: 5753.9526 - mae: 5753.9526\n",
            "Epoch 57/100\n",
            "34/34 [==============================] - 0s 2ms/step - loss: 5638.0947 - mae: 5638.0947\n",
            "Epoch 58/100\n",
            "34/34 [==============================] - 0s 3ms/step - loss: 5519.8687 - mae: 5519.8687\n",
            "Epoch 59/100\n",
            "34/34 [==============================] - 0s 3ms/step - loss: 5401.3198 - mae: 5401.3198\n",
            "Epoch 60/100\n",
            "34/34 [==============================] - 0s 2ms/step - loss: 5277.3501 - mae: 5277.3501\n",
            "Epoch 61/100\n",
            "34/34 [==============================] - 0s 3ms/step - loss: 5149.7637 - mae: 5149.7637\n",
            "Epoch 62/100\n",
            "34/34 [==============================] - 0s 2ms/step - loss: 5019.3535 - mae: 5019.3535\n",
            "Epoch 63/100\n",
            "34/34 [==============================] - 0s 2ms/step - loss: 4889.6865 - mae: 4889.6865\n",
            "Epoch 64/100\n",
            "34/34 [==============================] - 0s 2ms/step - loss: 4756.8560 - mae: 4756.8560\n",
            "Epoch 65/100\n",
            "34/34 [==============================] - 0s 3ms/step - loss: 4629.4370 - mae: 4629.4370\n",
            "Epoch 66/100\n",
            "34/34 [==============================] - 0s 2ms/step - loss: 4503.5991 - mae: 4503.5991\n",
            "Epoch 67/100\n",
            "34/34 [==============================] - 0s 3ms/step - loss: 4392.9922 - mae: 4392.9922\n",
            "Epoch 68/100\n",
            "34/34 [==============================] - 0s 2ms/step - loss: 4284.3862 - mae: 4284.3862\n",
            "Epoch 69/100\n",
            "34/34 [==============================] - 0s 2ms/step - loss: 4182.6182 - mae: 4182.6182\n",
            "Epoch 70/100\n",
            "34/34 [==============================] - 0s 2ms/step - loss: 4089.5725 - mae: 4089.5725\n",
            "Epoch 71/100\n",
            "34/34 [==============================] - 0s 2ms/step - loss: 4003.3901 - mae: 4003.3901\n",
            "Epoch 72/100\n",
            "34/34 [==============================] - 0s 3ms/step - loss: 3929.0093 - mae: 3929.0093\n",
            "Epoch 73/100\n",
            "34/34 [==============================] - 0s 2ms/step - loss: 3866.3110 - mae: 3866.3110\n",
            "Epoch 74/100\n",
            "34/34 [==============================] - 0s 2ms/step - loss: 3813.7144 - mae: 3813.7144\n",
            "Epoch 75/100\n",
            "34/34 [==============================] - 0s 2ms/step - loss: 3773.0317 - mae: 3773.0317\n",
            "Epoch 76/100\n",
            "34/34 [==============================] - 0s 2ms/step - loss: 3744.1995 - mae: 3744.1995\n",
            "Epoch 77/100\n",
            "34/34 [==============================] - 0s 2ms/step - loss: 3719.6870 - mae: 3719.6870\n",
            "Epoch 78/100\n",
            "34/34 [==============================] - 0s 2ms/step - loss: 3702.9109 - mae: 3702.9109\n",
            "Epoch 79/100\n",
            "34/34 [==============================] - 0s 2ms/step - loss: 3691.8792 - mae: 3691.8792\n",
            "Epoch 80/100\n",
            "34/34 [==============================] - 0s 2ms/step - loss: 3682.8350 - mae: 3682.8350\n",
            "Epoch 81/100\n",
            "34/34 [==============================] - 0s 2ms/step - loss: 3676.9763 - mae: 3676.9763\n",
            "Epoch 82/100\n",
            "34/34 [==============================] - 0s 2ms/step - loss: 3673.9495 - mae: 3673.9495\n",
            "Epoch 83/100\n",
            "34/34 [==============================] - 0s 2ms/step - loss: 3667.8452 - mae: 3667.8452\n",
            "Epoch 84/100\n",
            "34/34 [==============================] - 0s 3ms/step - loss: 3664.5757 - mae: 3664.5757\n",
            "Epoch 85/100\n",
            "34/34 [==============================] - 0s 2ms/step - loss: 3661.8562 - mae: 3661.8562\n",
            "Epoch 86/100\n",
            "34/34 [==============================] - 0s 2ms/step - loss: 3660.3049 - mae: 3660.3049\n",
            "Epoch 87/100\n",
            "34/34 [==============================] - 0s 2ms/step - loss: 3657.5134 - mae: 3657.5134\n",
            "Epoch 88/100\n",
            "34/34 [==============================] - 0s 2ms/step - loss: 3655.2200 - mae: 3655.2200\n",
            "Epoch 89/100\n",
            "34/34 [==============================] - 0s 2ms/step - loss: 3653.8831 - mae: 3653.8831\n",
            "Epoch 90/100\n",
            "34/34 [==============================] - 0s 2ms/step - loss: 3652.0195 - mae: 3652.0195\n",
            "Epoch 91/100\n",
            "34/34 [==============================] - 0s 2ms/step - loss: 3648.9990 - mae: 3648.9990\n",
            "Epoch 92/100\n",
            "34/34 [==============================] - 0s 2ms/step - loss: 3648.4463 - mae: 3648.4463\n",
            "Epoch 93/100\n",
            "34/34 [==============================] - 0s 2ms/step - loss: 3646.2297 - mae: 3646.2297\n",
            "Epoch 94/100\n",
            "34/34 [==============================] - 0s 3ms/step - loss: 3644.4377 - mae: 3644.4377\n",
            "Epoch 95/100\n",
            "34/34 [==============================] - 0s 2ms/step - loss: 3645.8772 - mae: 3645.8772\n",
            "Epoch 96/100\n",
            "34/34 [==============================] - 0s 3ms/step - loss: 3642.2573 - mae: 3642.2573\n",
            "Epoch 97/100\n",
            "34/34 [==============================] - 0s 3ms/step - loss: 3640.1187 - mae: 3640.1187\n",
            "Epoch 98/100\n",
            "34/34 [==============================] - 0s 2ms/step - loss: 3638.0647 - mae: 3638.0647\n",
            "Epoch 99/100\n",
            "34/34 [==============================] - 0s 3ms/step - loss: 3637.2053 - mae: 3637.2053\n",
            "Epoch 100/100\n",
            "34/34 [==============================] - 0s 2ms/step - loss: 3636.1707 - mae: 3636.1707\n"
          ]
        },
        {
          "output_type": "execute_result",
          "data": {
            "text/plain": [
              "<keras.callbacks.History at 0x7fef2a7b9190>"
            ]
          },
          "metadata": {},
          "execution_count": 104
        }
      ]
    },
    {
      "cell_type": "code",
      "source": [
        "insurance_model_4.evaluate(X_test_normal, y_test)\n"
      ],
      "metadata": {
        "id": "ZQH02_fW5UYn",
        "outputId": "a422910a-7fb4-4051-9cb1-966c627d9744",
        "colab": {
          "base_uri": "https://localhost:8080/"
        }
      },
      "execution_count": null,
      "outputs": [
        {
          "output_type": "stream",
          "name": "stdout",
          "text": [
            "9/9 [==============================] - 0s 3ms/step - loss: 3438.7844 - mae: 3438.7844\n"
          ]
        },
        {
          "output_type": "execute_result",
          "data": {
            "text/plain": [
              "[3438.784423828125, 3438.784423828125]"
            ]
          },
          "metadata": {},
          "execution_count": 105
        }
      ]
    }
  ]
}